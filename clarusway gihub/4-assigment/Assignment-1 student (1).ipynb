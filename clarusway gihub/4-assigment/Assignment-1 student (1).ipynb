{
 "cells": [
  {
   "cell_type": "markdown",
   "metadata": {
    "id": "xSwVOspA2Zin"
   },
   "source": [
    "# WITH PANDAS AND MATPLOTLIB"
   ]
  },
  {
   "cell_type": "code",
   "execution_count": 1,
   "metadata": {
    "_cell_guid": "5fdcd462-5466-40f5-9992-dc31a9a174f2",
    "_uuid": "dab5021d92c7210270cec270470e4ae179a1de01",
    "id": "22qiZVq32Zir"
   },
   "outputs": [],
   "source": [
    "import numpy as np \n",
    "import pandas as pd\n",
    "import seaborn as sns\n",
    "import matplotlib.pyplot as plt\n",
    "from collections import Counter\n",
    "import warnings\n",
    "warnings.filterwarnings('ignore') "
   ]
  },
  {
   "cell_type": "markdown",
   "metadata": {
    "id": "Rsu0y4Ha2Zit"
   },
   "source": [
    "INSTRUCTIONS\n",
    "\n",
    "1. Number of people by gender\n",
    "1. Kill weapon\n",
    "1. Age of killed people\n",
    "1. Race of killed people\n",
    "1. Killed People According to Races (Pie Chart)\n",
    "1. Most common 15 Name or Surname of killed people\n",
    "\n",
    "<br>"
   ]
  },
  {
   "cell_type": "markdown",
   "metadata": {
    "id": "OTDjgwf53tr5"
   },
   "source": [
    "read data\n",
    "\n",
    "if didn't work you can use this parameters: encoding=\"windows-1252\""
   ]
  },
  {
   "cell_type": "code",
   "execution_count": 2,
   "metadata": {
    "_cell_guid": "abb0685f-f844-43f8-84c0-4cd54361c7bf",
    "_uuid": "9c06ed7c41db79ae9d940f2d52aeff23621b3037",
    "id": "NYz5lAPp2Ziu"
   },
   "outputs": [
    {
     "data": {
      "text/html": [
       "<div>\n",
       "<style scoped>\n",
       "    .dataframe tbody tr th:only-of-type {\n",
       "        vertical-align: middle;\n",
       "    }\n",
       "\n",
       "    .dataframe tbody tr th {\n",
       "        vertical-align: top;\n",
       "    }\n",
       "\n",
       "    .dataframe thead th {\n",
       "        text-align: right;\n",
       "    }\n",
       "</style>\n",
       "<table border=\"1\" class=\"dataframe\">\n",
       "  <thead>\n",
       "    <tr style=\"text-align: right;\">\n",
       "      <th></th>\n",
       "      <th>id</th>\n",
       "      <th>name</th>\n",
       "      <th>date</th>\n",
       "      <th>manner_of_death</th>\n",
       "      <th>armed</th>\n",
       "      <th>age</th>\n",
       "      <th>gender</th>\n",
       "      <th>race</th>\n",
       "      <th>city</th>\n",
       "      <th>state</th>\n",
       "      <th>signs_of_mental_illness</th>\n",
       "      <th>threat_level</th>\n",
       "      <th>flee</th>\n",
       "      <th>body_camera</th>\n",
       "    </tr>\n",
       "  </thead>\n",
       "  <tbody>\n",
       "    <tr>\n",
       "      <th>0</th>\n",
       "      <td>3</td>\n",
       "      <td>Tim Elliot</td>\n",
       "      <td>02/01/15</td>\n",
       "      <td>shot</td>\n",
       "      <td>gun</td>\n",
       "      <td>53.0</td>\n",
       "      <td>M</td>\n",
       "      <td>A</td>\n",
       "      <td>Shelton</td>\n",
       "      <td>WA</td>\n",
       "      <td>True</td>\n",
       "      <td>attack</td>\n",
       "      <td>Not fleeing</td>\n",
       "      <td>False</td>\n",
       "    </tr>\n",
       "    <tr>\n",
       "      <th>1</th>\n",
       "      <td>4</td>\n",
       "      <td>Lewis Lee Lembke</td>\n",
       "      <td>02/01/15</td>\n",
       "      <td>shot</td>\n",
       "      <td>gun</td>\n",
       "      <td>47.0</td>\n",
       "      <td>M</td>\n",
       "      <td>W</td>\n",
       "      <td>Aloha</td>\n",
       "      <td>OR</td>\n",
       "      <td>False</td>\n",
       "      <td>attack</td>\n",
       "      <td>Not fleeing</td>\n",
       "      <td>False</td>\n",
       "    </tr>\n",
       "    <tr>\n",
       "      <th>2</th>\n",
       "      <td>5</td>\n",
       "      <td>John Paul Quintero</td>\n",
       "      <td>03/01/15</td>\n",
       "      <td>shot and Tasered</td>\n",
       "      <td>unarmed</td>\n",
       "      <td>23.0</td>\n",
       "      <td>M</td>\n",
       "      <td>H</td>\n",
       "      <td>Wichita</td>\n",
       "      <td>KS</td>\n",
       "      <td>False</td>\n",
       "      <td>other</td>\n",
       "      <td>Not fleeing</td>\n",
       "      <td>False</td>\n",
       "    </tr>\n",
       "    <tr>\n",
       "      <th>3</th>\n",
       "      <td>8</td>\n",
       "      <td>Matthew Hoffman</td>\n",
       "      <td>04/01/15</td>\n",
       "      <td>shot</td>\n",
       "      <td>toy weapon</td>\n",
       "      <td>32.0</td>\n",
       "      <td>M</td>\n",
       "      <td>W</td>\n",
       "      <td>San Francisco</td>\n",
       "      <td>CA</td>\n",
       "      <td>True</td>\n",
       "      <td>attack</td>\n",
       "      <td>Not fleeing</td>\n",
       "      <td>False</td>\n",
       "    </tr>\n",
       "    <tr>\n",
       "      <th>4</th>\n",
       "      <td>9</td>\n",
       "      <td>Michael Rodriguez</td>\n",
       "      <td>04/01/15</td>\n",
       "      <td>shot</td>\n",
       "      <td>nail gun</td>\n",
       "      <td>39.0</td>\n",
       "      <td>M</td>\n",
       "      <td>H</td>\n",
       "      <td>Evans</td>\n",
       "      <td>CO</td>\n",
       "      <td>False</td>\n",
       "      <td>attack</td>\n",
       "      <td>Not fleeing</td>\n",
       "      <td>False</td>\n",
       "    </tr>\n",
       "    <tr>\n",
       "      <th>...</th>\n",
       "      <td>...</td>\n",
       "      <td>...</td>\n",
       "      <td>...</td>\n",
       "      <td>...</td>\n",
       "      <td>...</td>\n",
       "      <td>...</td>\n",
       "      <td>...</td>\n",
       "      <td>...</td>\n",
       "      <td>...</td>\n",
       "      <td>...</td>\n",
       "      <td>...</td>\n",
       "      <td>...</td>\n",
       "      <td>...</td>\n",
       "      <td>...</td>\n",
       "    </tr>\n",
       "    <tr>\n",
       "      <th>2530</th>\n",
       "      <td>2822</td>\n",
       "      <td>Rodney E. Jacobs</td>\n",
       "      <td>28/07/17</td>\n",
       "      <td>shot</td>\n",
       "      <td>gun</td>\n",
       "      <td>31.0</td>\n",
       "      <td>M</td>\n",
       "      <td>NaN</td>\n",
       "      <td>Kansas City</td>\n",
       "      <td>MO</td>\n",
       "      <td>False</td>\n",
       "      <td>attack</td>\n",
       "      <td>Not fleeing</td>\n",
       "      <td>False</td>\n",
       "    </tr>\n",
       "    <tr>\n",
       "      <th>2531</th>\n",
       "      <td>2813</td>\n",
       "      <td>TK TK</td>\n",
       "      <td>28/07/17</td>\n",
       "      <td>shot</td>\n",
       "      <td>vehicle</td>\n",
       "      <td>NaN</td>\n",
       "      <td>M</td>\n",
       "      <td>NaN</td>\n",
       "      <td>Albuquerque</td>\n",
       "      <td>NM</td>\n",
       "      <td>False</td>\n",
       "      <td>attack</td>\n",
       "      <td>Car</td>\n",
       "      <td>False</td>\n",
       "    </tr>\n",
       "    <tr>\n",
       "      <th>2532</th>\n",
       "      <td>2818</td>\n",
       "      <td>Dennis W. Robinson</td>\n",
       "      <td>29/07/17</td>\n",
       "      <td>shot</td>\n",
       "      <td>gun</td>\n",
       "      <td>48.0</td>\n",
       "      <td>M</td>\n",
       "      <td>NaN</td>\n",
       "      <td>Melba</td>\n",
       "      <td>ID</td>\n",
       "      <td>False</td>\n",
       "      <td>attack</td>\n",
       "      <td>Car</td>\n",
       "      <td>False</td>\n",
       "    </tr>\n",
       "    <tr>\n",
       "      <th>2533</th>\n",
       "      <td>2817</td>\n",
       "      <td>Isaiah Tucker</td>\n",
       "      <td>31/07/17</td>\n",
       "      <td>shot</td>\n",
       "      <td>vehicle</td>\n",
       "      <td>28.0</td>\n",
       "      <td>M</td>\n",
       "      <td>B</td>\n",
       "      <td>Oshkosh</td>\n",
       "      <td>WI</td>\n",
       "      <td>False</td>\n",
       "      <td>attack</td>\n",
       "      <td>Car</td>\n",
       "      <td>True</td>\n",
       "    </tr>\n",
       "    <tr>\n",
       "      <th>2534</th>\n",
       "      <td>2815</td>\n",
       "      <td>Dwayne Jeune</td>\n",
       "      <td>31/07/17</td>\n",
       "      <td>shot</td>\n",
       "      <td>knife</td>\n",
       "      <td>32.0</td>\n",
       "      <td>M</td>\n",
       "      <td>B</td>\n",
       "      <td>Brooklyn</td>\n",
       "      <td>NY</td>\n",
       "      <td>True</td>\n",
       "      <td>attack</td>\n",
       "      <td>Not fleeing</td>\n",
       "      <td>False</td>\n",
       "    </tr>\n",
       "  </tbody>\n",
       "</table>\n",
       "<p>2535 rows × 14 columns</p>\n",
       "</div>"
      ],
      "text/plain": [
       "        id                name      date   manner_of_death       armed   age  \\\n",
       "0        3          Tim Elliot  02/01/15              shot         gun  53.0   \n",
       "1        4    Lewis Lee Lembke  02/01/15              shot         gun  47.0   \n",
       "2        5  John Paul Quintero  03/01/15  shot and Tasered     unarmed  23.0   \n",
       "3        8     Matthew Hoffman  04/01/15              shot  toy weapon  32.0   \n",
       "4        9   Michael Rodriguez  04/01/15              shot    nail gun  39.0   \n",
       "...    ...                 ...       ...               ...         ...   ...   \n",
       "2530  2822    Rodney E. Jacobs  28/07/17              shot         gun  31.0   \n",
       "2531  2813               TK TK  28/07/17              shot     vehicle   NaN   \n",
       "2532  2818  Dennis W. Robinson  29/07/17              shot         gun  48.0   \n",
       "2533  2817       Isaiah Tucker  31/07/17              shot     vehicle  28.0   \n",
       "2534  2815        Dwayne Jeune  31/07/17              shot       knife  32.0   \n",
       "\n",
       "     gender race           city state  signs_of_mental_illness threat_level  \\\n",
       "0         M    A        Shelton    WA                     True       attack   \n",
       "1         M    W          Aloha    OR                    False       attack   \n",
       "2         M    H        Wichita    KS                    False        other   \n",
       "3         M    W  San Francisco    CA                     True       attack   \n",
       "4         M    H          Evans    CO                    False       attack   \n",
       "...     ...  ...            ...   ...                      ...          ...   \n",
       "2530      M  NaN    Kansas City    MO                    False       attack   \n",
       "2531      M  NaN    Albuquerque    NM                    False       attack   \n",
       "2532      M  NaN          Melba    ID                    False       attack   \n",
       "2533      M    B        Oshkosh    WI                    False       attack   \n",
       "2534      M    B       Brooklyn    NY                     True       attack   \n",
       "\n",
       "             flee  body_camera  \n",
       "0     Not fleeing        False  \n",
       "1     Not fleeing        False  \n",
       "2     Not fleeing        False  \n",
       "3     Not fleeing        False  \n",
       "4     Not fleeing        False  \n",
       "...           ...          ...  \n",
       "2530  Not fleeing        False  \n",
       "2531          Car        False  \n",
       "2532          Car        False  \n",
       "2533          Car         True  \n",
       "2534  Not fleeing        False  \n",
       "\n",
       "[2535 rows x 14 columns]"
      ]
     },
     "execution_count": 2,
     "metadata": {},
     "output_type": "execute_result"
    }
   ],
   "source": [
    "df=pd.read_csv(\"PoliceKillingsUS.csv\",encoding=\"windows-1252\")\n",
    "df"
   ]
  },
  {
   "cell_type": "markdown",
   "metadata": {
    "id": "wMFloMjW2Zi8"
   },
   "source": [
    "## 1: Plot number of people by gender"
   ]
  },
  {
   "cell_type": "code",
   "execution_count": null,
   "metadata": {
    "colab": {
     "base_uri": "https://localhost:8080/",
     "height": 307
    },
    "executionInfo": {
     "elapsed": 12,
     "status": "ok",
     "timestamp": 1622926983505,
     "user": {
      "displayName": "Thomas Rico",
      "photoUrl": "",
      "userId": "03459133432310094050"
     },
     "user_tz": -180
    },
    "id": "g73Ix7402Zi9",
    "outputId": "3cc46e86-dfdd-46ef-b738-e1f0f1dd6d82",
    "scrolled": true
   },
   "outputs": [],
   "source": []
  },
  {
   "cell_type": "code",
   "execution_count": 3,
   "metadata": {},
   "outputs": [
    {
     "data": {
      "text/plain": [
       "M    2428\n",
       "F     107\n",
       "Name: gender, dtype: int64"
      ]
     },
     "execution_count": 3,
     "metadata": {},
     "output_type": "execute_result"
    }
   ],
   "source": [
    "df.gender.value_counts()"
   ]
  },
  {
   "cell_type": "code",
   "execution_count": 5,
   "metadata": {},
   "outputs": [
    {
     "data": {
      "image/png": "[encoded data removed]",
      "text/plain": [
       "<Figure size 432x288 with 1 Axes>"
      ]
     },
     "metadata": {
      "needs_background": "light"
     },
     "output_type": "display_data"
    }
   ],
   "source": [
    "fig, ax = plt.subplots()\n",
    "x =[0,1]\n",
    "y = df.gender.value_counts().values\n",
    "ax.bar(x,y )\n",
    "ax.set_title(\"Gender Distribution\")\n",
    "for i in range(len(x)):\n",
    "    plt.text(x[i], y[i], str(y[i]), ha=\"center\",va=\"bottom\")"
   ]
  },
  {
   "cell_type": "code",
   "execution_count": 17,
   "metadata": {},
   "outputs": [
    {
     "data": {
      "image/png": "[encoded data removed]",
      "text/plain": [
       "<Figure size 432x288 with 1 Axes>"
      ]
     },
     "metadata": {
      "needs_background": "light"
     },
     "output_type": "display_data"
    }
   ],
   "source": [
    "fig,ax=plt.subplots()\n",
    "\n",
    "y=df.gender.value_counts().values\n",
    "x=df.gender.value_counts().index\n",
    "\n",
    "df.gender.value_counts().plot.bar(ax=ax)\n",
    "ax.set_title(\"Gender Distrubution\")\n",
    "for index,value in enumerate(y):\n",
    "        plt.text(index,value,str(y))"
   ]
  },
  {
   "cell_type": "code",
   "execution_count": 18,
   "metadata": {},
   "outputs": [
    {
     "data": {
      "image/png": "[encoded data removed]",
      "text/plain": [
       "<Figure size 432x288 with 1 Axes>"
      ]
     },
     "metadata": {
      "needs_background": "light"
     },
     "output_type": "display_data"
    }
   ],
   "source": [
    "fig, ax = plt.subplots()\n",
    "x = df.gender.value_counts().index\n",
    "y = df.gender.value_counts().values\n",
    "ax.bar(x,y )\n",
    "ax.set_title(\"Gender Distribution\")\n",
    "\n",
    "\n",
    "for p in ax.patches:\n",
    "    ax.annotate(str(p.get_height()), (p.get_x()+0.35, p.get_height()+20));"
   ]
  },
  {
   "cell_type": "code",
   "execution_count": 9,
   "metadata": {},
   "outputs": [
    {
     "data": {
      "text/plain": [
       "[<matplotlib.patches.Rectangle at 0x139ced80670>,\n",
       " <matplotlib.patches.Rectangle at 0x139ced80640>]"
      ]
     },
     "execution_count": 9,
     "metadata": {},
     "output_type": "execute_result"
    }
   ],
   "source": [
    "ax.patches"
   ]
  },
  {
   "cell_type": "code",
   "execution_count": 12,
   "metadata": {},
   "outputs": [
    {
     "data": {
      "text/plain": [
       "2428"
      ]
     },
     "execution_count": 12,
     "metadata": {},
     "output_type": "execute_result"
    }
   ],
   "source": [
    "ax.patches[0].get_height()  # arsayı verir"
   ]
  },
  {
   "cell_type": "code",
   "execution_count": null,
   "metadata": {},
   "outputs": [],
   "source": []
  },
  {
   "cell_type": "code",
   "execution_count": null,
   "metadata": {},
   "outputs": [],
   "source": []
  },
  {
   "cell_type": "code",
   "execution_count": null,
   "metadata": {},
   "outputs": [],
   "source": []
  },
  {
   "cell_type": "code",
   "execution_count": null,
   "metadata": {},
   "outputs": [],
   "source": [
    "df.gender.value_counts().plot()"
   ]
  },
  {
   "cell_type": "code",
   "execution_count": null,
   "metadata": {},
   "outputs": [],
   "source": [
    "df.gender.value_counts().plot(kind=\"bar\")"
   ]
  },
  {
   "cell_type": "code",
   "execution_count": null,
   "metadata": {},
   "outputs": [],
   "source": []
  },
  {
   "cell_type": "code",
   "execution_count": null,
   "metadata": {},
   "outputs": [],
   "source": []
  },
  {
   "cell_type": "code",
   "execution_count": null,
   "metadata": {},
   "outputs": [],
   "source": []
  },
  {
   "cell_type": "code",
   "execution_count": null,
   "metadata": {},
   "outputs": [],
   "source": []
  },
  {
   "cell_type": "code",
   "execution_count": null,
   "metadata": {},
   "outputs": [],
   "source": []
  },
  {
   "cell_type": "code",
   "execution_count": null,
   "metadata": {
    "colab": {
     "base_uri": "https://localhost:8080/",
     "height": 282
    },
    "executionInfo": {
     "elapsed": 472,
     "status": "ok",
     "timestamp": 1622926983971,
     "user": {
      "displayName": "Thomas Rico",
      "photoUrl": "",
      "userId": "03459133432310094050"
     },
     "user_tz": -180
    },
    "id": "9l_gl3On2Zi9",
    "outputId": "1ed7b4da-1d76-40e4-cbab-d5afba9a34aa"
   },
   "outputs": [],
   "source": [
    "# with pandas\n",
    "df.groupby(\"gender\")[\"gender\"].count().plot.bar()"
   ]
  },
  {
   "cell_type": "code",
   "execution_count": 19,
   "metadata": {
    "colab": {
     "base_uri": "https://localhost:8080/",
     "height": 283
    },
    "executionInfo": {
     "elapsed": 14,
     "status": "ok",
     "timestamp": 1622926983973,
     "user": {
      "displayName": "Thomas Rico",
      "photoUrl": "",
      "userId": "03459133432310094050"
     },
     "user_tz": -180
    },
    "id": "KtJXC38R2Zi9",
    "outputId": "99c4a881-e389-4469-984c-31d6b2bf67a2"
   },
   "outputs": [
    {
     "data": {
      "text/plain": [
       "Text(0, 0.5, 'Number')"
      ]
     },
     "execution_count": 19,
     "metadata": {},
     "output_type": "execute_result"
    },
    {
     "data": {
      "image/png": "[encoded data removed]",
      "text/plain": [
       "<Figure size 600x400 with 1 Axes>"
      ]
     },
     "metadata": {
      "needs_background": "light"
     },
     "output_type": "display_data"
    }
   ],
   "source": [
    "# with matplotlib\n",
    "plt.figure(figsize=(6,4),dpi=100)\n",
    "y=df.gender.value_counts().values\n",
    "x=df.gender.value_counts().index\n",
    "plt.bar(x,y)\n",
    "plt.title(\"Pollice\")\n",
    "#plt.text(\"index\",\"value\",str(value))\n",
    "plt.xlabel(\"Gender\")\n",
    "plt.ylabel(\"Number\")"
   ]
  },
  {
   "cell_type": "markdown",
   "metadata": {
    "id": "3CDiN8a22Zi9"
   },
   "source": [
    "## 2: Plot 7 most common kill weapons"
   ]
  },
  {
   "cell_type": "code",
   "execution_count": null,
   "metadata": {
    "colab": {
     "base_uri": "https://localhost:8080/"
    },
    "executionInfo": {
     "elapsed": 14,
     "status": "ok",
     "timestamp": 1622926983974,
     "user": {
      "displayName": "Thomas Rico",
      "photoUrl": "",
      "userId": "03459133432310094050"
     },
     "user_tz": -180
    },
    "id": "BAU2H77b2Zi9",
    "outputId": "a893d160-7464-448d-de16-6e4399c36a75"
   },
   "outputs": [],
   "source": [
    "df.head()"
   ]
  },
  {
   "cell_type": "code",
   "execution_count": 26,
   "metadata": {},
   "outputs": [],
   "source": [
    "arm=df.armed.value_counts().head(7)"
   ]
  },
  {
   "cell_type": "code",
   "execution_count": 27,
   "metadata": {},
   "outputs": [],
   "source": [
    "arm=df.armed.value_counts()[:7]"
   ]
  },
  {
   "cell_type": "code",
   "execution_count": 37,
   "metadata": {},
   "outputs": [
    {
     "data": {
      "image/png": "[encoded data removed]",
      "text/plain": [
       "<Figure size 432x288 with 1 Axes>"
      ]
     },
     "metadata": {
      "needs_background": "light"
     },
     "output_type": "display_data"
    }
   ],
   "source": [
    "fig,ax=plt.subplots()\n",
    "arm.plot(kind=\"bar\")\n",
    "plt.xticks(rotation=60)\n",
    "for p in ax.patches:\n",
    "    ax.annotate(str(p.get_height()), (p.get_x()+0.1, p.get_height()+10));"
   ]
  },
  {
   "cell_type": "code",
   "execution_count": 38,
   "metadata": {},
   "outputs": [
    {
     "data": {
      "image/png": "[encoded data removed]",
      "text/plain": [
       "<Figure size 432x288 with 1 Axes>"
      ]
     },
     "metadata": {
      "needs_background": "light"
     },
     "output_type": "display_data"
    }
   ],
   "source": [
    "# with pandas\n",
    "fig, ax = plt.subplots()\n",
    "arm.plot(kind=\"bar\", ax = ax)\n",
    "ax.set_xticklabels(arm.index, rotation = 45)\n",
    "\n",
    "for p in ax.patches:\n",
    "    ax.annotate(str(p.get_height()), (p.get_x()+0.1, p.get_height()+10));"
   ]
  },
  {
   "cell_type": "code",
   "execution_count": 39,
   "metadata": {},
   "outputs": [],
   "source": [
    "y=df.armed.value_counts()[:7].values\n",
    "x=df.armed.value_counts()[:7].index"
   ]
  },
  {
   "cell_type": "code",
   "execution_count": 44,
   "metadata": {},
   "outputs": [
    {
     "data": {
      "image/png": "[encoded data removed]",
      "text/plain": [
       "<Figure size 432x288 with 1 Axes>"
      ]
     },
     "metadata": {
      "needs_background": "light"
     },
     "output_type": "display_data"
    }
   ],
   "source": [
    "df.armed.value_counts()[:7].plot.bar()\n",
    "plt.xticks(rotation=60)\n",
    "\n",
    "for index,value in enumerate(y):\n",
    "    plt.text(index,value, str(value),ha=\"center\",va=\"bottom\")\n",
    "    "
   ]
  },
  {
   "cell_type": "code",
   "execution_count": null,
   "metadata": {
    "colab": {
     "base_uri": "https://localhost:8080/",
     "height": 379
    },
    "executionInfo": {
     "elapsed": 12,
     "status": "ok",
     "timestamp": 1622926983975,
     "user": {
      "displayName": "Thomas Rico",
      "photoUrl": "",
      "userId": "03459133432310094050"
     },
     "user_tz": -180
    },
    "id": "WznuMe522Zi-",
    "outputId": "aa03186c-558b-4fa2-f7e0-471d827565c0"
   },
   "outputs": [],
   "source": [
    "# with pandas\n"
   ]
  },
  {
   "cell_type": "code",
   "execution_count": null,
   "metadata": {},
   "outputs": [],
   "source": []
  },
  {
   "cell_type": "code",
   "execution_count": null,
   "metadata": {},
   "outputs": [],
   "source": []
  },
  {
   "cell_type": "code",
   "execution_count": 41,
   "metadata": {},
   "outputs": [
    {
     "data": {
      "image/png": "[encoded data removed]",
      "text/plain": [
       "<Figure size 432x288 with 1 Axes>"
      ]
     },
     "metadata": {
      "needs_background": "light"
     },
     "output_type": "display_data"
    }
   ],
   "source": [
    "fig,ax=plt.subplots()\n",
    "x=arm.index\n",
    "y=arm.values\n",
    "arm.plot(kind=\"bar\")\n",
    "plt.xticks(rotation=60)\n",
    "for p in ax.patches:\n",
    "    ax.annotate(str(p.get_height()), (p.get_x()+0.1, p.get_height()+10));"
   ]
  },
  {
   "cell_type": "code",
   "execution_count": 42,
   "metadata": {
    "colab": {
     "base_uri": "https://localhost:8080/",
     "height": 379
    },
    "executionInfo": {
     "elapsed": 408,
     "status": "ok",
     "timestamp": 1622926984372,
     "user": {
      "displayName": "Thomas Rico",
      "photoUrl": "",
      "userId": "03459133432310094050"
     },
     "user_tz": -180
    },
    "id": "v6AvLOw82Zi-",
    "outputId": "b0539d81-1511-4ec4-b5dd-4160319f2096"
   },
   "outputs": [
    {
     "data": {
      "image/png": "[encoded data removed]",
      "text/plain": [
       "<Figure size 576x288 with 1 Axes>"
      ]
     },
     "metadata": {
      "needs_background": "light"
     },
     "output_type": "display_data"
    }
   ],
   "source": [
    "# with matplotlib\n",
    "fig,ax=plt.subplots(figsize=(8,4))\n",
    "ax.set_ylabel(\"Number\")\n",
    "ax.set_title(\"Distribution Gender\")\n",
    "ax.bar(x,y)\n",
    "plt.xticks(rotation=60)\n",
    "fig.tight_layout()\n",
    "for index,value in enumerate(y):\n",
    "    plt.text(index,value,str(value),ha=\"center\")"
   ]
  },
  {
   "cell_type": "markdown",
   "metadata": {
    "id": "GqXH5Xag2Zi-"
   },
   "source": [
    "## 3: Plot number of age of killed people under two groups : Under 25 and Above 25"
   ]
  },
  {
   "cell_type": "code",
   "execution_count": 45,
   "metadata": {},
   "outputs": [
    {
     "data": {
      "text/plain": [
       "0       53.0\n",
       "1       47.0\n",
       "2       23.0\n",
       "3       32.0\n",
       "4       39.0\n",
       "        ... \n",
       "2530    31.0\n",
       "2531     NaN\n",
       "2532    48.0\n",
       "2533    28.0\n",
       "2534    32.0\n",
       "Name: age, Length: 2535, dtype: float64"
      ]
     },
     "execution_count": 45,
     "metadata": {},
     "output_type": "execute_result"
    }
   ],
   "source": [
    "df.age"
   ]
  },
  {
   "cell_type": "code",
   "execution_count": 46,
   "metadata": {},
   "outputs": [],
   "source": [
    "df['age_cat']=df['age'].apply(lambda x: 'above25' if x>25 else 'below25')"
   ]
  },
  {
   "cell_type": "code",
   "execution_count": 47,
   "metadata": {},
   "outputs": [
    {
     "data": {
      "text/html": [
       "<div>\n",
       "<style scoped>\n",
       "    .dataframe tbody tr th:only-of-type {\n",
       "        vertical-align: middle;\n",
       "    }\n",
       "\n",
       "    .dataframe tbody tr th {\n",
       "        vertical-align: top;\n",
       "    }\n",
       "\n",
       "    .dataframe thead th {\n",
       "        text-align: right;\n",
       "    }\n",
       "</style>\n",
       "<table border=\"1\" class=\"dataframe\">\n",
       "  <thead>\n",
       "    <tr style=\"text-align: right;\">\n",
       "      <th></th>\n",
       "      <th>id</th>\n",
       "      <th>name</th>\n",
       "      <th>date</th>\n",
       "      <th>manner_of_death</th>\n",
       "      <th>armed</th>\n",
       "      <th>age</th>\n",
       "      <th>gender</th>\n",
       "      <th>race</th>\n",
       "      <th>city</th>\n",
       "      <th>state</th>\n",
       "      <th>signs_of_mental_illness</th>\n",
       "      <th>threat_level</th>\n",
       "      <th>flee</th>\n",
       "      <th>body_camera</th>\n",
       "      <th>age_cat</th>\n",
       "    </tr>\n",
       "  </thead>\n",
       "  <tbody>\n",
       "    <tr>\n",
       "      <th>0</th>\n",
       "      <td>3</td>\n",
       "      <td>Tim Elliot</td>\n",
       "      <td>02/01/15</td>\n",
       "      <td>shot</td>\n",
       "      <td>gun</td>\n",
       "      <td>53.0</td>\n",
       "      <td>M</td>\n",
       "      <td>A</td>\n",
       "      <td>Shelton</td>\n",
       "      <td>WA</td>\n",
       "      <td>True</td>\n",
       "      <td>attack</td>\n",
       "      <td>Not fleeing</td>\n",
       "      <td>False</td>\n",
       "      <td>above25</td>\n",
       "    </tr>\n",
       "    <tr>\n",
       "      <th>1</th>\n",
       "      <td>4</td>\n",
       "      <td>Lewis Lee Lembke</td>\n",
       "      <td>02/01/15</td>\n",
       "      <td>shot</td>\n",
       "      <td>gun</td>\n",
       "      <td>47.0</td>\n",
       "      <td>M</td>\n",
       "      <td>W</td>\n",
       "      <td>Aloha</td>\n",
       "      <td>OR</td>\n",
       "      <td>False</td>\n",
       "      <td>attack</td>\n",
       "      <td>Not fleeing</td>\n",
       "      <td>False</td>\n",
       "      <td>above25</td>\n",
       "    </tr>\n",
       "    <tr>\n",
       "      <th>2</th>\n",
       "      <td>5</td>\n",
       "      <td>John Paul Quintero</td>\n",
       "      <td>03/01/15</td>\n",
       "      <td>shot and Tasered</td>\n",
       "      <td>unarmed</td>\n",
       "      <td>23.0</td>\n",
       "      <td>M</td>\n",
       "      <td>H</td>\n",
       "      <td>Wichita</td>\n",
       "      <td>KS</td>\n",
       "      <td>False</td>\n",
       "      <td>other</td>\n",
       "      <td>Not fleeing</td>\n",
       "      <td>False</td>\n",
       "      <td>below25</td>\n",
       "    </tr>\n",
       "    <tr>\n",
       "      <th>3</th>\n",
       "      <td>8</td>\n",
       "      <td>Matthew Hoffman</td>\n",
       "      <td>04/01/15</td>\n",
       "      <td>shot</td>\n",
       "      <td>toy weapon</td>\n",
       "      <td>32.0</td>\n",
       "      <td>M</td>\n",
       "      <td>W</td>\n",
       "      <td>San Francisco</td>\n",
       "      <td>CA</td>\n",
       "      <td>True</td>\n",
       "      <td>attack</td>\n",
       "      <td>Not fleeing</td>\n",
       "      <td>False</td>\n",
       "      <td>above25</td>\n",
       "    </tr>\n",
       "    <tr>\n",
       "      <th>4</th>\n",
       "      <td>9</td>\n",
       "      <td>Michael Rodriguez</td>\n",
       "      <td>04/01/15</td>\n",
       "      <td>shot</td>\n",
       "      <td>nail gun</td>\n",
       "      <td>39.0</td>\n",
       "      <td>M</td>\n",
       "      <td>H</td>\n",
       "      <td>Evans</td>\n",
       "      <td>CO</td>\n",
       "      <td>False</td>\n",
       "      <td>attack</td>\n",
       "      <td>Not fleeing</td>\n",
       "      <td>False</td>\n",
       "      <td>above25</td>\n",
       "    </tr>\n",
       "  </tbody>\n",
       "</table>\n",
       "</div>"
      ],
      "text/plain": [
       "   id                name      date   manner_of_death       armed   age  \\\n",
       "0   3          Tim Elliot  02/01/15              shot         gun  53.0   \n",
       "1   4    Lewis Lee Lembke  02/01/15              shot         gun  47.0   \n",
       "2   5  John Paul Quintero  03/01/15  shot and Tasered     unarmed  23.0   \n",
       "3   8     Matthew Hoffman  04/01/15              shot  toy weapon  32.0   \n",
       "4   9   Michael Rodriguez  04/01/15              shot    nail gun  39.0   \n",
       "\n",
       "  gender race           city state  signs_of_mental_illness threat_level  \\\n",
       "0      M    A        Shelton    WA                     True       attack   \n",
       "1      M    W          Aloha    OR                    False       attack   \n",
       "2      M    H        Wichita    KS                    False        other   \n",
       "3      M    W  San Francisco    CA                     True       attack   \n",
       "4      M    H          Evans    CO                    False       attack   \n",
       "\n",
       "          flee  body_camera  age_cat  \n",
       "0  Not fleeing        False  above25  \n",
       "1  Not fleeing        False  above25  \n",
       "2  Not fleeing        False  below25  \n",
       "3  Not fleeing        False  above25  \n",
       "4  Not fleeing        False  above25  "
      ]
     },
     "execution_count": 47,
     "metadata": {},
     "output_type": "execute_result"
    }
   ],
   "source": [
    "df.head()"
   ]
  },
  {
   "cell_type": "code",
   "execution_count": 68,
   "metadata": {},
   "outputs": [
    {
     "data": {
      "text/plain": [
       "553"
      ]
     },
     "execution_count": 68,
     "metadata": {},
     "output_type": "execute_result"
    }
   ],
   "source": [
    "under=df[df[\"age\"]<=25][\"age\"].count()\n",
    "under"
   ]
  },
  {
   "cell_type": "code",
   "execution_count": 67,
   "metadata": {},
   "outputs": [
    {
     "data": {
      "text/plain": [
       "1905"
      ]
     },
     "execution_count": 67,
     "metadata": {},
     "output_type": "execute_result"
    }
   ],
   "source": [
    "upper=df[df[\"age\"]>25][\"age\"].count()\n",
    "upper"
   ]
  },
  {
   "cell_type": "code",
   "execution_count": null,
   "metadata": {},
   "outputs": [],
   "source": []
  },
  {
   "cell_type": "code",
   "execution_count": 69,
   "metadata": {},
   "outputs": [
    {
     "ename": "IndexError",
     "evalue": "invalid index to scalar variable.",
     "output_type": "error",
     "traceback": [
      "\u001b[1;31m---------------------------------------------------------------------------\u001b[0m",
      "\u001b[1;31mIndexError\u001b[0m                                Traceback (most recent call last)",
      "\u001b[1;32m<ipython-input-69-0d1724daf1f2>\u001b[0m in \u001b[0;36m<module>\u001b[1;34m\u001b[0m\n\u001b[1;32m----> 1\u001b[1;33m \u001b[0mx\u001b[0m\u001b[1;33m=\u001b[0m\u001b[1;33m[\u001b[0m\u001b[0munder\u001b[0m\u001b[1;33m[\u001b[0m\u001b[1;36m0\u001b[0m\u001b[1;33m]\u001b[0m\u001b[1;33m,\u001b[0m\u001b[0mupper\u001b[0m\u001b[1;33m[\u001b[0m\u001b[1;36m0\u001b[0m\u001b[1;33m]\u001b[0m\u001b[1;33m]\u001b[0m\u001b[1;33m\u001b[0m\u001b[1;33m\u001b[0m\u001b[0m\n\u001b[0m\u001b[0;32m      2\u001b[0m \u001b[0my\u001b[0m\u001b[1;33m=\u001b[0m\u001b[1;33m[\u001b[0m\u001b[1;34m\"under\"\u001b[0m\u001b[1;33m,\u001b[0m\u001b[1;34m\"upper\"\u001b[0m\u001b[1;33m]\u001b[0m\u001b[1;33m\u001b[0m\u001b[1;33m\u001b[0m\u001b[0m\n\u001b[0;32m      3\u001b[0m \u001b[0mfig\u001b[0m\u001b[1;33m,\u001b[0m\u001b[0max\u001b[0m\u001b[1;33m=\u001b[0m\u001b[0mplt\u001b[0m\u001b[1;33m.\u001b[0m\u001b[0msublpots\u001b[0m\u001b[1;33m(\u001b[0m\u001b[1;33m)\u001b[0m\u001b[1;33m\u001b[0m\u001b[1;33m\u001b[0m\u001b[0m\n\u001b[0;32m      4\u001b[0m \u001b[0max\u001b[0m\u001b[1;33m.\u001b[0m\u001b[0mbar\u001b[0m\u001b[1;33m(\u001b[0m\u001b[0my\u001b[0m\u001b[1;33m,\u001b[0m\u001b[0mx\u001b[0m\u001b[1;33m)\u001b[0m\u001b[1;33m\u001b[0m\u001b[1;33m\u001b[0m\u001b[0m\n\u001b[0;32m      5\u001b[0m \u001b[1;32mfor\u001b[0m \u001b[0mp\u001b[0m \u001b[1;32min\u001b[0m \u001b[0max\u001b[0m\u001b[1;33m.\u001b[0m\u001b[0mpatches\u001b[0m\u001b[1;33m:\u001b[0m\u001b[1;33m\u001b[0m\u001b[1;33m\u001b[0m\u001b[0m\n",
      "\u001b[1;31mIndexError\u001b[0m: invalid index to scalar variable."
     ]
    }
   ],
   "source": [
    "x=[under[0],upper[0]]\n",
    "y=[\"under\",\"upper\"]\n",
    "fig,ax=plt.sublpots()\n",
    "ax.bar(y,x)\n",
    "for p in ax.patches:\n",
    "    ax.annotate(str(p.get_height()), (p.get_x()+0.1, p.get_height()+10));"
   ]
  },
  {
   "cell_type": "code",
   "execution_count": 60,
   "metadata": {},
   "outputs": [
    {
     "data": {
      "text/plain": [
       "<bound method Series.count of 0       53.0\n",
       "1       47.0\n",
       "3       32.0\n",
       "4       39.0\n",
       "7       35.0\n",
       "        ... \n",
       "2529    32.0\n",
       "2530    31.0\n",
       "2532    48.0\n",
       "2533    28.0\n",
       "2534    32.0\n",
       "Name: age, Length: 1905, dtype: float64>"
      ]
     },
     "execution_count": 60,
     "metadata": {},
     "output_type": "execute_result"
    }
   ],
   "source": [
    "under=df[df[\"age\"]>25][\"age\"].count\n",
    "under"
   ]
  },
  {
   "cell_type": "code",
   "execution_count": null,
   "metadata": {},
   "outputs": [],
   "source": [
    "x = [under[0],upper[0]]\n",
    "y=[\"under \", \"upper\"]\n",
    "fig , ax = plt.subplots()\n",
    "ax.bar(y,x)\n",
    "for p in ax.patches:\n",
    "    ax.annotate(str(p.get_height()), (p.get_x()+0.1, p.get_height()+10));"
   ]
  },
  {
   "cell_type": "code",
   "execution_count": null,
   "metadata": {},
   "outputs": [],
   "source": []
  },
  {
   "cell_type": "code",
   "execution_count": null,
   "metadata": {},
   "outputs": [],
   "source": []
  },
  {
   "cell_type": "code",
   "execution_count": null,
   "metadata": {},
   "outputs": [],
   "source": [
    "age=pd.DataFrame()"
   ]
  },
  {
   "cell_type": "code",
   "execution_count": null,
   "metadata": {
    "colab": {
     "base_uri": "https://localhost:8080/",
     "height": 307
    },
    "executionInfo": {
     "elapsed": 13,
     "status": "ok",
     "timestamp": 1622926984372,
     "user": {
      "displayName": "Thomas Rico",
      "photoUrl": "",
      "userId": "03459133432310094050"
     },
     "user_tz": -180
    },
    "id": "V4mng-vC2Zi-",
    "outputId": "01c48c2d-3344-4b26-ff0b-632378fb59f2"
   },
   "outputs": [],
   "source": [
    "old=(df.age<=25)"
   ]
  },
  {
   "cell_type": "code",
   "execution_count": null,
   "metadata": {},
   "outputs": [],
   "source": [
    "old.isnull().sum()"
   ]
  },
  {
   "cell_type": "code",
   "execution_count": null,
   "metadata": {},
   "outputs": [],
   "source": [
    "old.dropna().isnull().sum()"
   ]
  },
  {
   "cell_type": "code",
   "execution_count": null,
   "metadata": {},
   "outputs": [],
   "source": [
    "old=age.dropna()"
   ]
  },
  {
   "cell_type": "code",
   "execution_count": null,
   "metadata": {},
   "outputs": [],
   "source": [
    "(old<=25).value_counts().plot.bar()"
   ]
  },
  {
   "cell_type": "code",
   "execution_count": null,
   "metadata": {},
   "outputs": [],
   "source": [
    "j=df.age<=25\n",
    "k=df.age>25\n",
    "df[\"ebove25\"]= k"
   ]
  },
  {
   "cell_type": "code",
   "execution_count": null,
   "metadata": {},
   "outputs": [],
   "source": [
    "df.ebove25.value_counts()"
   ]
  },
  {
   "cell_type": "code",
   "execution_count": null,
   "metadata": {
    "id": "1zfmB3FS2Zi-"
   },
   "outputs": [],
   "source": [
    "plt.bar([\"25 yaş altı\",\"25 yaş üstü\"],[a,b]);\n",
    "for index,value in enumerate([a,b]):\n",
    "    plt.text(index,value,str(value),ha=\"center\")"
   ]
  },
  {
   "cell_type": "code",
   "execution_count": null,
   "metadata": {
    "colab": {
     "base_uri": "https://localhost:8080/",
     "height": 307
    },
    "executionInfo": {
     "elapsed": 11,
     "status": "ok",
     "timestamp": 1622926984373,
     "user": {
      "displayName": "Thomas Rico",
      "photoUrl": "",
      "userId": "03459133432310094050"
     },
     "user_tz": -180
    },
    "id": "DJzAOutV2Zi-",
    "outputId": "f1188a5c-2a2a-4cbd-b01e-751d47905f8f"
   },
   "outputs": [],
   "source": []
  },
  {
   "cell_type": "code",
   "execution_count": null,
   "metadata": {
    "colab": {
     "base_uri": "https://localhost:8080/"
    },
    "executionInfo": {
     "elapsed": 10,
     "status": "ok",
     "timestamp": 1622926984373,
     "user": {
      "displayName": "Thomas Rico",
      "photoUrl": "",
      "userId": "03459133432310094050"
     },
     "user_tz": -180
    },
    "id": "fSQ8BTUD2Zi_",
    "outputId": "89645134-4eb3-4034-bb3d-e446399aaad0"
   },
   "outputs": [],
   "source": []
  },
  {
   "cell_type": "code",
   "execution_count": null,
   "metadata": {},
   "outputs": [],
   "source": []
  },
  {
   "cell_type": "code",
   "execution_count": null,
   "metadata": {
    "colab": {
     "base_uri": "https://localhost:8080/",
     "height": 302
    },
    "executionInfo": {
     "elapsed": 10,
     "status": "ok",
     "timestamp": 1622926985007,
     "user": {
      "displayName": "Thomas Rico",
      "photoUrl": "",
      "userId": "03459133432310094050"
     },
     "user_tz": -180
    },
    "id": "O5TT5DGG2Zi_",
    "outputId": "c052b208-6dbd-4f6e-c8a9-63df71c610ee",
    "scrolled": true
   },
   "outputs": [],
   "source": [
    "# with pandas\n"
   ]
  },
  {
   "cell_type": "code",
   "execution_count": null,
   "metadata": {},
   "outputs": [],
   "source": [
    "plt."
   ]
  },
  {
   "cell_type": "code",
   "execution_count": null,
   "metadata": {
    "colab": {
     "base_uri": "https://localhost:8080/",
     "height": 269
    },
    "executionInfo": {
     "elapsed": 10,
     "status": "ok",
     "timestamp": 1622926985008,
     "user": {
      "displayName": "Thomas Rico",
      "photoUrl": "",
      "userId": "03459133432310094050"
     },
     "user_tz": -180
    },
    "id": "gpOukiYx2Zi_",
    "outputId": "84b257d1-14e1-4bef-d6a4-08cf0a236acb"
   },
   "outputs": [],
   "source": [
    "# with matplotlib"
   ]
  },
  {
   "cell_type": "markdown",
   "metadata": {
    "id": "SZ-wps772Zi_"
   },
   "source": [
    "## 4: Plot number of killed poeple by race"
   ]
  },
  {
   "cell_type": "code",
   "execution_count": null,
   "metadata": {
    "colab": {
     "base_uri": "https://localhost:8080/"
    },
    "executionInfo": {
     "elapsed": 10,
     "status": "ok",
     "timestamp": 1622926985009,
     "user": {
      "displayName": "Thomas Rico",
      "photoUrl": "",
      "userId": "03459133432310094050"
     },
     "user_tz": -180
    },
    "id": "Uqh-Od7X2Zi_",
    "outputId": "9d3da4ed-bc38-45c9-a66f-7d5ba5fb9f5c"
   },
   "outputs": [],
   "source": []
  },
  {
   "cell_type": "code",
   "execution_count": null,
   "metadata": {
    "colab": {
     "base_uri": "https://localhost:8080/",
     "height": 283
    },
    "executionInfo": {
     "elapsed": 7,
     "status": "ok",
     "timestamp": 1622926985009,
     "user": {
      "displayName": "Thomas Rico",
      "photoUrl": "",
      "userId": "03459133432310094050"
     },
     "user_tz": -180
    },
    "id": "-q2lckGI2ZjA",
    "outputId": "aeed5936-fc89-4370-cdc2-1be0f9c5dcca"
   },
   "outputs": [],
   "source": [
    "# with pandas\n"
   ]
  },
  {
   "cell_type": "code",
   "execution_count": null,
   "metadata": {
    "colab": {
     "base_uri": "https://localhost:8080/",
     "height": 283
    },
    "executionInfo": {
     "elapsed": 754,
     "status": "ok",
     "timestamp": 1622926985756,
     "user": {
      "displayName": "Thomas Rico",
      "photoUrl": "",
      "userId": "03459133432310094050"
     },
     "user_tz": -180
    },
    "id": "Bb16OmdB2ZjA",
    "outputId": "7e601245-42a2-4547-8d3f-8151bc5a1005"
   },
   "outputs": [],
   "source": [
    "# with matplotlib\n"
   ]
  },
  {
   "cell_type": "code",
   "execution_count": null,
   "metadata": {
    "id": "o7z6kXmQ-EPT"
   },
   "outputs": [],
   "source": []
  },
  {
   "cell_type": "markdown",
   "metadata": {
    "id": "9pGSRTxe-l5B"
   },
   "source": [
    "## 5: Killed People According to Races (Pie Chart)"
   ]
  },
  {
   "cell_type": "code",
   "execution_count": 71,
   "metadata": {
    "colab": {
     "base_uri": "https://localhost:8080/",
     "height": 307
    },
    "executionInfo": {
     "elapsed": 52,
     "status": "ok",
     "timestamp": 1622926985757,
     "user": {
      "displayName": "Thomas Rico",
      "photoUrl": "",
      "userId": "03459133432310094050"
     },
     "user_tz": -180
    },
    "id": "gq_OO4tB-l5E",
    "outputId": "0a45ca8f-7df9-4b85-d72f-8b0d4115561c"
   },
   "outputs": [
    {
     "data": {
      "text/plain": [
       "array(['A', 'W', 'H', 'B', 'O', nan, 'N'], dtype=object)"
      ]
     },
     "execution_count": 71,
     "metadata": {},
     "output_type": "execute_result"
    }
   ],
   "source": [
    "df.race.unique()"
   ]
  },
  {
   "cell_type": "code",
   "execution_count": 73,
   "metadata": {
    "_uuid": "73ef9a67518196c14338e28236b5054186fabdc1",
    "colab": {
     "base_uri": "https://localhost:8080/"
    },
    "executionInfo": {
     "elapsed": 51,
     "status": "ok",
     "timestamp": 1622926985758,
     "user": {
      "displayName": "Thomas Rico",
      "photoUrl": "",
      "userId": "03459133432310094050"
     },
     "user_tz": -180
    },
    "id": "_ZPh_aCz-l5F",
    "outputId": "8ee30bed-c707-4e5d-b0a0-ae4e896e35e8"
   },
   "outputs": [
    {
     "data": {
      "text/plain": [
       "W      1201\n",
       "B       618\n",
       "H       423\n",
       "NaN     195\n",
       "A        39\n",
       "N        31\n",
       "O        28\n",
       "Name: race, dtype: int64"
      ]
     },
     "execution_count": 73,
     "metadata": {},
     "output_type": "execute_result"
    }
   ],
   "source": [
    "df.race.value_counts(dropna=False)"
   ]
  },
  {
   "cell_type": "code",
   "execution_count": 88,
   "metadata": {
    "colab": {
     "base_uri": "https://localhost:8080/"
    },
    "executionInfo": {
     "elapsed": 49,
     "status": "ok",
     "timestamp": 1622926985758,
     "user": {
      "displayName": "Thomas Rico",
      "photoUrl": "",
      "userId": "03459133432310094050"
     },
     "user_tz": -180
    },
    "id": "4lJAFvsx-l5F",
    "outputId": "014ec220-87cf-4b96-da5c-b0f600130869"
   },
   "outputs": [
    {
     "data": {
      "image/png": "[encoded data removed]",
      "text/plain": [
       "<Figure size 720x720 with 1 Axes>"
      ]
     },
     "metadata": {},
     "output_type": "display_data"
    }
   ],
   "source": [
    "fig,ax=plt.subplots(figsize=(10,10))\n",
    "x=df.race.value_counts().values\n",
    "label=df.race.value_counts().index\n",
    "ax.pie(x,labels=label,labeldistance=0.8,\n",
    "      autopct=\"%.1f%%\",\n",
    "      explode=[0,0,0.1,0,0,0,]);"
   ]
  },
  {
   "cell_type": "markdown",
   "metadata": {
    "id": "VuWSIYCm-l5F"
   },
   "source": [
    "Problem: missing value on race column."
   ]
  },
  {
   "cell_type": "markdown",
   "metadata": {
    "id": "mmCQXFcg-l5G"
   },
   "source": [
    "**INSTRUCTION-1: Drop the all raws that contain missing value (dropna)**"
   ]
  },
  {
   "cell_type": "code",
   "execution_count": null,
   "metadata": {
    "id": "CzwSuxgQ-l5G"
   },
   "outputs": [],
   "source": []
  },
  {
   "cell_type": "code",
   "execution_count": null,
   "metadata": {
    "colab": {
     "base_uri": "https://localhost:8080/"
    },
    "executionInfo": {
     "elapsed": 49,
     "status": "ok",
     "timestamp": 1622926985760,
     "user": {
      "displayName": "Thomas Rico",
      "photoUrl": "",
      "userId": "03459133432310094050"
     },
     "user_tz": -180
    },
    "id": "3DzEkUNo-l5G",
    "outputId": "fe3f08e2-9ffa-40b2-edad-963b7ee8e29d"
   },
   "outputs": [],
   "source": []
  },
  {
   "cell_type": "markdown",
   "metadata": {
    "id": "DRb2AH84-l5G"
   },
   "source": [
    "**INSTRUCTION-2: Demonstrate Race Ratio of Killed People by a Pie Chart (You can use Matplotlib)**"
   ]
  },
  {
   "cell_type": "code",
   "execution_count": null,
   "metadata": {
    "colab": {
     "base_uri": "https://localhost:8080/"
    },
    "executionInfo": {
     "elapsed": 48,
     "status": "ok",
     "timestamp": 1622926985761,
     "user": {
      "displayName": "Thomas Rico",
      "photoUrl": "",
      "userId": "03459133432310094050"
     },
     "user_tz": -180
    },
    "id": "Pq0aSdnz-l5G",
    "outputId": "313c6efc-d2cd-4030-8ee8-1cd496565d2c"
   },
   "outputs": [],
   "source": []
  },
  {
   "cell_type": "code",
   "execution_count": null,
   "metadata": {
    "colab": {
     "base_uri": "https://localhost:8080/"
    },
    "executionInfo": {
     "elapsed": 47,
     "status": "ok",
     "timestamp": 1622926985761,
     "user": {
      "displayName": "Thomas Rico",
      "photoUrl": "",
      "userId": "03459133432310094050"
     },
     "user_tz": -180
    },
    "id": "z3CnjKfh-l5H",
    "outputId": "f138b9ff-11c1-48e2-e616-6a8db21e7dbe"
   },
   "outputs": [],
   "source": []
  },
  {
   "cell_type": "code",
   "execution_count": null,
   "metadata": {
    "colab": {
     "base_uri": "https://localhost:8080/"
    },
    "executionInfo": {
     "elapsed": 47,
     "status": "ok",
     "timestamp": 1622926985762,
     "user": {
      "displayName": "Thomas Rico",
      "photoUrl": "",
      "userId": "03459133432310094050"
     },
     "user_tz": -180
    },
    "id": "dNnqgLCM-l5H",
    "outputId": "939f3639-058d-4bf3-abd0-19105f334802"
   },
   "outputs": [],
   "source": []
  },
  {
   "cell_type": "code",
   "execution_count": null,
   "metadata": {
    "colab": {
     "base_uri": "https://localhost:8080/",
     "height": 575
    },
    "executionInfo": {
     "elapsed": 45,
     "status": "ok",
     "timestamp": 1622926985762,
     "user": {
      "displayName": "Thomas Rico",
      "photoUrl": "",
      "userId": "03459133432310094050"
     },
     "user_tz": -180
    },
    "id": "F1CSkbxa-l5H",
    "outputId": "18bae490-b8d5-49b0-b124-f1c4f75a0129"
   },
   "outputs": [],
   "source": [
    "# matplotlib\n",
    "\n"
   ]
  },
  {
   "cell_type": "markdown",
   "metadata": {
    "id": "zOQ2PusO-G-U"
   },
   "source": [
    "## 6: Most common 15 Name or Surname of killed people "
   ]
  },
  {
   "cell_type": "code",
   "execution_count": null,
   "metadata": {
    "_uuid": "bfb975b648fbcbd1c6cdf1634f01e01371924a8c",
    "colab": {
     "base_uri": "https://localhost:8080/",
     "height": 307
    },
    "executionInfo": {
     "elapsed": 45,
     "status": "ok",
     "timestamp": 1622926985762,
     "user": {
      "displayName": "Thomas Rico",
      "photoUrl": "",
      "userId": "03459133432310094050"
     },
     "user_tz": -180
    },
    "id": "7s9SsMsj-G-U",
    "outputId": "2d3cc676-d586-402c-cabd-938eb19880bf"
   },
   "outputs": [],
   "source": []
  },
  {
   "cell_type": "code",
   "execution_count": null,
   "metadata": {
    "colab": {
     "base_uri": "https://localhost:8080/"
    },
    "executionInfo": {
     "elapsed": 45,
     "status": "ok",
     "timestamp": 1622926985763,
     "user": {
      "displayName": "Thomas Rico",
      "photoUrl": "",
      "userId": "03459133432310094050"
     },
     "user_tz": -180
    },
    "id": "R7idQSfR-G-V",
    "outputId": "617558e5-408e-4392-bf31-50db2d071323"
   },
   "outputs": [],
   "source": []
  },
  {
   "cell_type": "code",
   "execution_count": null,
   "metadata": {
    "colab": {
     "base_uri": "https://localhost:8080/"
    },
    "executionInfo": {
     "elapsed": 43,
     "status": "ok",
     "timestamp": 1622926985763,
     "user": {
      "displayName": "Thomas Rico",
      "photoUrl": "",
      "userId": "03459133432310094050"
     },
     "user_tz": -180
    },
    "id": "xx5JDVqZ-G-V",
    "outputId": "9ee6b2a8-b264-40c6-f187-6dd7d1c32efe"
   },
   "outputs": [],
   "source": []
  },
  {
   "cell_type": "code",
   "execution_count": null,
   "metadata": {
    "_cell_guid": "c2cd6681-42a4-44c2-ba1a-46d4d61b6eea",
    "_uuid": "b3b53866f9c794ca5f85f59bc5bfc0d01a830baf",
    "colab": {
     "base_uri": "https://localhost:8080/"
    },
    "executionInfo": {
     "elapsed": 43,
     "status": "ok",
     "timestamp": 1622926985764,
     "user": {
      "displayName": "Thomas Rico",
      "photoUrl": "",
      "userId": "03459133432310094050"
     },
     "user_tz": -180
    },
    "id": "YsaT2vLg-G-W",
    "outputId": "f3de216b-2176-4b7e-8fc2-c9e3858bd298",
    "scrolled": true
   },
   "outputs": [],
   "source": [
    "# Problem: TK TK is most probably not a name or surname. We will clean them.\n"
   ]
  },
  {
   "cell_type": "code",
   "execution_count": null,
   "metadata": {
    "colab": {
     "base_uri": "https://localhost:8080/"
    },
    "executionInfo": {
     "elapsed": 42,
     "status": "ok",
     "timestamp": 1622926985764,
     "user": {
      "displayName": "Thomas Rico",
      "photoUrl": "",
      "userId": "03459133432310094050"
     },
     "user_tz": -180
    },
    "id": "Tm35sunM-G-W",
    "outputId": "f6fc6156-5af6-4a3d-f509-9c16f85fb1c8"
   },
   "outputs": [],
   "source": [
    "type(pairs)"
   ]
  },
  {
   "cell_type": "markdown",
   "metadata": {
    "id": "SDeKoDA3-G-W"
   },
   "source": [
    "**INSTRUCTION : Plot Most common 15 Name OR Surname of killed people** "
   ]
  },
  {
   "cell_type": "raw",
   "metadata": {
    "id": "GDrfQsvl-G-W"
   },
   "source": [
    "### Clue 1: You need to separate the names and surnames because we are asking most common name OR surname.\n",
    "\n",
    "### Clue 2 :After seperation make a whole list that contains both names and surnames.\n",
    "\n",
    "### Clue 3 : How to separate the name and surname pairs?\n",
    "\n",
    ">>> pairs = [(1, 'a'), (2, 'b'), (3, 'c'), (4, 'd')]\n",
    ">>> numbers, letters = zip(*pairs)\n",
    ">>> numbers\n",
    "(1, 2, 3, 4)\n",
    ">>> letters\n",
    "('a', 'b', 'c', 'd')\n",
    "\n",
    "### Clue 4: You can use Counter() and most_common() built in functions together to find the most common names or surnames, or you can write your own functions for this purpose."
   ]
  },
  {
   "cell_type": "markdown",
   "metadata": {
    "id": "enYjZO9j5Cn9"
   },
   "source": [
    "shape"
   ]
  },
  {
   "cell_type": "code",
   "execution_count": null,
   "metadata": {
    "colab": {
     "base_uri": "https://localhost:8080/"
    },
    "executionInfo": {
     "elapsed": 41,
     "status": "ok",
     "timestamp": 1622926985765,
     "user": {
      "displayName": "Thomas Rico",
      "photoUrl": "",
      "userId": "03459133432310094050"
     },
     "user_tz": -180
    },
    "id": "wTOlNN6V-G-W",
    "outputId": "d02b14f6-6ec4-4294-a850-ef94ce1572fa"
   },
   "outputs": [],
   "source": []
  },
  {
   "cell_type": "code",
   "execution_count": null,
   "metadata": {
    "colab": {
     "base_uri": "https://localhost:8080/"
    },
    "executionInfo": {
     "elapsed": 40,
     "status": "ok",
     "timestamp": 1622926985765,
     "user": {
      "displayName": "Thomas Rico",
      "photoUrl": "",
      "userId": "03459133432310094050"
     },
     "user_tz": -180
    },
    "id": "0Ml-0Jbo-G-X",
    "outputId": "ccd66eaa-e0c5-4dc6-9aec-a99008ae63eb"
   },
   "outputs": [],
   "source": []
  },
  {
   "cell_type": "code",
   "execution_count": null,
   "metadata": {
    "colab": {
     "base_uri": "https://localhost:8080/",
     "height": 35
    },
    "executionInfo": {
     "elapsed": 39,
     "status": "ok",
     "timestamp": 1622926985765,
     "user": {
      "displayName": "Thomas Rico",
      "photoUrl": "",
      "userId": "03459133432310094050"
     },
     "user_tz": -180
    },
    "id": "B4S3UjP--G-X",
    "outputId": "c4aeaea4-b782-4c61-cb49-c588ecbed42b"
   },
   "outputs": [],
   "source": []
  },
  {
   "cell_type": "code",
   "execution_count": null,
   "metadata": {
    "id": "eIN9wmQZ-G-X"
   },
   "outputs": [],
   "source": []
  },
  {
   "cell_type": "code",
   "execution_count": null,
   "metadata": {
    "colab": {
     "base_uri": "https://localhost:8080/"
    },
    "executionInfo": {
     "elapsed": 39,
     "status": "ok",
     "timestamp": 1622926985766,
     "user": {
      "displayName": "Thomas Rico",
      "photoUrl": "",
      "userId": "03459133432310094050"
     },
     "user_tz": -180
    },
    "id": "qzpsa-8C-G-X",
    "outputId": "9a4b6062-d0e1-49c6-f8a5-763c904ca17f"
   },
   "outputs": [],
   "source": []
  },
  {
   "cell_type": "code",
   "execution_count": null,
   "metadata": {
    "colab": {
     "base_uri": "https://localhost:8080/"
    },
    "executionInfo": {
     "elapsed": 37,
     "status": "ok",
     "timestamp": 1622926985766,
     "user": {
      "displayName": "Thomas Rico",
      "photoUrl": "",
      "userId": "03459133432310094050"
     },
     "user_tz": -180
    },
    "id": "E6EkGClj-G-Y",
    "outputId": "142f78af-09f9-4bcf-8091-367c680553a4"
   },
   "outputs": [],
   "source": []
  },
  {
   "cell_type": "code",
   "execution_count": null,
   "metadata": {
    "colab": {
     "base_uri": "https://localhost:8080/"
    },
    "executionInfo": {
     "elapsed": 37,
     "status": "ok",
     "timestamp": 1622926985767,
     "user": {
      "displayName": "Thomas Rico",
      "photoUrl": "",
      "userId": "03459133432310094050"
     },
     "user_tz": -180
    },
    "id": "GBoBhIEs-G-Y",
    "outputId": "ebd3146a-472f-4044-daf4-67d0e1064845"
   },
   "outputs": [],
   "source": []
  },
  {
   "cell_type": "code",
   "execution_count": null,
   "metadata": {
    "colab": {
     "base_uri": "https://localhost:8080/",
     "height": 511
    },
    "executionInfo": {
     "elapsed": 591,
     "status": "ok",
     "timestamp": 1622926986330,
     "user": {
      "displayName": "Thomas Rico",
      "photoUrl": "",
      "userId": "03459133432310094050"
     },
     "user_tz": -180
    },
    "id": "yJ6vg449-G-Y",
    "outputId": "f294603c-8528-4392-b8f3-a2a9df5abc39"
   },
   "outputs": [],
   "source": []
  },
  {
   "cell_type": "code",
   "execution_count": null,
   "metadata": {
    "colab": {
     "base_uri": "https://localhost:8080/",
     "height": 551
    },
    "executionInfo": {
     "elapsed": 6,
     "status": "ok",
     "timestamp": 1622926986331,
     "user": {
      "displayName": "Thomas Rico",
      "photoUrl": "",
      "userId": "03459133432310094050"
     },
     "user_tz": -180
    },
    "id": "JnbSBMEF-G-Y",
    "outputId": "a4f5bcc6-22d9-4348-ef8b-18040a4c5723"
   },
   "outputs": [],
   "source": [
    "# with pandas\n"
   ]
  },
  {
   "cell_type": "code",
   "execution_count": null,
   "metadata": {
    "colab": {
     "base_uri": "https://localhost:8080/",
     "height": 551
    },
    "executionInfo": {
     "elapsed": 363,
     "status": "ok",
     "timestamp": 1622926986690,
     "user": {
      "displayName": "Thomas Rico",
      "photoUrl": "",
      "userId": "03459133432310094050"
     },
     "user_tz": -180
    },
    "id": "MPq2DiUJ-G-Y",
    "outputId": "4c0e61c5-9734-41a6-e4e8-f5c424e7519d"
   },
   "outputs": [],
   "source": [
    "# with matplotlib\n"
   ]
  },
  {
   "cell_type": "code",
   "execution_count": null,
   "metadata": {
    "id": "tRAjYkN_MqkZ"
   },
   "outputs": [],
   "source": []
  }
 ],
 "metadata": {
  "colab": {
   "collapsed_sections": [],
   "name": "Assignment-1 student.ipynb",
   "provenance": [],
   "toc_visible": true
  },
  "kernelspec": {
   "display_name": "Python 3",
   "language": "python",
   "name": "python3"
  },
  "language_info": {
   "codemirror_mode": {
    "name": "ipython",
    "version": 3
   },
   "file_extension": ".py",
   "mimetype": "text/x-python",
   "name": "python",
   "nbconvert_exporter": "python",
   "pygments_lexer": "ipython3",
   "version": "3.8.5"
  }
 },
 "nbformat": 4,
 "nbformat_minor": 1
}
