{
 "cells": [
  {
   "cell_type": "markdown",
   "metadata": {
    "id": "xSwVOspA2Zin"
   },
   "source": [
    "# WITH PANDAS AND MATPLOTLIB"
   ]
  },
  {
   "cell_type": "code",
   "execution_count": 1,
   "metadata": {
    "_cell_guid": "5fdcd462-5466-40f5-9992-dc31a9a174f2",
    "_uuid": "dab5021d92c7210270cec270470e4ae179a1de01",
    "id": "22qiZVq32Zir"
   },
   "outputs": [],
   "source": [
    "import numpy as np \n",
    "import pandas as pd\n",
    "import seaborn as sns\n",
    "import matplotlib.pyplot as plt\n",
    "from collections import Counter\n",
    "import warnings\n",
    "warnings.filterwarnings('ignore') "
   ]
  },
  {
   "cell_type": "markdown",
   "metadata": {
    "id": "Rsu0y4Ha2Zit"
   },
   "source": [
    "INSTRUCTIONS\n",
    "\n",
    "1. Number of people by gender\n",
    "1. Kill weapon\n",
    "1. Age of killed people\n",
    "1. Race of killed people\n",
    "1. Killed People According to Races (Pie Chart)\n",
    "1. Most common 15 Name or Surname of killed people\n",
    "\n",
    "<br>"
   ]
  },
  {
   "cell_type": "markdown",
   "metadata": {
    "id": "OTDjgwf53tr5"
   },
   "source": [
    "read data\n",
    "\n",
    "if didn't work you can use this parameters: encoding=\"windows-1252\""
   ]
  },
  {
   "cell_type": "code",
   "execution_count": 2,
   "metadata": {
    "_cell_guid": "abb0685f-f844-43f8-84c0-4cd54361c7bf",
    "_uuid": "9c06ed7c41db79ae9d940f2d52aeff23621b3037",
    "id": "NYz5lAPp2Ziu"
   },
   "outputs": [],
   "source": [
    "df = pd.read_csv('PoliceKillingsUS.csv', encoding=\"windows-1252\")"
   ]
  },
  {
   "cell_type": "markdown",
   "metadata": {
    "id": "wMFloMjW2Zi8"
   },
   "source": [
    "## 1: Plot number of people by gender"
   ]
  },
  {
   "cell_type": "code",
   "execution_count": 3,
   "metadata": {
    "colab": {
     "base_uri": "https://localhost:8080/",
     "height": 307
    },
    "id": "g73Ix7402Zi9",
    "outputId": "3cc46e86-dfdd-46ef-b738-e1f0f1dd6d82"
   },
   "outputs": [
    {
     "data": {
      "text/html": [
       "<div>\n",
       "<style scoped>\n",
       "    .dataframe tbody tr th:only-of-type {\n",
       "        vertical-align: middle;\n",
       "    }\n",
       "\n",
       "    .dataframe tbody tr th {\n",
       "        vertical-align: top;\n",
       "    }\n",
       "\n",
       "    .dataframe thead th {\n",
       "        text-align: right;\n",
       "    }\n",
       "</style>\n",
       "<table border=\"1\" class=\"dataframe\">\n",
       "  <thead>\n",
       "    <tr style=\"text-align: right;\">\n",
       "      <th></th>\n",
       "      <th>id</th>\n",
       "      <th>name</th>\n",
       "      <th>date</th>\n",
       "      <th>manner_of_death</th>\n",
       "      <th>armed</th>\n",
       "      <th>age</th>\n",
       "      <th>gender</th>\n",
       "      <th>race</th>\n",
       "      <th>city</th>\n",
       "      <th>state</th>\n",
       "      <th>signs_of_mental_illness</th>\n",
       "      <th>threat_level</th>\n",
       "      <th>flee</th>\n",
       "      <th>body_camera</th>\n",
       "    </tr>\n",
       "  </thead>\n",
       "  <tbody>\n",
       "    <tr>\n",
       "      <th>0</th>\n",
       "      <td>3</td>\n",
       "      <td>Tim Elliot</td>\n",
       "      <td>02/01/15</td>\n",
       "      <td>shot</td>\n",
       "      <td>gun</td>\n",
       "      <td>53.0</td>\n",
       "      <td>M</td>\n",
       "      <td>A</td>\n",
       "      <td>Shelton</td>\n",
       "      <td>WA</td>\n",
       "      <td>True</td>\n",
       "      <td>attack</td>\n",
       "      <td>Not fleeing</td>\n",
       "      <td>False</td>\n",
       "    </tr>\n",
       "    <tr>\n",
       "      <th>1</th>\n",
       "      <td>4</td>\n",
       "      <td>Lewis Lee Lembke</td>\n",
       "      <td>02/01/15</td>\n",
       "      <td>shot</td>\n",
       "      <td>gun</td>\n",
       "      <td>47.0</td>\n",
       "      <td>M</td>\n",
       "      <td>W</td>\n",
       "      <td>Aloha</td>\n",
       "      <td>OR</td>\n",
       "      <td>False</td>\n",
       "      <td>attack</td>\n",
       "      <td>Not fleeing</td>\n",
       "      <td>False</td>\n",
       "    </tr>\n",
       "    <tr>\n",
       "      <th>2</th>\n",
       "      <td>5</td>\n",
       "      <td>John Paul Quintero</td>\n",
       "      <td>03/01/15</td>\n",
       "      <td>shot and Tasered</td>\n",
       "      <td>unarmed</td>\n",
       "      <td>23.0</td>\n",
       "      <td>M</td>\n",
       "      <td>H</td>\n",
       "      <td>Wichita</td>\n",
       "      <td>KS</td>\n",
       "      <td>False</td>\n",
       "      <td>other</td>\n",
       "      <td>Not fleeing</td>\n",
       "      <td>False</td>\n",
       "    </tr>\n",
       "    <tr>\n",
       "      <th>3</th>\n",
       "      <td>8</td>\n",
       "      <td>Matthew Hoffman</td>\n",
       "      <td>04/01/15</td>\n",
       "      <td>shot</td>\n",
       "      <td>toy weapon</td>\n",
       "      <td>32.0</td>\n",
       "      <td>M</td>\n",
       "      <td>W</td>\n",
       "      <td>San Francisco</td>\n",
       "      <td>CA</td>\n",
       "      <td>True</td>\n",
       "      <td>attack</td>\n",
       "      <td>Not fleeing</td>\n",
       "      <td>False</td>\n",
       "    </tr>\n",
       "    <tr>\n",
       "      <th>4</th>\n",
       "      <td>9</td>\n",
       "      <td>Michael Rodriguez</td>\n",
       "      <td>04/01/15</td>\n",
       "      <td>shot</td>\n",
       "      <td>nail gun</td>\n",
       "      <td>39.0</td>\n",
       "      <td>M</td>\n",
       "      <td>H</td>\n",
       "      <td>Evans</td>\n",
       "      <td>CO</td>\n",
       "      <td>False</td>\n",
       "      <td>attack</td>\n",
       "      <td>Not fleeing</td>\n",
       "      <td>False</td>\n",
       "    </tr>\n",
       "  </tbody>\n",
       "</table>\n",
       "</div>"
      ],
      "text/plain": [
       "   id                name      date   manner_of_death       armed   age  \\\n",
       "0   3          Tim Elliot  02/01/15              shot         gun  53.0   \n",
       "1   4    Lewis Lee Lembke  02/01/15              shot         gun  47.0   \n",
       "2   5  John Paul Quintero  03/01/15  shot and Tasered     unarmed  23.0   \n",
       "3   8     Matthew Hoffman  04/01/15              shot  toy weapon  32.0   \n",
       "4   9   Michael Rodriguez  04/01/15              shot    nail gun  39.0   \n",
       "\n",
       "  gender race           city state  signs_of_mental_illness threat_level  \\\n",
       "0      M    A        Shelton    WA                     True       attack   \n",
       "1      M    W          Aloha    OR                    False       attack   \n",
       "2      M    H        Wichita    KS                    False        other   \n",
       "3      M    W  San Francisco    CA                     True       attack   \n",
       "4      M    H          Evans    CO                    False       attack   \n",
       "\n",
       "          flee  body_camera  \n",
       "0  Not fleeing        False  \n",
       "1  Not fleeing        False  \n",
       "2  Not fleeing        False  \n",
       "3  Not fleeing        False  \n",
       "4  Not fleeing        False  "
      ]
     },
     "execution_count": 3,
     "metadata": {},
     "output_type": "execute_result"
    }
   ],
   "source": [
    "df.head()"
   ]
  },
  {
   "cell_type": "code",
   "execution_count": 8,
   "metadata": {
    "colab": {
     "base_uri": "https://localhost:8080/",
     "height": 282
    },
    "id": "9l_gl3On2Zi9",
    "outputId": "1ed7b4da-1d76-40e4-cbab-d5afba9a34aa"
   },
   "outputs": [
    {
     "data": {
      "image/png": "[encoded data removed]",
      "text/plain": [
       "<Figure size 432x288 with 1 Axes>"
      ]
     },
     "metadata": {
      "needs_background": "light"
     },
     "output_type": "display_data"
    }
   ],
   "source": [
    "# with pandas\n",
    "y = df.gender.value_counts().values\n",
    "x = df.gender.value_counts().index\n",
    "\n",
    "df.gender.value_counts().plot.bar();\n",
    "\n",
    "for index, value in enumerate(y): \n",
    "    plt.text(index, value, str(value))\n",
    "for index,values in enumerate(y):\n",
    "    plt.text(index,value,str(value))\n"
   ]
  },
  {
   "cell_type": "code",
   "execution_count": 12,
   "metadata": {
    "colab": {
     "base_uri": "https://localhost:8080/",
     "height": 283
    },
    "id": "KtJXC38R2Zi9",
    "outputId": "99c4a881-e389-4469-984c-31d6b2bf67a2"
   },
   "outputs": [
    {
     "data": {
      "image/png": "[encoded data removed]",
      "text/plain": [
       "<Figure size 432x288 with 1 Axes>"
      ]
     },
     "metadata": {
      "needs_background": "light"
     },
     "output_type": "display_data"
    }
   ],
   "source": [
    "# with matplotlib\n",
    "plt.bar(x,y)\n",
    "plt.xlabel('Gender')\n",
    "plt.ylabel('Number')\n",
    "plt.title('Gender Distribution')\n",
    "\n",
    "for index, value in enumerate(y): \n",
    "    plt.text(index, value, str(value))\n"
   ]
  },
  {
   "cell_type": "markdown",
   "metadata": {
    "id": "3CDiN8a22Zi9"
   },
   "source": [
    "## 2: Plot 7 most common kill weapons"
   ]
  },
  {
   "cell_type": "code",
   "execution_count": 13,
   "metadata": {},
   "outputs": [
    {
     "data": {
      "text/plain": [
       "gun               1398\n",
       "knife              373\n",
       "vehicle            177\n",
       "unarmed            171\n",
       "undetermined       117\n",
       "toy weapon         104\n",
       "unknown weapon      18\n",
       "Name: armed, dtype: int64"
      ]
     },
     "execution_count": 13,
     "metadata": {},
     "output_type": "execute_result"
    }
   ],
   "source": [
    "df.armed.value_counts()[:7]"
   ]
  },
  {
   "cell_type": "code",
   "execution_count": 124,
   "metadata": {
    "colab": {
     "base_uri": "https://localhost:8080/"
    },
    "id": "BAU2H77b2Zi9",
    "outputId": "a893d160-7464-448d-de16-6e4399c36a75"
   },
   "outputs": [
    {
     "data": {
      "text/plain": [
       "gun               1398\n",
       "knife              373\n",
       "vehicle            177\n",
       "unarmed            171\n",
       "undetermined       117\n",
       "toy weapon         104\n",
       "unknown weapon      18\n",
       "Name: armed, dtype: int64"
      ]
     },
     "execution_count": 124,
     "metadata": {},
     "output_type": "execute_result"
    }
   ],
   "source": [
    "df.armed.value_counts()[:7]"
   ]
  },
  {
   "cell_type": "code",
   "execution_count": 38,
   "metadata": {},
   "outputs": [
    {
     "data": {
      "image/png": "[encoded data removed]",
      "text/plain": [
       "<Figure size 600x400 with 1 Axes>"
      ]
     },
     "metadata": {
      "needs_background": "light"
     },
     "output_type": "display_data"
    }
   ],
   "source": [
    "y=df.armed.value_counts()[:7].values\n",
    "x=df.armed.value_counts()[:7].index\n",
    "\n",
    "plt.figure(figsize=(6,4),dpi=100)\n",
    "\n",
    "df.armed.value_counts()[:7].plot.bar()\n",
    "\n",
    "plt.xticks(rotation = 60);\n",
    "\n",
    "for index, value in enumerate(y):\n",
    "    plt.text(index,value,str(value),ha=\"center\")\n",
    "  "
   ]
  },
  {
   "cell_type": "code",
   "execution_count": 14,
   "metadata": {
    "colab": {
     "base_uri": "https://localhost:8080/",
     "height": 379
    },
    "id": "WznuMe522Zi-",
    "outputId": "aa03186c-558b-4fa2-f7e0-471d827565c0"
   },
   "outputs": [
    {
     "data": {
      "image/png": "[encoded data removed]",
      "text/plain": [
       "<Figure size 900x600 with 1 Axes>"
      ]
     },
     "metadata": {
      "needs_background": "light"
     },
     "output_type": "display_data"
    }
   ],
   "source": [
    "# with pandas\n",
    "y = df.armed.value_counts()[:7].values\n",
    "x = df.armed.value_counts()[:7].index\n",
    "\n",
    "plt.figure(figsize=(6,4),dpi = 150)\n",
    "\n",
    "df.armed.value_counts()[:7].plot.bar()\n",
    "plt.xticks(rotation = 60);\n",
    "\n",
    "for index, value in enumerate(y):\n",
    "    plt.text(index,value,str(value))\n"
   ]
  },
  {
   "cell_type": "code",
   "execution_count": 40,
   "metadata": {
    "colab": {
     "base_uri": "https://localhost:8080/",
     "height": 379
    },
    "id": "v6AvLOw82Zi-",
    "outputId": "b0539d81-1511-4ec4-b5dd-4160319f2096"
   },
   "outputs": [
    {
     "data": {
      "image/png": "[encoded data removed]",
      "text/plain": [
       "<Figure size 720x360 with 1 Axes>"
      ]
     },
     "metadata": {
      "needs_background": "light"
     },
     "output_type": "display_data"
    }
   ],
   "source": [
    "# with matplotlib\n",
    "fig, ax = plt.subplots(figsize = (10,5))\n",
    "ax.set_ylabel('number')\n",
    "ax.set_title('Distribution Gender')\n",
    "ax.bar(x,y)\n",
    "plt.xticks(rotation = 60)\n",
    "fig.tight_layout()\n",
    "for index, value in enumerate(y):\n",
    "    plt.text(index,value, str(value), ha = 'center', va= \"bottom\")\n"
   ]
  },
  {
   "cell_type": "markdown",
   "metadata": {
    "id": "GqXH5Xag2Zi-"
   },
   "source": [
    "## 3: Plot number of age of killed people under two groups : Under 25 and Above 25"
   ]
  },
  {
   "cell_type": "code",
   "execution_count": 43,
   "metadata": {
    "colab": {
     "base_uri": "https://localhost:8080/",
     "height": 307
    },
    "id": "V4mng-vC2Zi-",
    "outputId": "01c48c2d-3344-4b26-ff0b-632378fb59f2"
   },
   "outputs": [],
   "source": [
    "old =df.age.dropna() <= 25"
   ]
  },
  {
   "cell_type": "code",
   "execution_count": 44,
   "metadata": {},
   "outputs": [
    {
     "data": {
      "text/plain": [
       "0"
      ]
     },
     "execution_count": 44,
     "metadata": {},
     "output_type": "execute_result"
    }
   ],
   "source": [
    "old.isnull().sum()"
   ]
  },
  {
   "cell_type": "code",
   "execution_count": 45,
   "metadata": {},
   "outputs": [],
   "source": [
    "old = old.dropna()"
   ]
  },
  {
   "cell_type": "code",
   "execution_count": 46,
   "metadata": {},
   "outputs": [
    {
     "data": {
      "text/plain": [
       "0       False\n",
       "1       False\n",
       "2        True\n",
       "3       False\n",
       "4       False\n",
       "        ...  \n",
       "2529    False\n",
       "2530    False\n",
       "2532    False\n",
       "2533    False\n",
       "2534    False\n",
       "Name: age, Length: 2458, dtype: bool"
      ]
     },
     "execution_count": 46,
     "metadata": {},
     "output_type": "execute_result"
    }
   ],
   "source": [
    "old"
   ]
  },
  {
   "cell_type": "code",
   "execution_count": 47,
   "metadata": {
    "colab": {
     "base_uri": "https://localhost:8080/",
     "height": 307
    },
    "id": "DJzAOutV2Zi-",
    "outputId": "f1188a5c-2a2a-4cbd-b01e-751d47905f8f"
   },
   "outputs": [],
   "source": [
    "old = old.replace({True:'below25', False:'above25'})"
   ]
  },
  {
   "cell_type": "code",
   "execution_count": 48,
   "metadata": {},
   "outputs": [],
   "source": [
    "old = pd.DataFrame(old)"
   ]
  },
  {
   "cell_type": "code",
   "execution_count": 49,
   "metadata": {
    "colab": {
     "base_uri": "https://localhost:8080/"
    },
    "id": "fSQ8BTUD2Zi_",
    "outputId": "89645134-4eb3-4034-bb3d-e446399aaad0"
   },
   "outputs": [
    {
     "data": {
      "text/plain": [
       "age    \n",
       "above25    1905\n",
       "below25     553\n",
       "dtype: int64"
      ]
     },
     "execution_count": 49,
     "metadata": {},
     "output_type": "execute_result"
    }
   ],
   "source": [
    "old.value_counts()"
   ]
  },
  {
   "cell_type": "code",
   "execution_count": 53,
   "metadata": {
    "colab": {
     "base_uri": "https://localhost:8080/",
     "height": 302
    },
    "id": "O5TT5DGG2Zi_",
    "outputId": "c052b208-6dbd-4f6e-c8a9-63df71c610ee"
   },
   "outputs": [
    {
     "data": {
      "text/plain": [
       "<Figure size 576x432 with 0 Axes>"
      ]
     },
     "metadata": {},
     "output_type": "display_data"
    },
    {
     "data": {
      "image/png": "[encoded data removed]",
      "text/plain": [
       "<Figure size 576x432 with 1 Axes>"
      ]
     },
     "metadata": {
      "needs_background": "light"
     },
     "output_type": "display_data"
    }
   ],
   "source": [
    "# with pandas\n",
    "y=old.value_counts()\n",
    "plt.figure(figsize=(8,6));\n",
    "plt.figure(figsize=(8,6));\n",
    "\n",
    "old.value_counts().plot.bar();\n",
    "for index, value in enumerate(y):\n",
    "    plt.text(index,value,str(value), ha = 'center')\n"
   ]
  },
  {
   "cell_type": "code",
   "execution_count": 135,
   "metadata": {
    "colab": {
     "base_uri": "https://localhost:8080/",
     "height": 269
    },
    "id": "gpOukiYx2Zi_",
    "outputId": "84b257d1-14e1-4bef-d6a4-08cf0a236acb"
   },
   "outputs": [
    {
     "data": {
      "image/png": "[encoded data removed]",
      "text/plain": [
       "<Figure size 432x288 with 1 Axes>"
      ]
     },
     "metadata": {
      "needs_background": "light"
     },
     "output_type": "display_data"
    }
   ],
   "source": [
    "# with matplotlib\n",
    "x = old.age.value_counts().index\n",
    "y = old.age.value_counts().values\n",
    "\n",
    "plt.bar(x,y);\n",
    "for index, value in enumerate(y):\n",
    "    plt.text(index,value,str(value), ha = 'center')"
   ]
  },
  {
   "cell_type": "markdown",
   "metadata": {
    "id": "SZ-wps772Zi_"
   },
   "source": [
    "## 4: Plot number of killed poeple by race"
   ]
  },
  {
   "cell_type": "code",
   "execution_count": 54,
   "metadata": {
    "colab": {
     "base_uri": "https://localhost:8080/"
    },
    "id": "Uqh-Od7X2Zi_",
    "outputId": "9d3da4ed-bc38-45c9-a66f-7d5ba5fb9f5c"
   },
   "outputs": [
    {
     "data": {
      "text/plain": [
       "W    1201\n",
       "B     618\n",
       "H     423\n",
       "A      39\n",
       "N      31\n",
       "O      28\n",
       "Name: race, dtype: int64"
      ]
     },
     "execution_count": 54,
     "metadata": {},
     "output_type": "execute_result"
    }
   ],
   "source": [
    "df.race.value_counts()"
   ]
  },
  {
   "cell_type": "code",
   "execution_count": 137,
   "metadata": {
    "colab": {
     "base_uri": "https://localhost:8080/",
     "height": 283
    },
    "id": "-q2lckGI2ZjA",
    "outputId": "aeed5936-fc89-4370-cdc2-1be0f9c5dcca"
   },
   "outputs": [
    {
     "data": {
      "image/png": "[encoded data removed]",
      "text/plain": [
       "<Figure size 432x288 with 1 Axes>"
      ]
     },
     "metadata": {
      "needs_background": "light"
     },
     "output_type": "display_data"
    }
   ],
   "source": [
    "# with pandas\n",
    "df.race.value_counts().plot.bar()\n",
    "df.race.value_counts().plot.bar()\n",
    "plt.title('Race of killed People', color=\"blue\");"
   ]
  },
  {
   "cell_type": "code",
   "execution_count": 58,
   "metadata": {
    "colab": {
     "base_uri": "https://localhost:8080/",
     "height": 283
    },
    "id": "Bb16OmdB2ZjA",
    "outputId": "7e601245-42a2-4547-8d3f-8151bc5a1005"
   },
   "outputs": [
    {
     "data": {
      "text/plain": [
       "Text(0.5, 1.0, 'Race of Killed People')"
      ]
     },
     "execution_count": 58,
     "metadata": {},
     "output_type": "execute_result"
    },
    {
     "data": {
      "image/png": "[encoded data removed]",
      "text/plain": [
       "<Figure size 432x288 with 1 Axes>"
      ]
     },
     "metadata": {
      "needs_background": "light"
     },
     "output_type": "display_data"
    }
   ],
   "source": [
    "# with matplotlib\n",
    "fig, ax = plt.subplots()\n",
    "ax.bar(df.race.value_counts().index,df.race.value_counts().values)\n",
    "ax.set_title('Race of Killed People', color=\"blue\")\n"
   ]
  },
  {
   "cell_type": "markdown",
   "metadata": {
    "id": "9pGSRTxe-l5B"
   },
   "source": [
    "## 5: Killed People According to Races (Pie Chart)"
   ]
  },
  {
   "cell_type": "code",
   "execution_count": 139,
   "metadata": {
    "colab": {
     "base_uri": "https://localhost:8080/",
     "height": 307
    },
    "id": "gq_OO4tB-l5E",
    "outputId": "0a45ca8f-7df9-4b85-d72f-8b0d4115561c"
   },
   "outputs": [
    {
     "data": {
      "text/html": [
       "<div>\n",
       "<style scoped>\n",
       "    .dataframe tbody tr th:only-of-type {\n",
       "        vertical-align: middle;\n",
       "    }\n",
       "\n",
       "    .dataframe tbody tr th {\n",
       "        vertical-align: top;\n",
       "    }\n",
       "\n",
       "    .dataframe thead th {\n",
       "        text-align: right;\n",
       "    }\n",
       "</style>\n",
       "<table border=\"1\" class=\"dataframe\">\n",
       "  <thead>\n",
       "    <tr style=\"text-align: right;\">\n",
       "      <th></th>\n",
       "      <th>id</th>\n",
       "      <th>name</th>\n",
       "      <th>date</th>\n",
       "      <th>manner_of_death</th>\n",
       "      <th>armed</th>\n",
       "      <th>age</th>\n",
       "      <th>gender</th>\n",
       "      <th>race</th>\n",
       "      <th>city</th>\n",
       "      <th>state</th>\n",
       "      <th>signs_of_mental_illness</th>\n",
       "      <th>threat_level</th>\n",
       "      <th>flee</th>\n",
       "      <th>body_camera</th>\n",
       "    </tr>\n",
       "  </thead>\n",
       "  <tbody>\n",
       "    <tr>\n",
       "      <th>0</th>\n",
       "      <td>3</td>\n",
       "      <td>Tim Elliot</td>\n",
       "      <td>02/01/15</td>\n",
       "      <td>shot</td>\n",
       "      <td>gun</td>\n",
       "      <td>53.0</td>\n",
       "      <td>M</td>\n",
       "      <td>A</td>\n",
       "      <td>Shelton</td>\n",
       "      <td>WA</td>\n",
       "      <td>True</td>\n",
       "      <td>attack</td>\n",
       "      <td>Not fleeing</td>\n",
       "      <td>False</td>\n",
       "    </tr>\n",
       "    <tr>\n",
       "      <th>1</th>\n",
       "      <td>4</td>\n",
       "      <td>Lewis Lee Lembke</td>\n",
       "      <td>02/01/15</td>\n",
       "      <td>shot</td>\n",
       "      <td>gun</td>\n",
       "      <td>47.0</td>\n",
       "      <td>M</td>\n",
       "      <td>W</td>\n",
       "      <td>Aloha</td>\n",
       "      <td>OR</td>\n",
       "      <td>False</td>\n",
       "      <td>attack</td>\n",
       "      <td>Not fleeing</td>\n",
       "      <td>False</td>\n",
       "    </tr>\n",
       "    <tr>\n",
       "      <th>2</th>\n",
       "      <td>5</td>\n",
       "      <td>John Paul Quintero</td>\n",
       "      <td>03/01/15</td>\n",
       "      <td>shot and Tasered</td>\n",
       "      <td>unarmed</td>\n",
       "      <td>23.0</td>\n",
       "      <td>M</td>\n",
       "      <td>H</td>\n",
       "      <td>Wichita</td>\n",
       "      <td>KS</td>\n",
       "      <td>False</td>\n",
       "      <td>other</td>\n",
       "      <td>Not fleeing</td>\n",
       "      <td>False</td>\n",
       "    </tr>\n",
       "    <tr>\n",
       "      <th>3</th>\n",
       "      <td>8</td>\n",
       "      <td>Matthew Hoffman</td>\n",
       "      <td>04/01/15</td>\n",
       "      <td>shot</td>\n",
       "      <td>toy weapon</td>\n",
       "      <td>32.0</td>\n",
       "      <td>M</td>\n",
       "      <td>W</td>\n",
       "      <td>San Francisco</td>\n",
       "      <td>CA</td>\n",
       "      <td>True</td>\n",
       "      <td>attack</td>\n",
       "      <td>Not fleeing</td>\n",
       "      <td>False</td>\n",
       "    </tr>\n",
       "    <tr>\n",
       "      <th>4</th>\n",
       "      <td>9</td>\n",
       "      <td>Michael Rodriguez</td>\n",
       "      <td>04/01/15</td>\n",
       "      <td>shot</td>\n",
       "      <td>nail gun</td>\n",
       "      <td>39.0</td>\n",
       "      <td>M</td>\n",
       "      <td>H</td>\n",
       "      <td>Evans</td>\n",
       "      <td>CO</td>\n",
       "      <td>False</td>\n",
       "      <td>attack</td>\n",
       "      <td>Not fleeing</td>\n",
       "      <td>False</td>\n",
       "    </tr>\n",
       "  </tbody>\n",
       "</table>\n",
       "</div>"
      ],
      "text/plain": [
       "   id                name      date   manner_of_death       armed   age  \\\n",
       "0   3          Tim Elliot  02/01/15              shot         gun  53.0   \n",
       "1   4    Lewis Lee Lembke  02/01/15              shot         gun  47.0   \n",
       "2   5  John Paul Quintero  03/01/15  shot and Tasered     unarmed  23.0   \n",
       "3   8     Matthew Hoffman  04/01/15              shot  toy weapon  32.0   \n",
       "4   9   Michael Rodriguez  04/01/15              shot    nail gun  39.0   \n",
       "\n",
       "  gender race           city state  signs_of_mental_illness threat_level  \\\n",
       "0      M    A        Shelton    WA                     True       attack   \n",
       "1      M    W          Aloha    OR                    False       attack   \n",
       "2      M    H        Wichita    KS                    False        other   \n",
       "3      M    W  San Francisco    CA                     True       attack   \n",
       "4      M    H          Evans    CO                    False       attack   \n",
       "\n",
       "          flee  body_camera  \n",
       "0  Not fleeing        False  \n",
       "1  Not fleeing        False  \n",
       "2  Not fleeing        False  \n",
       "3  Not fleeing        False  \n",
       "4  Not fleeing        False  "
      ]
     },
     "execution_count": 139,
     "metadata": {},
     "output_type": "execute_result"
    }
   ],
   "source": [
    "df.head()"
   ]
  },
  {
   "cell_type": "code",
   "execution_count": 140,
   "metadata": {
    "_uuid": "73ef9a67518196c14338e28236b5054186fabdc1",
    "colab": {
     "base_uri": "https://localhost:8080/"
    },
    "id": "_ZPh_aCz-l5F",
    "outputId": "8ee30bed-c707-4e5d-b0a0-ae4e896e35e8"
   },
   "outputs": [
    {
     "data": {
      "text/plain": [
       "array(['A', 'W', 'H', ..., nan, 'B', 'B'], dtype=object)"
      ]
     },
     "execution_count": 140,
     "metadata": {},
     "output_type": "execute_result"
    }
   ],
   "source": [
    "df.race.values"
   ]
  },
  {
   "cell_type": "code",
   "execution_count": 141,
   "metadata": {
    "colab": {
     "base_uri": "https://localhost:8080/"
    },
    "id": "4lJAFvsx-l5F",
    "outputId": "014ec220-87cf-4b96-da5c-b0f600130869"
   },
   "outputs": [
    {
     "data": {
      "text/plain": [
       "W    1201\n",
       "B     618\n",
       "H     423\n",
       "A      39\n",
       "N      31\n",
       "O      28\n",
       "Name: race, dtype: int64"
      ]
     },
     "execution_count": 141,
     "metadata": {},
     "output_type": "execute_result"
    }
   ],
   "source": [
    "df.race.value_counts()"
   ]
  },
  {
   "cell_type": "markdown",
   "metadata": {
    "id": "VuWSIYCm-l5F"
   },
   "source": [
    "Problem: missing value on race column."
   ]
  },
  {
   "cell_type": "markdown",
   "metadata": {
    "id": "mmCQXFcg-l5G"
   },
   "source": [
    "**INSTRUCTION-1: Drop the all raws that contain missing value (dropna)**"
   ]
  },
  {
   "cell_type": "code",
   "execution_count": 142,
   "metadata": {
    "id": "CzwSuxgQ-l5G"
   },
   "outputs": [],
   "source": [
    "df.dropna(inplace=True)"
   ]
  },
  {
   "cell_type": "code",
   "execution_count": 143,
   "metadata": {
    "colab": {
     "base_uri": "https://localhost:8080/"
    },
    "id": "3DzEkUNo-l5G",
    "outputId": "fe3f08e2-9ffa-40b2-edad-963b7ee8e29d"
   },
   "outputs": [
    {
     "data": {
      "text/plain": [
       "(2254, 14)"
      ]
     },
     "execution_count": 143,
     "metadata": {},
     "output_type": "execute_result"
    }
   ],
   "source": [
    "df.shape"
   ]
  },
  {
   "cell_type": "markdown",
   "metadata": {
    "id": "DRb2AH84-l5G"
   },
   "source": [
    "**INSTRUCTION-2: Demonstrate Race Ratio of Killed People by a Pie Chart (You can use Matplotlib)**"
   ]
  },
  {
   "cell_type": "code",
   "execution_count": 144,
   "metadata": {
    "colab": {
     "base_uri": "https://localhost:8080/"
    },
    "id": "Pq0aSdnz-l5G",
    "outputId": "313c6efc-d2cd-4030-8ee8-1cd496565d2c"
   },
   "outputs": [
    {
     "data": {
      "text/plain": [
       "W    1168\n",
       "B     592\n",
       "H     401\n",
       "A      36\n",
       "N      29\n",
       "O      28\n",
       "Name: race, dtype: int64"
      ]
     },
     "execution_count": 144,
     "metadata": {},
     "output_type": "execute_result"
    }
   ],
   "source": [
    "df.race.value_counts()"
   ]
  },
  {
   "cell_type": "code",
   "execution_count": 145,
   "metadata": {
    "colab": {
     "base_uri": "https://localhost:8080/"
    },
    "id": "z3CnjKfh-l5H",
    "outputId": "f138b9ff-11c1-48e2-e616-6a8db21e7dbe",
    "scrolled": true
   },
   "outputs": [
    {
     "data": {
      "text/plain": [
       "Index(['W', 'B', 'H', 'A', 'N', 'O'], dtype='object')"
      ]
     },
     "execution_count": 145,
     "metadata": {},
     "output_type": "execute_result"
    }
   ],
   "source": [
    "df.race.value_counts().index"
   ]
  },
  {
   "cell_type": "code",
   "execution_count": 146,
   "metadata": {
    "colab": {
     "base_uri": "https://localhost:8080/"
    },
    "id": "dNnqgLCM-l5H",
    "outputId": "939f3639-058d-4bf3-abd0-19105f334802"
   },
   "outputs": [
    {
     "data": {
      "text/plain": [
       "array([1168,  592,  401,   36,   29,   28], dtype=int64)"
      ]
     },
     "execution_count": 146,
     "metadata": {},
     "output_type": "execute_result"
    }
   ],
   "source": [
    "df.race.value_counts().values"
   ]
  },
  {
   "cell_type": "code",
   "execution_count": 62,
   "metadata": {
    "colab": {
     "base_uri": "https://localhost:8080/",
     "height": 575
    },
    "id": "F1CSkbxa-l5H",
    "outputId": "18bae490-b8d5-49b0-b124-f1c4f75a0129"
   },
   "outputs": [
    {
     "data": {
      "image/png": "[encoded data removed]",
      "text/plain": [
       "<Figure size 432x288 with 1 Axes>"
      ]
     },
     "metadata": {},
     "output_type": "display_data"
    }
   ],
   "source": [
    "# matplotlib\n",
    "\n",
    "#plt.pie(df.race.value_counts(),labels = df.race.value_counts().index, autopct='%1.1f%%',explode = explode);\n",
    "#explode = (0, 0, 0.2, 0, 0, 0)\n",
    "\n",
    "labels = df.race.value_counts().index\n",
    "sizes = df.race.value_counts()\n",
    "explode = (0.1, 0.1, 0.1, 0,0,0)  # only \"explode\" the 2nd slice (i.e. 'Hogs')\n",
    "\n",
    "fig1, ax1 = plt.subplots()\n",
    "ax1.pie(sizes, explode=explode, labels=labels, autopct='%1.1f%%',\n",
    "        shadow=True, startangle=90)\n",
    "ax1.axis('equal')  # Equal aspect ratio ensures that pie is drawn as a circle.\n",
    "\n",
    "plt.show()"
   ]
  },
  {
   "cell_type": "markdown",
   "metadata": {
    "id": "zOQ2PusO-G-U"
   },
   "source": [
    "## 6: Most common 15 Name or Surname of killed people "
   ]
  },
  {
   "cell_type": "code",
   "execution_count": 67,
   "metadata": {
    "_uuid": "bfb975b648fbcbd1c6cdf1634f01e01371924a8c",
    "colab": {
     "base_uri": "https://localhost:8080/",
     "height": 307
    },
    "id": "7s9SsMsj-G-U",
    "outputId": "2d3cc676-d586-402c-cabd-938eb19880bf"
   },
   "outputs": [
    {
     "data": {
      "text/html": [
       "<div>\n",
       "<style scoped>\n",
       "    .dataframe tbody tr th:only-of-type {\n",
       "        vertical-align: middle;\n",
       "    }\n",
       "\n",
       "    .dataframe tbody tr th {\n",
       "        vertical-align: top;\n",
       "    }\n",
       "\n",
       "    .dataframe thead th {\n",
       "        text-align: right;\n",
       "    }\n",
       "</style>\n",
       "<table border=\"1\" class=\"dataframe\">\n",
       "  <thead>\n",
       "    <tr style=\"text-align: right;\">\n",
       "      <th></th>\n",
       "      <th>id</th>\n",
       "      <th>name</th>\n",
       "      <th>date</th>\n",
       "      <th>manner_of_death</th>\n",
       "      <th>armed</th>\n",
       "      <th>age</th>\n",
       "      <th>gender</th>\n",
       "      <th>race</th>\n",
       "      <th>city</th>\n",
       "      <th>state</th>\n",
       "      <th>signs_of_mental_illness</th>\n",
       "      <th>threat_level</th>\n",
       "      <th>flee</th>\n",
       "      <th>body_camera</th>\n",
       "    </tr>\n",
       "  </thead>\n",
       "  <tbody>\n",
       "    <tr>\n",
       "      <th>0</th>\n",
       "      <td>3</td>\n",
       "      <td>Tim Elliot</td>\n",
       "      <td>02/01/15</td>\n",
       "      <td>shot</td>\n",
       "      <td>gun</td>\n",
       "      <td>53.0</td>\n",
       "      <td>M</td>\n",
       "      <td>A</td>\n",
       "      <td>Shelton</td>\n",
       "      <td>WA</td>\n",
       "      <td>True</td>\n",
       "      <td>attack</td>\n",
       "      <td>Not fleeing</td>\n",
       "      <td>False</td>\n",
       "    </tr>\n",
       "    <tr>\n",
       "      <th>1</th>\n",
       "      <td>4</td>\n",
       "      <td>Lewis Lee Lembke</td>\n",
       "      <td>02/01/15</td>\n",
       "      <td>shot</td>\n",
       "      <td>gun</td>\n",
       "      <td>47.0</td>\n",
       "      <td>M</td>\n",
       "      <td>W</td>\n",
       "      <td>Aloha</td>\n",
       "      <td>OR</td>\n",
       "      <td>False</td>\n",
       "      <td>attack</td>\n",
       "      <td>Not fleeing</td>\n",
       "      <td>False</td>\n",
       "    </tr>\n",
       "    <tr>\n",
       "      <th>2</th>\n",
       "      <td>5</td>\n",
       "      <td>John Paul Quintero</td>\n",
       "      <td>03/01/15</td>\n",
       "      <td>shot and Tasered</td>\n",
       "      <td>unarmed</td>\n",
       "      <td>23.0</td>\n",
       "      <td>M</td>\n",
       "      <td>H</td>\n",
       "      <td>Wichita</td>\n",
       "      <td>KS</td>\n",
       "      <td>False</td>\n",
       "      <td>other</td>\n",
       "      <td>Not fleeing</td>\n",
       "      <td>False</td>\n",
       "    </tr>\n",
       "    <tr>\n",
       "      <th>3</th>\n",
       "      <td>8</td>\n",
       "      <td>Matthew Hoffman</td>\n",
       "      <td>04/01/15</td>\n",
       "      <td>shot</td>\n",
       "      <td>toy weapon</td>\n",
       "      <td>32.0</td>\n",
       "      <td>M</td>\n",
       "      <td>W</td>\n",
       "      <td>San Francisco</td>\n",
       "      <td>CA</td>\n",
       "      <td>True</td>\n",
       "      <td>attack</td>\n",
       "      <td>Not fleeing</td>\n",
       "      <td>False</td>\n",
       "    </tr>\n",
       "    <tr>\n",
       "      <th>4</th>\n",
       "      <td>9</td>\n",
       "      <td>Michael Rodriguez</td>\n",
       "      <td>04/01/15</td>\n",
       "      <td>shot</td>\n",
       "      <td>nail gun</td>\n",
       "      <td>39.0</td>\n",
       "      <td>M</td>\n",
       "      <td>H</td>\n",
       "      <td>Evans</td>\n",
       "      <td>CO</td>\n",
       "      <td>False</td>\n",
       "      <td>attack</td>\n",
       "      <td>Not fleeing</td>\n",
       "      <td>False</td>\n",
       "    </tr>\n",
       "  </tbody>\n",
       "</table>\n",
       "</div>"
      ],
      "text/plain": [
       "   id                name      date   manner_of_death       armed   age  \\\n",
       "0   3          Tim Elliot  02/01/15              shot         gun  53.0   \n",
       "1   4    Lewis Lee Lembke  02/01/15              shot         gun  47.0   \n",
       "2   5  John Paul Quintero  03/01/15  shot and Tasered     unarmed  23.0   \n",
       "3   8     Matthew Hoffman  04/01/15              shot  toy weapon  32.0   \n",
       "4   9   Michael Rodriguez  04/01/15              shot    nail gun  39.0   \n",
       "\n",
       "  gender race           city state  signs_of_mental_illness threat_level  \\\n",
       "0      M    A        Shelton    WA                     True       attack   \n",
       "1      M    W          Aloha    OR                    False       attack   \n",
       "2      M    H        Wichita    KS                    False        other   \n",
       "3      M    W  San Francisco    CA                     True       attack   \n",
       "4      M    H          Evans    CO                    False       attack   \n",
       "\n",
       "          flee  body_camera  \n",
       "0  Not fleeing        False  \n",
       "1  Not fleeing        False  \n",
       "2  Not fleeing        False  \n",
       "3  Not fleeing        False  \n",
       "4  Not fleeing        False  "
      ]
     },
     "execution_count": 67,
     "metadata": {},
     "output_type": "execute_result"
    }
   ],
   "source": [
    "df.head()"
   ]
  },
  {
   "cell_type": "code",
   "execution_count": 68,
   "metadata": {
    "colab": {
     "base_uri": "https://localhost:8080/"
    },
    "id": "R7idQSfR-G-V",
    "outputId": "617558e5-408e-4392-bf31-50db2d071323",
    "scrolled": true
   },
   "outputs": [
    {
     "data": {
      "text/plain": [
       "(2535, 14)"
      ]
     },
     "execution_count": 68,
     "metadata": {},
     "output_type": "execute_result"
    }
   ],
   "source": [
    "df.shape"
   ]
  },
  {
   "cell_type": "code",
   "execution_count": 69,
   "metadata": {
    "colab": {
     "base_uri": "https://localhost:8080/"
    },
    "id": "xx5JDVqZ-G-V",
    "outputId": "9ee6b2a8-b264-40c6-f187-6dd7d1c32efe"
   },
   "outputs": [
    {
     "data": {
      "text/plain": [
       "TK TK                       49\n",
       "Michael Johnson              2\n",
       "Brandon Jones                2\n",
       "Eric Harris                  2\n",
       "TK Tk                        2\n",
       "                            ..\n",
       "Bertrand Davis               1\n",
       "Rainer Tyler Smith           1\n",
       "Richard Risher               1\n",
       "Michael Ireland              1\n",
       "Dontrell Montrese Carter     1\n",
       "Name: name, Length: 2481, dtype: int64"
      ]
     },
     "execution_count": 69,
     "metadata": {},
     "output_type": "execute_result"
    }
   ],
   "source": [
    "df.name.value_counts()"
   ]
  },
  {
   "cell_type": "code",
   "execution_count": 70,
   "metadata": {
    "_cell_guid": "c2cd6681-42a4-44c2-ba1a-46d4d61b6eea",
    "_uuid": "b3b53866f9c794ca5f85f59bc5bfc0d01a830baf",
    "colab": {
     "base_uri": "https://localhost:8080/"
    },
    "id": "YsaT2vLg-G-W",
    "outputId": "f3de216b-2176-4b7e-8fc2-c9e3858bd298",
    "scrolled": true
   },
   "outputs": [],
   "source": [
    "# Problem: TK TK is most probably not a name or surname. We will clean them.\n",
    "\n",
    "pairs = df.name[df.name != 'TK TK'].str.split()\n"
   ]
  },
  {
   "cell_type": "code",
   "execution_count": 71,
   "metadata": {},
   "outputs": [
    {
     "data": {
      "text/plain": [
       "0                [Tim, Elliot]\n",
       "1         [Lewis, Lee, Lembke]\n",
       "2       [John, Paul, Quintero]\n",
       "3           [Matthew, Hoffman]\n",
       "4         [Michael, Rodriguez]\n",
       "                 ...          \n",
       "2529      [Brian, J., Skinner]\n",
       "2530      [Rodney, E., Jacobs]\n",
       "2532    [Dennis, W., Robinson]\n",
       "2533          [Isaiah, Tucker]\n",
       "2534           [Dwayne, Jeune]\n",
       "Name: name, Length: 2486, dtype: object"
      ]
     },
     "execution_count": 71,
     "metadata": {},
     "output_type": "execute_result"
    }
   ],
   "source": [
    "pairs"
   ]
  },
  {
   "cell_type": "code",
   "execution_count": 72,
   "metadata": {
    "colab": {
     "base_uri": "https://localhost:8080/"
    },
    "id": "Tm35sunM-G-W",
    "outputId": "f6fc6156-5af6-4a3d-f509-9c16f85fb1c8"
   },
   "outputs": [
    {
     "data": {
      "text/plain": [
       "pandas.core.series.Series"
      ]
     },
     "execution_count": 72,
     "metadata": {},
     "output_type": "execute_result"
    }
   ],
   "source": [
    "type(pairs)"
   ]
  },
  {
   "cell_type": "markdown",
   "metadata": {
    "id": "SDeKoDA3-G-W"
   },
   "source": [
    "**INSTRUCTION : Plot Most common 15 Name OR Surname of killed people** "
   ]
  },
  {
   "cell_type": "raw",
   "metadata": {
    "id": "GDrfQsvl-G-W"
   },
   "source": [
    "### Clue 1: You need to separate the names and surnames because we are asking most common name OR surname.\n",
    "\n",
    "### Clue 2 :After seperation make a whole list that contains both names and surnames.\n",
    "\n",
    "### Clue 3 : How to separate the name and surname pairs?\n",
    "\n",
    ">>> pairs = [(1, 'a'), (2, 'b'), (3, 'c'), (4, 'd')]\n",
    ">>> numbers, letters = zip(*pairs)\n",
    ">>> numbers\n",
    "(1, 2, 3, 4)\n",
    ">>> letters\n",
    "('a', 'b', 'c', 'd')\n",
    "\n",
    "### Clue 4: You can use Counter() and most_common() built in functions together to find the most common names or surnames, or you can write your own functions for this purpose."
   ]
  },
  {
   "cell_type": "code",
   "execution_count": 73,
   "metadata": {},
   "outputs": [
    {
     "data": {
      "text/plain": [
       "0                [Tim, Elliot]\n",
       "1         [Lewis, Lee, Lembke]\n",
       "2       [John, Paul, Quintero]\n",
       "3           [Matthew, Hoffman]\n",
       "4         [Michael, Rodriguez]\n",
       "                 ...          \n",
       "2530      [Rodney, E., Jacobs]\n",
       "2531                  [TK, TK]\n",
       "2532    [Dennis, W., Robinson]\n",
       "2533          [Isaiah, Tucker]\n",
       "2534           [Dwayne, Jeune]\n",
       "Name: name, Length: 2535, dtype: object"
      ]
     },
     "execution_count": 73,
     "metadata": {},
     "output_type": "execute_result"
    }
   ],
   "source": [
    "a = df.name.str.split()\n",
    "a"
   ]
  },
  {
   "cell_type": "code",
   "execution_count": 74,
   "metadata": {},
   "outputs": [
    {
     "data": {
      "text/plain": [
       "['Tim',\n",
       " 'Elliot',\n",
       " 'Lewis',\n",
       " 'Lee',\n",
       " 'Lembke',\n",
       " 'John',\n",
       " 'Paul',\n",
       " 'Quintero',\n",
       " 'Matthew',\n",
       " 'Hoffman',\n",
       " 'Michael',\n",
       " 'Rodriguez',\n",
       " 'Kenneth',\n",
       " 'Joe',\n",
       " 'Brown',\n",
       " 'Kenneth',\n",
       " 'Arnold',\n",
       " 'Buck',\n",
       " 'Brock',\n",
       " 'Nichols',\n",
       " 'Autumn',\n",
       " 'Steele',\n",
       " 'Leslie',\n",
       " 'Sapp',\n",
       " 'III',\n",
       " 'Patrick',\n",
       " 'Wetter',\n",
       " 'Ron',\n",
       " 'Sneed',\n",
       " 'Hashim',\n",
       " 'Hanif',\n",
       " 'Ibn',\n",
       " 'Abdul-Rasheed',\n",
       " 'Nicholas',\n",
       " 'Ryan',\n",
       " 'Brickman',\n",
       " 'Omarr',\n",
       " 'Julian',\n",
       " 'Maximillian',\n",
       " 'Jackson',\n",
       " 'Loren',\n",
       " 'Simpson',\n",
       " 'James',\n",
       " 'Dudley',\n",
       " 'Barker',\n",
       " 'Artago',\n",
       " 'Damon',\n",
       " 'Howard',\n",
       " 'Thomas',\n",
       " 'Hamby',\n",
       " 'Jimmy',\n",
       " 'Foreman',\n",
       " 'Andy',\n",
       " 'Martinez',\n",
       " 'Tommy',\n",
       " 'Smith',\n",
       " 'Brian',\n",
       " 'Barbosa',\n",
       " 'Salvador',\n",
       " 'Figueroa',\n",
       " 'John',\n",
       " 'Edward',\n",
       " \"O'Keefe\",\n",
       " 'Richard',\n",
       " 'McClendon',\n",
       " 'Marcus',\n",
       " 'Golden',\n",
       " 'Michael',\n",
       " 'Goebel',\n",
       " 'Mario',\n",
       " 'Jordan',\n",
       " 'Talbot',\n",
       " 'Schroeder',\n",
       " 'Robert',\n",
       " 'Edwards',\n",
       " 'Jeffrey',\n",
       " 'R.',\n",
       " 'Nielson',\n",
       " 'Donte',\n",
       " 'Sowell',\n",
       " 'Kavonda',\n",
       " 'Earl',\n",
       " 'Payton',\n",
       " 'Quincy',\n",
       " 'Reed',\n",
       " 'Reindl',\n",
       " 'Jose',\n",
       " 'Ceja',\n",
       " 'Nathan',\n",
       " 'Massey',\n",
       " 'Scott',\n",
       " 'Hall',\n",
       " 'Zaki',\n",
       " 'Shinwary',\n",
       " 'Terence',\n",
       " 'Walker',\n",
       " 'Pablo',\n",
       " 'Meza',\n",
       " 'Daniel',\n",
       " 'Brumley',\n",
       " 'Jonathan',\n",
       " 'Guillory',\n",
       " 'Carter',\n",
       " 'Castle',\n",
       " 'Paul',\n",
       " 'Campbell',\n",
       " 'Dewayne',\n",
       " 'Carr',\n",
       " 'Todd',\n",
       " 'Allen',\n",
       " 'Hodge',\n",
       " 'Miguel',\n",
       " 'Angel',\n",
       " 'de',\n",
       " 'Santos-Rodriguez',\n",
       " 'Isaac',\n",
       " 'Holmes',\n",
       " 'Andrew',\n",
       " 'Toto',\n",
       " 'Tiano',\n",
       " 'Meton',\n",
       " 'Kristiana',\n",
       " 'Coignard',\n",
       " 'Robert',\n",
       " 'Francis',\n",
       " 'Mesch',\n",
       " 'Demaris',\n",
       " 'Turner',\n",
       " 'Jose',\n",
       " 'Antonio',\n",
       " 'Espinoza',\n",
       " 'Ruiz',\n",
       " 'Wendell',\n",
       " 'King',\n",
       " 'Daryl',\n",
       " 'Myler',\n",
       " 'Darin',\n",
       " 'Hutchins',\n",
       " 'Orlando',\n",
       " 'Jude',\n",
       " 'Lopez',\n",
       " 'William',\n",
       " 'Campbell',\n",
       " 'Jessie',\n",
       " 'Hernandez',\n",
       " 'Raymond',\n",
       " 'Kmetz',\n",
       " 'Joshua',\n",
       " 'Omar',\n",
       " 'Garcia',\n",
       " 'David',\n",
       " 'Garcia',\n",
       " 'Nicolas',\n",
       " 'Leland',\n",
       " 'Tewa',\n",
       " 'Chris',\n",
       " 'Ingram',\n",
       " 'Jermonte',\n",
       " 'Fletcher',\n",
       " 'Tiffany',\n",
       " 'Terry',\n",
       " 'Alan',\n",
       " 'Lance',\n",
       " 'Alverson',\n",
       " 'Matautu',\n",
       " 'Nuu',\n",
       " 'Cody',\n",
       " 'Karasek',\n",
       " 'Ralph',\n",
       " 'Willis',\n",
       " 'Alan',\n",
       " 'James',\n",
       " 'John',\n",
       " 'Barry',\n",
       " 'Marshall',\n",
       " 'Victor',\n",
       " 'Manuel',\n",
       " 'Reyes',\n",
       " 'Edward',\n",
       " 'Donnell',\n",
       " 'Bright',\n",
       " 'Jacob',\n",
       " 'Haglund',\n",
       " 'David',\n",
       " 'Kassick',\n",
       " 'Francis',\n",
       " 'Murphy',\n",
       " 'Rose',\n",
       " 'III',\n",
       " 'Ledarius',\n",
       " 'D.',\n",
       " 'Williams',\n",
       " 'Yuvette',\n",
       " 'Henderson',\n",
       " 'Dewayne',\n",
       " 'Deshawn',\n",
       " 'Ward',\n",
       " 'Anthony',\n",
       " 'Purvis',\n",
       " 'Jeremy',\n",
       " 'Lett',\n",
       " 'Izzy',\n",
       " 'Colon',\n",
       " 'Salvador',\n",
       " 'Muna',\n",
       " 'Joaquin',\n",
       " 'Hernandez',\n",
       " 'Jimmy',\n",
       " 'Ray',\n",
       " 'Robinson',\n",
       " 'Jr.',\n",
       " 'Markell',\n",
       " 'Atkins',\n",
       " 'Paul',\n",
       " 'Alfred',\n",
       " 'Eugene',\n",
       " 'Johnson',\n",
       " 'Herbert',\n",
       " 'Hill',\n",
       " 'John',\n",
       " 'Sawyer',\n",
       " 'James',\n",
       " 'Allen',\n",
       " 'John',\n",
       " 'Martin',\n",
       " 'Whittaker',\n",
       " 'Sawyer',\n",
       " 'Flache',\n",
       " 'Vincent',\n",
       " 'Cordaro',\n",
       " 'Joseph',\n",
       " 'Paffen',\n",
       " 'Larry',\n",
       " 'Hostetter',\n",
       " 'Kenneth',\n",
       " 'Kreyssig',\n",
       " 'Desmond',\n",
       " 'Luster',\n",
       " 'Antonio',\n",
       " 'Zambrano-Montes',\n",
       " 'Anthony',\n",
       " 'Bess',\n",
       " 'Brian',\n",
       " 'Fritze',\n",
       " 'Phillip',\n",
       " 'Watkins',\n",
       " 'Fletcher',\n",
       " 'Ray',\n",
       " 'Stewart',\n",
       " 'Jonathan',\n",
       " 'Larry',\n",
       " 'Harden',\n",
       " 'Andres',\n",
       " 'Lara-Rodriguez',\n",
       " 'Richard',\n",
       " 'Carlin',\n",
       " 'Matthew',\n",
       " 'D.',\n",
       " 'Belk',\n",
       " 'Daniel',\n",
       " 'Mejia',\n",
       " 'Jason',\n",
       " 'C.',\n",
       " 'Hendrix',\n",
       " 'Roy',\n",
       " 'Joy',\n",
       " 'Day',\n",
       " 'Lavall',\n",
       " 'Hall',\n",
       " 'Howard',\n",
       " 'Brent',\n",
       " 'Means',\n",
       " 'Jr.',\n",
       " 'Bruce',\n",
       " 'Steward',\n",
       " 'Lawrence',\n",
       " 'Caldwell',\n",
       " 'Michael',\n",
       " 'K.',\n",
       " 'Casper',\n",
       " 'Cody',\n",
       " 'Evans',\n",
       " 'Betty',\n",
       " 'Sexton',\n",
       " 'Michael',\n",
       " 'Ireland',\n",
       " 'Matthew',\n",
       " 'Lundy',\n",
       " 'Douglas',\n",
       " 'Sparks',\n",
       " 'Pedro',\n",
       " 'Juan',\n",
       " 'Saldivar',\n",
       " 'Janisha',\n",
       " 'Fonville',\n",
       " 'Alejandro',\n",
       " 'Salazar',\n",
       " 'Ruben',\n",
       " 'Villalpando',\n",
       " 'Stanley',\n",
       " 'Lamar',\n",
       " 'Grant',\n",
       " 'Douglas',\n",
       " 'Harris',\n",
       " 'Jason',\n",
       " 'Moncrief',\n",
       " 'Carter',\n",
       " 'Kent',\n",
       " 'Norman',\n",
       " 'Bradford',\n",
       " 'Leonard',\n",
       " 'Jerome',\n",
       " 'Nichols',\n",
       " 'Daniel',\n",
       " 'Elrod',\n",
       " 'Robert',\n",
       " 'Kohl',\n",
       " 'Michael',\n",
       " 'Wayne',\n",
       " 'Smashey',\n",
       " 'Anthony',\n",
       " 'Giaquinta',\n",
       " \"A'Donte\",\n",
       " 'Washington',\n",
       " 'Joseph',\n",
       " 'Biegert',\n",
       " 'Glenn',\n",
       " 'Lewis',\n",
       " 'Francis',\n",
       " 'Spivey',\n",
       " 'Alexander',\n",
       " 'Phillip',\n",
       " 'Long',\n",
       " 'David',\n",
       " 'Cuevas',\n",
       " 'Amilcar',\n",
       " 'Perez-Lopez',\n",
       " 'Rodney',\n",
       " 'Biggs',\n",
       " 'Crystal',\n",
       " 'Lee',\n",
       " 'Miley',\n",
       " 'Harry',\n",
       " 'Ernesto',\n",
       " 'Javiar',\n",
       " 'Canepa',\n",
       " 'Diaz',\n",
       " 'Chazsten',\n",
       " 'Freeman',\n",
       " 'Deven',\n",
       " 'Guilford',\n",
       " 'Thomas',\n",
       " 'Allen',\n",
       " 'Jessica',\n",
       " 'Uribe',\n",
       " 'Cornelius',\n",
       " 'J.',\n",
       " 'Parker',\n",
       " 'Ian',\n",
       " 'Sherrod',\n",
       " 'Stephanie',\n",
       " 'Hill',\n",
       " 'Donald',\n",
       " 'Lewis',\n",
       " 'Matkins',\n",
       " 'Charly',\n",
       " 'Leundeu',\n",
       " 'Keunang',\n",
       " 'Hung',\n",
       " 'Trieu',\n",
       " 'Shaquille',\n",
       " 'Barrow',\n",
       " 'Fednel',\n",
       " 'Rhinvil',\n",
       " 'Matthew',\n",
       " 'Metz',\n",
       " 'Derek',\n",
       " 'Cruice',\n",
       " 'Carl',\n",
       " 'Lao',\n",
       " 'Tyrone',\n",
       " 'Ryerson',\n",
       " 'Lawrence',\n",
       " 'Sergio',\n",
       " 'Alexander',\n",
       " 'Navas',\n",
       " 'Tyson',\n",
       " 'Hubbard',\n",
       " 'Naeschylus',\n",
       " 'Vinzant',\n",
       " 'Andrew',\n",
       " 'Anthony',\n",
       " 'Williams',\n",
       " 'Tony',\n",
       " 'Robinson',\n",
       " 'Adam',\n",
       " 'Reinhart',\n",
       " 'Aurelio',\n",
       " 'Duarte',\n",
       " 'Michael',\n",
       " 'McKillop',\n",
       " 'Monique',\n",
       " 'Jenee',\n",
       " 'Deckard',\n",
       " 'Lester',\n",
       " 'Brown',\n",
       " 'James',\n",
       " 'Brent',\n",
       " 'Damon',\n",
       " 'Cedrick',\n",
       " 'Lamont',\n",
       " 'Bishop',\n",
       " 'Anthony',\n",
       " 'Hill',\n",
       " 'Jamie',\n",
       " 'Croom',\n",
       " 'Christopher',\n",
       " 'Mitchell',\n",
       " 'Edixon',\n",
       " 'Franco',\n",
       " 'Theodore',\n",
       " 'Johnson',\n",
       " 'James',\n",
       " 'Greenwell',\n",
       " 'Benito',\n",
       " 'Osorio',\n",
       " 'Ryan',\n",
       " 'Dean',\n",
       " 'Burgess',\n",
       " 'Aaron',\n",
       " 'Valdez',\n",
       " 'Gilbert',\n",
       " 'Fleury',\n",
       " 'William',\n",
       " 'Russell',\n",
       " 'Smith',\n",
       " 'Terry',\n",
       " 'Garnett',\n",
       " 'Jr.',\n",
       " 'Bobby',\n",
       " 'Gross',\n",
       " 'Fred',\n",
       " 'Liggett',\n",
       " 'Andrew',\n",
       " 'Driver',\n",
       " 'Antonio',\n",
       " 'Perez',\n",
       " 'James',\n",
       " 'Richard',\n",
       " 'Jimenez',\n",
       " 'Richard',\n",
       " 'Castilleja',\n",
       " 'Clifton',\n",
       " 'Reintzel',\n",
       " 'Aaron',\n",
       " 'Siler',\n",
       " 'Troy',\n",
       " 'Ray',\n",
       " 'Boyd',\n",
       " 'Justin',\n",
       " 'Tolkinen',\n",
       " 'William',\n",
       " 'Dean',\n",
       " 'Poole',\n",
       " 'Eugene',\n",
       " 'Smith',\n",
       " 'Roberto',\n",
       " 'Leon',\n",
       " 'Andrew',\n",
       " 'Charles',\n",
       " 'Shipley',\n",
       " 'Declan',\n",
       " 'Owen',\n",
       " 'Alice',\n",
       " 'Brown',\n",
       " 'Jeff',\n",
       " 'Alexander',\n",
       " 'Kaylene',\n",
       " 'Stone',\n",
       " 'Garland',\n",
       " 'Lee',\n",
       " 'Wingo',\n",
       " 'Kendre',\n",
       " 'Alston',\n",
       " 'Jamison',\n",
       " 'Childress',\n",
       " 'Robert',\n",
       " 'Burdge',\n",
       " 'Shane',\n",
       " 'Watkins',\n",
       " 'Brandon',\n",
       " 'Jones',\n",
       " 'Brandon',\n",
       " 'Rapp',\n",
       " 'Justin',\n",
       " 'Fowler',\n",
       " 'Richard',\n",
       " 'White',\n",
       " 'Tyrel',\n",
       " 'Vick',\n",
       " 'James',\n",
       " 'Ellis',\n",
       " 'Gary',\n",
       " 'Page',\n",
       " 'Jason',\n",
       " 'Smith',\n",
       " 'Enoch',\n",
       " 'Gaver',\n",
       " 'Phillip',\n",
       " 'Conley',\n",
       " 'Christopher',\n",
       " 'Ryan',\n",
       " 'Healy',\n",
       " 'Denzel',\n",
       " 'Brown',\n",
       " 'Devin',\n",
       " 'Gates',\n",
       " 'Stephen',\n",
       " 'Snyder',\n",
       " 'Walter',\n",
       " 'J.',\n",
       " 'Brown',\n",
       " 'III',\n",
       " 'Scott',\n",
       " 'Dunham',\n",
       " 'Nicholas',\n",
       " 'Thomas',\n",
       " 'Jeremy',\n",
       " 'Lorenza',\n",
       " 'Kelly',\n",
       " 'Victor',\n",
       " 'Terrazas',\n",
       " 'Joseph',\n",
       " 'Tassinari',\n",
       " 'Deanne',\n",
       " 'Choate',\n",
       " 'Adrian',\n",
       " 'Solis',\n",
       " 'Gary',\n",
       " 'Kendrick',\n",
       " 'Jamalis',\n",
       " 'Hall',\n",
       " 'Adrian',\n",
       " 'Hernandez',\n",
       " 'Neil',\n",
       " 'Seifert',\n",
       " 'Megan',\n",
       " 'Hockaday',\n",
       " 'Harvey',\n",
       " 'Oates',\n",
       " 'Angelo',\n",
       " 'West',\n",
       " 'Robert',\n",
       " 'Rooker',\n",
       " 'Byron',\n",
       " 'Herbert',\n",
       " 'Brian',\n",
       " 'Babb',\n",
       " 'John',\n",
       " 'Marcell',\n",
       " 'Allen',\n",
       " 'Jeremy',\n",
       " 'Anderson',\n",
       " 'Benjamin',\n",
       " 'Quezada',\n",
       " 'Mya',\n",
       " 'Hall',\n",
       " 'Robert',\n",
       " 'Washington',\n",
       " 'Shawn',\n",
       " 'Clyde',\n",
       " 'Darrin',\n",
       " 'Langford',\n",
       " 'Donald',\n",
       " 'Hicks',\n",
       " 'Eric',\n",
       " 'Harris',\n",
       " 'Aaron',\n",
       " 'Rutledge',\n",
       " 'Christopher',\n",
       " 'Prevatt',\n",
       " 'Justus',\n",
       " 'Howell',\n",
       " 'Walter',\n",
       " 'Scott',\n",
       " 'Paul',\n",
       " 'Anderson',\n",
       " 'Ethan',\n",
       " 'Noll',\n",
       " 'Ken',\n",
       " 'Cockerel',\n",
       " 'Richard',\n",
       " 'Hanna',\n",
       " 'Alexander',\n",
       " 'Myers',\n",
       " 'Desmond',\n",
       " 'Willis',\n",
       " 'Tyrell',\n",
       " 'J.',\n",
       " 'Larsen',\n",
       " 'Erick',\n",
       " 'Rose',\n",
       " 'Douglas',\n",
       " 'Faith',\n",
       " 'Dexter',\n",
       " 'Pernell',\n",
       " 'Bethea',\n",
       " 'Roberto',\n",
       " 'Rodriguez',\n",
       " 'Joseph',\n",
       " 'Jeremy',\n",
       " 'Weber',\n",
       " 'Mark',\n",
       " 'Smith',\n",
       " 'Gordon',\n",
       " 'Kimbrell',\n",
       " 'Don',\n",
       " 'Smith',\n",
       " 'Jess',\n",
       " 'Leipold',\n",
       " 'Phillip',\n",
       " 'Burgess',\n",
       " 'Angel',\n",
       " 'Cresencio',\n",
       " 'Corona',\n",
       " 'Richard',\n",
       " 'Reed',\n",
       " 'Donald',\n",
       " 'Allen',\n",
       " 'Mack',\n",
       " 'Long',\n",
       " 'Richard',\n",
       " 'Dale',\n",
       " 'Weaver',\n",
       " 'Jason',\n",
       " 'Lee',\n",
       " 'Evans',\n",
       " 'Isaac',\n",
       " 'Jimenez',\n",
       " 'Colby',\n",
       " 'Robinson',\n",
       " 'Christopher',\n",
       " 'Grant',\n",
       " 'Finley',\n",
       " 'Tevin',\n",
       " 'Barkley',\n",
       " 'Dante',\n",
       " 'Noble',\n",
       " 'Frank',\n",
       " 'Shephard',\n",
       " 'Mark',\n",
       " 'W.',\n",
       " 'Adair',\n",
       " 'Stanley',\n",
       " 'Watson',\n",
       " 'Ernesto',\n",
       " 'Flores',\n",
       " 'Rodolfo',\n",
       " 'Velazquez',\n",
       " 'Jeffrey',\n",
       " 'Kemp',\n",
       " 'Elias',\n",
       " 'Cavazos',\n",
       " 'Thaddeus',\n",
       " 'McCarroll',\n",
       " 'Erik',\n",
       " 'Tellez',\n",
       " 'Grover',\n",
       " 'Sapp',\n",
       " 'Michael',\n",
       " 'Foster',\n",
       " 'Dana',\n",
       " 'Hlavinka',\n",
       " 'Santos',\n",
       " 'Cortez',\n",
       " 'Hernandez',\n",
       " 'Daniel',\n",
       " 'Wolfe',\n",
       " 'Daniel',\n",
       " 'Covarrubias',\n",
       " 'Kimber',\n",
       " 'Key',\n",
       " 'Luis',\n",
       " 'Martinez',\n",
       " 'William',\n",
       " 'Chapman',\n",
       " 'Carlos',\n",
       " 'Saavedra',\n",
       " 'Ramirez',\n",
       " 'Jonathan',\n",
       " 'Efraim',\n",
       " 'Reginald',\n",
       " 'McGregor',\n",
       " 'Lue',\n",
       " 'Vang',\n",
       " 'Andrew',\n",
       " 'Valadez',\n",
       " 'Joseph',\n",
       " 'Potts',\n",
       " 'Hector',\n",
       " 'Morejon',\n",
       " 'Karen',\n",
       " 'Janks',\n",
       " 'Mark',\n",
       " 'Cecil',\n",
       " 'Hawkins',\n",
       " 'Gary',\n",
       " 'Timmie',\n",
       " 'Collins',\n",
       " 'Todd',\n",
       " 'Jamal',\n",
       " 'Dye',\n",
       " 'Brandon',\n",
       " 'Lawrence',\n",
       " 'David',\n",
       " 'Felix',\n",
       " 'Daniel',\n",
       " 'Davis',\n",
       " 'Billy',\n",
       " 'Joe',\n",
       " 'Patrick',\n",
       " 'Albert',\n",
       " 'Hanson',\n",
       " 'Dean',\n",
       " 'Genova',\n",
       " 'Terrance',\n",
       " 'Kellom',\n",
       " 'David',\n",
       " 'Parker',\n",
       " 'Jared',\n",
       " 'Johnson',\n",
       " 'Joshua',\n",
       " 'Green',\n",
       " 'Andrew',\n",
       " 'Jackson',\n",
       " 'Joshua',\n",
       " 'Deysie',\n",
       " 'Luis',\n",
       " 'Chavez-Diaz',\n",
       " 'Alexia',\n",
       " 'Christian',\n",
       " 'Jeffrey',\n",
       " 'Adkins',\n",
       " 'John',\n",
       " 'Acree',\n",
       " 'Fridoon',\n",
       " 'Zalbeg',\n",
       " 'Nehad',\n",
       " 'Erick',\n",
       " 'Emmanuel',\n",
       " 'Sanchez',\n",
       " 'Kenneth',\n",
       " 'Mathena',\n",
       " 'Kevin',\n",
       " 'Vance',\n",
       " 'Norton',\n",
       " 'Elton',\n",
       " 'Simpson',\n",
       " 'Nadir',\n",
       " 'Soofi',\n",
       " 'Billy',\n",
       " 'Grimm',\n",
       " 'Michael',\n",
       " 'Asher',\n",
       " 'Roark',\n",
       " 'Cook',\n",
       " 'Brendon',\n",
       " 'Glenn',\n",
       " 'Thong',\n",
       " 'Kien',\n",
       " 'Ma',\n",
       " 'Robert',\n",
       " 'A.',\n",
       " 'Frost',\n",
       " 'David',\n",
       " 'William',\n",
       " 'Johnson',\n",
       " 'Joseph',\n",
       " 'Roy',\n",
       " 'Michael',\n",
       " 'Murphy',\n",
       " 'Nephi',\n",
       " 'Arriguin',\n",
       " 'Shaun',\n",
       " 'Johnson',\n",
       " 'David',\n",
       " 'Schwalm',\n",
       " 'Dedrick',\n",
       " 'Marshall',\n",
       " 'Sam',\n",
       " 'Holmes',\n",
       " 'Stephen',\n",
       " 'Cunningham',\n",
       " 'Lionel',\n",
       " 'Lorenzo',\n",
       " 'Young',\n",
       " 'Kelvin',\n",
       " 'Goldston',\n",
       " 'Justin',\n",
       " 'Way',\n",
       " \"D'Angelo\",\n",
       " 'Stallworth',\n",
       " 'Bruce',\n",
       " 'Zalonka',\n",
       " 'Alec',\n",
       " 'Ouzounian',\n",
       " 'Sean',\n",
       " 'Michael',\n",
       " 'Pelletier',\n",
       " 'Cary',\n",
       " 'Martin',\n",
       " 'Mark',\n",
       " 'Farrar',\n",
       " 'Matt',\n",
       " 'Coates',\n",
       " 'Ronell',\n",
       " 'Wade',\n",
       " 'Dennis',\n",
       " 'Fiel',\n",
       " 'Austin',\n",
       " 'Goodner',\n",
       " 'Timothy',\n",
       " 'Jones',\n",
       " 'Alfredo',\n",
       " 'Rials-Torres',\n",
       " 'Jonathan',\n",
       " 'McIntosh',\n",
       " 'David',\n",
       " 'Gaines',\n",
       " 'Anthony',\n",
       " 'Gomez',\n",
       " 'Jonathan',\n",
       " 'Colley',\n",
       " 'Chrislon',\n",
       " 'Talbott',\n",
       " 'Nikki',\n",
       " 'Jo',\n",
       " 'Burtsfield',\n",
       " 'Marcus',\n",
       " 'Wheeler',\n",
       " 'David',\n",
       " 'Alejandro',\n",
       " 'Gandara',\n",
       " 'Javoris',\n",
       " 'Washington',\n",
       " 'James',\n",
       " 'Anthony',\n",
       " 'Cooper',\n",
       " 'Elvin',\n",
       " 'Diaz',\n",
       " 'Jerome',\n",
       " 'Caldwell',\n",
       " 'Michael',\n",
       " 'Lowery',\n",
       " 'Caso',\n",
       " 'Jackson',\n",
       " 'James',\n",
       " 'Horn',\n",
       " 'Eric',\n",
       " 'Robinson',\n",
       " 'Cassandra',\n",
       " 'Bolin',\n",
       " 'Anthony',\n",
       " 'Briggs',\n",
       " 'Millard',\n",
       " 'Tallant',\n",
       " 'III',\n",
       " 'Dalton',\n",
       " 'Branch',\n",
       " 'Jessie',\n",
       " 'Williams',\n",
       " 'Scott',\n",
       " 'McAllister',\n",
       " 'Garrett',\n",
       " 'Sandeno',\n",
       " 'Harry',\n",
       " 'Davis',\n",
       " 'Feras',\n",
       " 'Morad',\n",
       " 'Simon',\n",
       " 'Hubble',\n",
       " 'Darrell',\n",
       " 'Morgan',\n",
       " 'James',\n",
       " 'Strong',\n",
       " 'Kenneth',\n",
       " 'Dothard',\n",
       " 'Kyle',\n",
       " 'Baker',\n",
       " 'Kevin',\n",
       " 'Allen',\n",
       " 'Nehemiah',\n",
       " 'Fischer',\n",
       " 'Robert',\n",
       " 'Box',\n",
       " 'Ebin',\n",
       " 'Lamont',\n",
       " 'Proctor',\n",
       " 'Alexander',\n",
       " 'Tirado',\n",
       " 'Rivera',\n",
       " 'James',\n",
       " 'Anthony',\n",
       " 'Morris',\n",
       " 'James',\n",
       " 'Bushey',\n",
       " 'Joseph',\n",
       " 'Ladd',\n",
       " 'Usaamah',\n",
       " 'Rahim',\n",
       " 'Kamal',\n",
       " 'Dajani',\n",
       " 'Lorenzo',\n",
       " 'Garza',\n",
       " 'Rudy',\n",
       " 'Baca',\n",
       " 'Miguel',\n",
       " 'Martinez',\n",
       " 'Edelmiro',\n",
       " 'Hernandez',\n",
       " 'Ronald',\n",
       " 'Neal',\n",
       " 'Jesus',\n",
       " 'Quezada',\n",
       " 'Gomez',\n",
       " 'Christie',\n",
       " 'Cathers',\n",
       " 'Demouria',\n",
       " 'Hogg',\n",
       " 'James',\n",
       " 'Smillie',\n",
       " 'Alejandro',\n",
       " 'Campos',\n",
       " 'Fernandez',\n",
       " 'Joe',\n",
       " 'Nevels',\n",
       " 'Damien',\n",
       " 'Ramirez',\n",
       " 'Matthew',\n",
       " 'Wayne',\n",
       " 'McDaniel',\n",
       " 'Gene',\n",
       " 'Marshall',\n",
       " 'James',\n",
       " 'Johnson',\n",
       " 'Rene',\n",
       " 'Garcia',\n",
       " 'Richard',\n",
       " 'Warolf',\n",
       " 'Jeremy',\n",
       " 'Linhart',\n",
       " 'Greg',\n",
       " 'Hartley',\n",
       " 'QuanDavier',\n",
       " 'Hicks',\n",
       " 'Ryan',\n",
       " 'Bolinger',\n",
       " 'Isiah',\n",
       " 'Hampton',\n",
       " 'Charles',\n",
       " 'Ziegler',\n",
       " 'Raymond',\n",
       " 'Phillips',\n",
       " 'Fritz',\n",
       " 'Severe',\n",
       " 'Mark',\n",
       " 'Flores',\n",
       " 'Raymond',\n",
       " 'Peralta-Lantigua',\n",
       " 'Shelly',\n",
       " 'Haendiges',\n",
       " 'Anthony',\n",
       " 'Hodge',\n",
       " 'Deng',\n",
       " 'Manyoun',\n",
       " 'James',\n",
       " 'Boulware',\n",
       " 'Kenneth',\n",
       " 'Garcia',\n",
       " 'Zane',\n",
       " 'Terryn',\n",
       " 'Kris',\n",
       " 'Jackson',\n",
       " 'Christopher',\n",
       " 'DeLeon',\n",
       " 'Joe',\n",
       " 'Charboneau',\n",
       " 'Wendy',\n",
       " 'Chappell',\n",
       " 'Kenneth',\n",
       " 'Lanphier',\n",
       " 'Oleg',\n",
       " 'Tcherniak',\n",
       " 'Santos',\n",
       " 'Laboy',\n",
       " 'Trepierre',\n",
       " 'Hummons',\n",
       " 'Louis',\n",
       " 'Atencio',\n",
       " 'Alfontish',\n",
       " ...]"
      ]
     },
     "execution_count": 74,
     "metadata": {},
     "output_type": "execute_result"
    }
   ],
   "source": [
    "b = [j for i in a for j in i]\n",
    "b\n",
    "d=[j for i in a for j in i]\n",
    "d"
   ]
  },
  {
   "cell_type": "code",
   "execution_count": 77,
   "metadata": {},
   "outputs": [],
   "source": [
    "c = {i:b.count(i) for i in set(b) }\n",
    "c\n",
    "c={i:b.count(i) for i in set(b)}"
   ]
  },
  {
   "cell_type": "code",
   "execution_count": 163,
   "metadata": {},
   "outputs": [
    {
     "data": {
      "text/plain": [
       "Michael        82\n",
       "David          53\n",
       "James          47\n",
       "Robert         44\n",
       "Joseph         43\n",
       "Daniel         40\n",
       "William        40\n",
       "Lee            37\n",
       "John           36\n",
       "Christopher    35\n",
       "Richard        33\n",
       "Smith          31\n",
       "J.             30\n",
       "Johnson        29\n",
       "Joshua         27\n",
       "dtype: int64"
      ]
     },
     "execution_count": 163,
     "metadata": {},
     "output_type": "execute_result"
    }
   ],
   "source": [
    "common_names = pd.Series(c).sort_values(ascending=False)[:15]\n",
    "common_names"
   ]
  },
  {
   "cell_type": "code",
   "execution_count": 171,
   "metadata": {},
   "outputs": [],
   "source": [
    "common_names = pd.DataFrame(common_names)\n"
   ]
  },
  {
   "cell_type": "code",
   "execution_count": 172,
   "metadata": {},
   "outputs": [],
   "source": [
    "common_names.rename(columns ={0:'frequency'},inplace=True)"
   ]
  },
  {
   "cell_type": "code",
   "execution_count": 174,
   "metadata": {},
   "outputs": [],
   "source": [
    "common_names.reset_index(inplace=True)"
   ]
  },
  {
   "cell_type": "code",
   "execution_count": 177,
   "metadata": {
    "colab": {
     "base_uri": "https://localhost:8080/",
     "height": 511
    },
    "id": "yJ6vg449-G-Y",
    "outputId": "f294603c-8528-4392-b8f3-a2a9df5abc39"
   },
   "outputs": [
    {
     "data": {
      "text/html": [
       "<div>\n",
       "<style scoped>\n",
       "    .dataframe tbody tr th:only-of-type {\n",
       "        vertical-align: middle;\n",
       "    }\n",
       "\n",
       "    .dataframe tbody tr th {\n",
       "        vertical-align: top;\n",
       "    }\n",
       "\n",
       "    .dataframe thead th {\n",
       "        text-align: right;\n",
       "    }\n",
       "</style>\n",
       "<table border=\"1\" class=\"dataframe\">\n",
       "  <thead>\n",
       "    <tr style=\"text-align: right;\">\n",
       "      <th></th>\n",
       "      <th>most_common_names_of_killed_people</th>\n",
       "      <th>frequency</th>\n",
       "    </tr>\n",
       "  </thead>\n",
       "  <tbody>\n",
       "    <tr>\n",
       "      <th>0</th>\n",
       "      <td>Michael</td>\n",
       "      <td>82</td>\n",
       "    </tr>\n",
       "    <tr>\n",
       "      <th>1</th>\n",
       "      <td>David</td>\n",
       "      <td>53</td>\n",
       "    </tr>\n",
       "    <tr>\n",
       "      <th>2</th>\n",
       "      <td>James</td>\n",
       "      <td>47</td>\n",
       "    </tr>\n",
       "    <tr>\n",
       "      <th>3</th>\n",
       "      <td>Robert</td>\n",
       "      <td>44</td>\n",
       "    </tr>\n",
       "    <tr>\n",
       "      <th>4</th>\n",
       "      <td>Joseph</td>\n",
       "      <td>43</td>\n",
       "    </tr>\n",
       "    <tr>\n",
       "      <th>5</th>\n",
       "      <td>Daniel</td>\n",
       "      <td>40</td>\n",
       "    </tr>\n",
       "    <tr>\n",
       "      <th>6</th>\n",
       "      <td>William</td>\n",
       "      <td>40</td>\n",
       "    </tr>\n",
       "    <tr>\n",
       "      <th>7</th>\n",
       "      <td>Lee</td>\n",
       "      <td>37</td>\n",
       "    </tr>\n",
       "    <tr>\n",
       "      <th>8</th>\n",
       "      <td>John</td>\n",
       "      <td>36</td>\n",
       "    </tr>\n",
       "    <tr>\n",
       "      <th>9</th>\n",
       "      <td>Christopher</td>\n",
       "      <td>35</td>\n",
       "    </tr>\n",
       "    <tr>\n",
       "      <th>10</th>\n",
       "      <td>Richard</td>\n",
       "      <td>33</td>\n",
       "    </tr>\n",
       "    <tr>\n",
       "      <th>11</th>\n",
       "      <td>Smith</td>\n",
       "      <td>31</td>\n",
       "    </tr>\n",
       "    <tr>\n",
       "      <th>12</th>\n",
       "      <td>J.</td>\n",
       "      <td>30</td>\n",
       "    </tr>\n",
       "    <tr>\n",
       "      <th>13</th>\n",
       "      <td>Johnson</td>\n",
       "      <td>29</td>\n",
       "    </tr>\n",
       "    <tr>\n",
       "      <th>14</th>\n",
       "      <td>Joshua</td>\n",
       "      <td>27</td>\n",
       "    </tr>\n",
       "  </tbody>\n",
       "</table>\n",
       "</div>"
      ],
      "text/plain": [
       "   most_common_names_of_killed_people  frequency\n",
       "0                             Michael         82\n",
       "1                               David         53\n",
       "2                               James         47\n",
       "3                              Robert         44\n",
       "4                              Joseph         43\n",
       "5                              Daniel         40\n",
       "6                             William         40\n",
       "7                                 Lee         37\n",
       "8                                John         36\n",
       "9                         Christopher         35\n",
       "10                            Richard         33\n",
       "11                              Smith         31\n",
       "12                                 J.         30\n",
       "13                            Johnson         29\n",
       "14                             Joshua         27"
      ]
     },
     "execution_count": 177,
     "metadata": {},
     "output_type": "execute_result"
    }
   ],
   "source": [
    "common_names.rename(columns ={\"index\":'most_common_names_of_killed_people'},inplace=True)\n",
    "common_names"
   ]
  },
  {
   "cell_type": "code",
   "execution_count": 189,
   "metadata": {},
   "outputs": [
    {
     "data": {
      "text/html": [
       "<div>\n",
       "<style scoped>\n",
       "    .dataframe tbody tr th:only-of-type {\n",
       "        vertical-align: middle;\n",
       "    }\n",
       "\n",
       "    .dataframe tbody tr th {\n",
       "        vertical-align: top;\n",
       "    }\n",
       "\n",
       "    .dataframe thead th {\n",
       "        text-align: right;\n",
       "    }\n",
       "</style>\n",
       "<table border=\"1\" class=\"dataframe\">\n",
       "  <thead>\n",
       "    <tr style=\"text-align: right;\">\n",
       "      <th></th>\n",
       "      <th>frequency</th>\n",
       "    </tr>\n",
       "    <tr>\n",
       "      <th>most_common_names_of_killed_people</th>\n",
       "      <th></th>\n",
       "    </tr>\n",
       "  </thead>\n",
       "  <tbody>\n",
       "    <tr>\n",
       "      <th>Michael</th>\n",
       "      <td>82</td>\n",
       "    </tr>\n",
       "    <tr>\n",
       "      <th>David</th>\n",
       "      <td>53</td>\n",
       "    </tr>\n",
       "    <tr>\n",
       "      <th>James</th>\n",
       "      <td>47</td>\n",
       "    </tr>\n",
       "    <tr>\n",
       "      <th>Robert</th>\n",
       "      <td>44</td>\n",
       "    </tr>\n",
       "    <tr>\n",
       "      <th>Joseph</th>\n",
       "      <td>43</td>\n",
       "    </tr>\n",
       "    <tr>\n",
       "      <th>Daniel</th>\n",
       "      <td>40</td>\n",
       "    </tr>\n",
       "    <tr>\n",
       "      <th>William</th>\n",
       "      <td>40</td>\n",
       "    </tr>\n",
       "    <tr>\n",
       "      <th>Lee</th>\n",
       "      <td>37</td>\n",
       "    </tr>\n",
       "    <tr>\n",
       "      <th>John</th>\n",
       "      <td>36</td>\n",
       "    </tr>\n",
       "    <tr>\n",
       "      <th>Christopher</th>\n",
       "      <td>35</td>\n",
       "    </tr>\n",
       "    <tr>\n",
       "      <th>Richard</th>\n",
       "      <td>33</td>\n",
       "    </tr>\n",
       "    <tr>\n",
       "      <th>Smith</th>\n",
       "      <td>31</td>\n",
       "    </tr>\n",
       "    <tr>\n",
       "      <th>J.</th>\n",
       "      <td>30</td>\n",
       "    </tr>\n",
       "    <tr>\n",
       "      <th>Johnson</th>\n",
       "      <td>29</td>\n",
       "    </tr>\n",
       "    <tr>\n",
       "      <th>Joshua</th>\n",
       "      <td>27</td>\n",
       "    </tr>\n",
       "  </tbody>\n",
       "</table>\n",
       "</div>"
      ],
      "text/plain": [
       "                                    frequency\n",
       "most_common_names_of_killed_people           \n",
       "Michael                                    82\n",
       "David                                      53\n",
       "James                                      47\n",
       "Robert                                     44\n",
       "Joseph                                     43\n",
       "Daniel                                     40\n",
       "William                                    40\n",
       "Lee                                        37\n",
       "John                                       36\n",
       "Christopher                                35\n",
       "Richard                                    33\n",
       "Smith                                      31\n",
       "J.                                         30\n",
       "Johnson                                    29\n",
       "Joshua                                     27"
      ]
     },
     "execution_count": 189,
     "metadata": {},
     "output_type": "execute_result"
    }
   ],
   "source": [
    "common_names.set_index(\"most_common_names_of_killed_people\")"
   ]
  },
  {
   "cell_type": "code",
   "execution_count": 201,
   "metadata": {},
   "outputs": [],
   "source": [
    "common_names = pd.Series(c).sort_values(ascending=False)[:15]"
   ]
  },
  {
   "cell_type": "code",
   "execution_count": 205,
   "metadata": {
    "colab": {
     "base_uri": "https://localhost:8080/",
     "height": 551
    },
    "id": "JnbSBMEF-G-Y",
    "outputId": "a4f5bcc6-22d9-4348-ef8b-18040a4c5723"
   },
   "outputs": [
    {
     "data": {
      "image/png": "[encoded data removed]",
      "text/plain": [
       "<Figure size 2400x1200 with 1 Axes>"
      ]
     },
     "metadata": {
      "needs_background": "light"
     },
     "output_type": "display_data"
    }
   ],
   "source": [
    "# with pandas\n",
    "plt.figure(figsize=(12,6), dpi = 200)\n",
    "common_names.plot.bar();\n",
    "for index, value in enumerate(common_names.values):\n",
    "    plt.text(index, value, str(value), ha = 'center')\n",
    "plt.xticks(rotation = 60);"
   ]
  },
  {
   "cell_type": "code",
   "execution_count": 204,
   "metadata": {
    "colab": {
     "base_uri": "https://localhost:8080/",
     "height": 551
    },
    "id": "MPq2DiUJ-G-Y",
    "outputId": "4c0e61c5-9734-41a6-e4e8-f5c424e7519d"
   },
   "outputs": [
    {
     "data": {
      "text/plain": [
       "Text(0.5, 1.0, 'Most common 15 Name or Surname of killed people')"
      ]
     },
     "execution_count": 204,
     "metadata": {},
     "output_type": "execute_result"
    },
    {
     "data": {
      "image/png": "[encoded data removed]",
      "text/plain": [
       "<Figure size 2400x1200 with 1 Axes>"
      ]
     },
     "metadata": {
      "needs_background": "light"
     },
     "output_type": "display_data"
    }
   ],
   "source": [
    "# with matplotlib\n",
    "plt.figure(figsize=(12,6), dpi = 200)\n",
    "plt.bar(common_names.index, common_names.values);\n",
    "\n",
    "for index, value in enumerate(common_names.values):\n",
    "    plt.text(index, value, str(value), ha = 'center')\n",
    "plt.xticks(rotation = 60);\n",
    "\n",
    "plt.xlabel('Name or Surname of killed people')\n",
    "plt.ylabel('Frequency')\n",
    "plt.title('Most common 15 Name or Surname of killed people')"
   ]
  }
 ],
 "metadata": {
  "colab": {
   "collapsed_sections": [],
   "name": "Assignment-1 student.ipynb",
   "provenance": []
  },
  "kernelspec": {
   "display_name": "Python 3",
   "language": "python",
   "name": "python3"
  },
  "language_info": {
   "codemirror_mode": {
    "name": "ipython",
    "version": 3
   },
   "file_extension": ".py",
   "mimetype": "text/x-python",
   "name": "python",
   "nbconvert_exporter": "python",
   "pygments_lexer": "ipython3",
   "version": "3.8.5"
  }
 },
 "nbformat": 4,
 "nbformat_minor": 1
}
