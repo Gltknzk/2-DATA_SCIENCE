{
 "cells": [
  {
   "cell_type": "code",
   "execution_count": 1,
   "metadata": {},
   "outputs": [
    {
     "ename": "SyntaxError",
     "evalue": "invalid syntax (<ipython-input-1-9220f6d2f057>, line 1)",
     "output_type": "error",
     "traceback": [
      "\u001b[1;36m  File \u001b[1;32m\"<ipython-input-1-9220f6d2f057>\"\u001b[1;36m, line \u001b[1;32m1\u001b[0m\n\u001b[1;33m    easy_insall psycopg2\u001b[0m\n\u001b[1;37m                ^\u001b[0m\n\u001b[1;31mSyntaxError\u001b[0m\u001b[1;31m:\u001b[0m invalid syntax\n"
     ]
    }
   ],
   "source": [
    "easy_insall psycopg2"
   ]
  },
  {
   "cell_type": "code",
   "execution_count": 9,
   "metadata": {},
   "outputs": [
    {
     "name": "stdout",
     "output_type": "stream",
     "text": [
      "Collecting mysql-python\n",
      "  Using cached MySQL-python-1.2.5.zip (108 kB)\n",
      "Building wheels for collected packages: mysql-python\n",
      "  Building wheel for mysql-python (setup.py): started\n",
      "  Building wheel for mysql-python (setup.py): finished with status 'error'\n",
      "  Running setup.py clean for mysql-python\n",
      "Failed to build mysql-python\n",
      "Installing collected packages: mysql-python\n",
      "    Running setup.py install for mysql-python: started\n",
      "    Running setup.py install for mysql-python: finished with status 'error'\n",
      "Note: you may need to restart the kernel to use updated packages.\n"
     ]
    },
    {
     "name": "stderr",
     "output_type": "stream",
     "text": [
      "  ERROR: Command errored out with exit status 1:\n",
      "   command: 'C:\\ProgramData\\Anaconda3\\python.exe' -u -c 'import sys, setuptools, tokenize; sys.argv[0] = '\"'\"'C:\\\\Users\\\\ÖKTEN\\\\AppData\\\\Local\\\\Temp\\\\pip-install-505syrek\\\\mysql-python\\\\setup.py'\"'\"'; __file__='\"'\"'C:\\\\Users\\\\ÖKTEN\\\\AppData\\\\Local\\\\Temp\\\\pip-install-505syrek\\\\mysql-python\\\\setup.py'\"'\"';f=getattr(tokenize, '\"'\"'open'\"'\"', open)(__file__);code=f.read().replace('\"'\"'\\r\\n'\"'\"', '\"'\"'\\n'\"'\"');f.close();exec(compile(code, __file__, '\"'\"'exec'\"'\"'))' bdist_wheel -d 'C:\\Users\\ÖKTEN\\AppData\\Local\\Temp\\pip-wheel-h7jlwqh5'\n",
      "       cwd: C:\\Users\\ÖKTEN\\AppData\\Local\\Temp\\pip-install-505syrek\\mysql-python\\\n",
      "  Complete output (24 lines):\n",
      "  running bdist_wheel\n",
      "  running build\n",
      "  running build_py\n",
      "  creating build\n",
      "  creating build\\lib.win-amd64-3.8\n",
      "  copying _mysql_exceptions.py -> build\\lib.win-amd64-3.8\n",
      "  creating build\\lib.win-amd64-3.8\\MySQLdb\n",
      "  copying MySQLdb\\__init__.py -> build\\lib.win-amd64-3.8\\MySQLdb\n",
      "  copying MySQLdb\\converters.py -> build\\lib.win-amd64-3.8\\MySQLdb\n",
      "  copying MySQLdb\\connections.py -> build\\lib.win-amd64-3.8\\MySQLdb\n",
      "  copying MySQLdb\\cursors.py -> build\\lib.win-amd64-3.8\\MySQLdb\n",
      "  copying MySQLdb\\release.py -> build\\lib.win-amd64-3.8\\MySQLdb\n",
      "  copying MySQLdb\\times.py -> build\\lib.win-amd64-3.8\\MySQLdb\n",
      "  creating build\\lib.win-amd64-3.8\\MySQLdb\\constants\n",
      "  copying MySQLdb\\constants\\__init__.py -> build\\lib.win-amd64-3.8\\MySQLdb\\constants\n",
      "  copying MySQLdb\\constants\\CR.py -> build\\lib.win-amd64-3.8\\MySQLdb\\constants\n",
      "  copying MySQLdb\\constants\\FIELD_TYPE.py -> build\\lib.win-amd64-3.8\\MySQLdb\\constants\n",
      "  copying MySQLdb\\constants\\ER.py -> build\\lib.win-amd64-3.8\\MySQLdb\\constants\n",
      "  copying MySQLdb\\constants\\FLAG.py -> build\\lib.win-amd64-3.8\\MySQLdb\\constants\n",
      "  copying MySQLdb\\constants\\REFRESH.py -> build\\lib.win-amd64-3.8\\MySQLdb\\constants\n",
      "  copying MySQLdb\\constants\\CLIENT.py -> build\\lib.win-amd64-3.8\\MySQLdb\\constants\n",
      "  running build_ext\n",
      "  building '_mysql' extension\n",
      "  error: Microsoft Visual C++ 14.0 or greater is required. Get it with \"Microsoft C++ Build Tools\": https://visualstudio.microsoft.com/visual-cpp-build-tools/\n",
      "  ----------------------------------------\n",
      "  ERROR: Failed building wheel for mysql-python\n",
      "    ERROR: Command errored out with exit status 1:\n",
      "     command: 'C:\\ProgramData\\Anaconda3\\python.exe' -u -c 'import sys, setuptools, tokenize; sys.argv[0] = '\"'\"'C:\\\\Users\\\\ÖKTEN\\\\AppData\\\\Local\\\\Temp\\\\pip-install-505syrek\\\\mysql-python\\\\setup.py'\"'\"'; __file__='\"'\"'C:\\\\Users\\\\ÖKTEN\\\\AppData\\\\Local\\\\Temp\\\\pip-install-505syrek\\\\mysql-python\\\\setup.py'\"'\"';f=getattr(tokenize, '\"'\"'open'\"'\"', open)(__file__);code=f.read().replace('\"'\"'\\r\\n'\"'\"', '\"'\"'\\n'\"'\"');f.close();exec(compile(code, __file__, '\"'\"'exec'\"'\"'))' install --record 'C:\\Users\\ÖKTEN\\AppData\\Local\\Temp\\pip-record-uvpkcxq3\\install-record.txt' --single-version-externally-managed --compile --install-headers 'C:\\ProgramData\\Anaconda3\\Include\\mysql-python'\n",
      "         cwd: C:\\Users\\ÖKTEN\\AppData\\Local\\Temp\\pip-install-505syrek\\mysql-python\\\n",
      "    Complete output (24 lines):\n",
      "    running install\n",
      "    running build\n",
      "    running build_py\n",
      "    creating build\n",
      "    creating build\\lib.win-amd64-3.8\n",
      "    copying _mysql_exceptions.py -> build\\lib.win-amd64-3.8\n",
      "    creating build\\lib.win-amd64-3.8\\MySQLdb\n",
      "    copying MySQLdb\\__init__.py -> build\\lib.win-amd64-3.8\\MySQLdb\n",
      "    copying MySQLdb\\converters.py -> build\\lib.win-amd64-3.8\\MySQLdb\n",
      "    copying MySQLdb\\connections.py -> build\\lib.win-amd64-3.8\\MySQLdb\n",
      "    copying MySQLdb\\cursors.py -> build\\lib.win-amd64-3.8\\MySQLdb\n",
      "    copying MySQLdb\\release.py -> build\\lib.win-amd64-3.8\\MySQLdb\n",
      "    copying MySQLdb\\times.py -> build\\lib.win-amd64-3.8\\MySQLdb\n",
      "    creating build\\lib.win-amd64-3.8\\MySQLdb\\constants\n",
      "    copying MySQLdb\\constants\\__init__.py -> build\\lib.win-amd64-3.8\\MySQLdb\\constants\n",
      "    copying MySQLdb\\constants\\CR.py -> build\\lib.win-amd64-3.8\\MySQLdb\\constants\n",
      "    copying MySQLdb\\constants\\FIELD_TYPE.py -> build\\lib.win-amd64-3.8\\MySQLdb\\constants\n",
      "    copying MySQLdb\\constants\\ER.py -> build\\lib.win-amd64-3.8\\MySQLdb\\constants\n",
      "    copying MySQLdb\\constants\\FLAG.py -> build\\lib.win-amd64-3.8\\MySQLdb\\constants\n",
      "    copying MySQLdb\\constants\\REFRESH.py -> build\\lib.win-amd64-3.8\\MySQLdb\\constants\n",
      "    copying MySQLdb\\constants\\CLIENT.py -> build\\lib.win-amd64-3.8\\MySQLdb\\constants\n",
      "    running build_ext\n",
      "    building '_mysql' extension\n",
      "    error: Microsoft Visual C++ 14.0 or greater is required. Get it with \"Microsoft C++ Build Tools\": https://visualstudio.microsoft.com/visual-cpp-build-tools/\n",
      "    ----------------------------------------\n",
      "ERROR: Command errored out with exit status 1: 'C:\\ProgramData\\Anaconda3\\python.exe' -u -c 'import sys, setuptools, tokenize; sys.argv[0] = '\"'\"'C:\\\\Users\\\\ÖKTEN\\\\AppData\\\\Local\\\\Temp\\\\pip-install-505syrek\\\\mysql-python\\\\setup.py'\"'\"'; __file__='\"'\"'C:\\\\Users\\\\ÖKTEN\\\\AppData\\\\Local\\\\Temp\\\\pip-install-505syrek\\\\mysql-python\\\\setup.py'\"'\"';f=getattr(tokenize, '\"'\"'open'\"'\"', open)(__file__);code=f.read().replace('\"'\"'\\r\\n'\"'\"', '\"'\"'\\n'\"'\"');f.close();exec(compile(code, __file__, '\"'\"'exec'\"'\"'))' install --record 'C:\\Users\\ÖKTEN\\AppData\\Local\\Temp\\pip-record-uvpkcxq3\\install-record.txt' --single-version-externally-managed --compile --install-headers 'C:\\ProgramData\\Anaconda3\\Include\\mysql-python' Check the logs for full command output.\n"
     ]
    }
   ],
   "source": [
    "pip install mysql-python"
   ]
  },
  {
   "cell_type": "code",
   "execution_count": 10,
   "metadata": {},
   "outputs": [
    {
     "name": "stdout",
     "output_type": "stream",
     "text": [
      "Collecting MySQL-python==1.2.5\n",
      "  Using cached MySQL-python-1.2.5.zip (108 kB)\n",
      "Building wheels for collected packages: MySQL-python\n",
      "  Building wheel for MySQL-python (setup.py): started\n",
      "  Building wheel for MySQL-python (setup.py): finished with status 'error'\n",
      "  Running setup.py clean for MySQL-python\n",
      "Failed to build MySQL-python\n",
      "Installing collected packages: MySQL-python\n",
      "    Running setup.py install for MySQL-python: started\n",
      "    Running setup.py install for MySQL-python: finished with status 'error'\n",
      "Note: you may need to restart the kernel to use updated packages.\n"
     ]
    },
    {
     "name": "stderr",
     "output_type": "stream",
     "text": [
      "  ERROR: Command errored out with exit status 1:\n",
      "   command: 'C:\\ProgramData\\Anaconda3\\python.exe' -u -c 'import sys, setuptools, tokenize; sys.argv[0] = '\"'\"'C:\\\\Users\\\\ÖKTEN\\\\AppData\\\\Local\\\\Temp\\\\pip-install-w60up9iy\\\\mysql-python\\\\setup.py'\"'\"'; __file__='\"'\"'C:\\\\Users\\\\ÖKTEN\\\\AppData\\\\Local\\\\Temp\\\\pip-install-w60up9iy\\\\mysql-python\\\\setup.py'\"'\"';f=getattr(tokenize, '\"'\"'open'\"'\"', open)(__file__);code=f.read().replace('\"'\"'\\r\\n'\"'\"', '\"'\"'\\n'\"'\"');f.close();exec(compile(code, __file__, '\"'\"'exec'\"'\"'))' bdist_wheel -d 'C:\\Users\\ÖKTEN\\AppData\\Local\\Temp\\pip-wheel-g5usvg18'\n",
      "       cwd: C:\\Users\\ÖKTEN\\AppData\\Local\\Temp\\pip-install-w60up9iy\\mysql-python\\\n",
      "  Complete output (24 lines):\n",
      "  running bdist_wheel\n",
      "  running build\n",
      "  running build_py\n",
      "  creating build\n",
      "  creating build\\lib.win-amd64-3.8\n",
      "  copying _mysql_exceptions.py -> build\\lib.win-amd64-3.8\n",
      "  creating build\\lib.win-amd64-3.8\\MySQLdb\n",
      "  copying MySQLdb\\__init__.py -> build\\lib.win-amd64-3.8\\MySQLdb\n",
      "  copying MySQLdb\\converters.py -> build\\lib.win-amd64-3.8\\MySQLdb\n",
      "  copying MySQLdb\\connections.py -> build\\lib.win-amd64-3.8\\MySQLdb\n",
      "  copying MySQLdb\\cursors.py -> build\\lib.win-amd64-3.8\\MySQLdb\n",
      "  copying MySQLdb\\release.py -> build\\lib.win-amd64-3.8\\MySQLdb\n",
      "  copying MySQLdb\\times.py -> build\\lib.win-amd64-3.8\\MySQLdb\n",
      "  creating build\\lib.win-amd64-3.8\\MySQLdb\\constants\n",
      "  copying MySQLdb\\constants\\__init__.py -> build\\lib.win-amd64-3.8\\MySQLdb\\constants\n",
      "  copying MySQLdb\\constants\\CR.py -> build\\lib.win-amd64-3.8\\MySQLdb\\constants\n",
      "  copying MySQLdb\\constants\\FIELD_TYPE.py -> build\\lib.win-amd64-3.8\\MySQLdb\\constants\n",
      "  copying MySQLdb\\constants\\ER.py -> build\\lib.win-amd64-3.8\\MySQLdb\\constants\n",
      "  copying MySQLdb\\constants\\FLAG.py -> build\\lib.win-amd64-3.8\\MySQLdb\\constants\n",
      "  copying MySQLdb\\constants\\REFRESH.py -> build\\lib.win-amd64-3.8\\MySQLdb\\constants\n",
      "  copying MySQLdb\\constants\\CLIENT.py -> build\\lib.win-amd64-3.8\\MySQLdb\\constants\n",
      "  running build_ext\n",
      "  building '_mysql' extension\n",
      "  error: Microsoft Visual C++ 14.0 or greater is required. Get it with \"Microsoft C++ Build Tools\": https://visualstudio.microsoft.com/visual-cpp-build-tools/\n",
      "  ----------------------------------------\n",
      "  ERROR: Failed building wheel for MySQL-python\n",
      "    ERROR: Command errored out with exit status 1:\n",
      "     command: 'C:\\ProgramData\\Anaconda3\\python.exe' -u -c 'import sys, setuptools, tokenize; sys.argv[0] = '\"'\"'C:\\\\Users\\\\ÖKTEN\\\\AppData\\\\Local\\\\Temp\\\\pip-install-w60up9iy\\\\mysql-python\\\\setup.py'\"'\"'; __file__='\"'\"'C:\\\\Users\\\\ÖKTEN\\\\AppData\\\\Local\\\\Temp\\\\pip-install-w60up9iy\\\\mysql-python\\\\setup.py'\"'\"';f=getattr(tokenize, '\"'\"'open'\"'\"', open)(__file__);code=f.read().replace('\"'\"'\\r\\n'\"'\"', '\"'\"'\\n'\"'\"');f.close();exec(compile(code, __file__, '\"'\"'exec'\"'\"'))' install --record 'C:\\Users\\ÖKTEN\\AppData\\Local\\Temp\\pip-record-_ojzb0s9\\install-record.txt' --single-version-externally-managed --compile --install-headers 'C:\\ProgramData\\Anaconda3\\Include\\MySQL-python'\n",
      "         cwd: C:\\Users\\ÖKTEN\\AppData\\Local\\Temp\\pip-install-w60up9iy\\mysql-python\\\n",
      "    Complete output (24 lines):\n",
      "    running install\n",
      "    running build\n",
      "    running build_py\n",
      "    creating build\n",
      "    creating build\\lib.win-amd64-3.8\n",
      "    copying _mysql_exceptions.py -> build\\lib.win-amd64-3.8\n",
      "    creating build\\lib.win-amd64-3.8\\MySQLdb\n",
      "    copying MySQLdb\\__init__.py -> build\\lib.win-amd64-3.8\\MySQLdb\n",
      "    copying MySQLdb\\converters.py -> build\\lib.win-amd64-3.8\\MySQLdb\n",
      "    copying MySQLdb\\connections.py -> build\\lib.win-amd64-3.8\\MySQLdb\n",
      "    copying MySQLdb\\cursors.py -> build\\lib.win-amd64-3.8\\MySQLdb\n",
      "    copying MySQLdb\\release.py -> build\\lib.win-amd64-3.8\\MySQLdb\n",
      "    copying MySQLdb\\times.py -> build\\lib.win-amd64-3.8\\MySQLdb\n",
      "    creating build\\lib.win-amd64-3.8\\MySQLdb\\constants\n",
      "    copying MySQLdb\\constants\\__init__.py -> build\\lib.win-amd64-3.8\\MySQLdb\\constants\n",
      "    copying MySQLdb\\constants\\CR.py -> build\\lib.win-amd64-3.8\\MySQLdb\\constants\n",
      "    copying MySQLdb\\constants\\FIELD_TYPE.py -> build\\lib.win-amd64-3.8\\MySQLdb\\constants\n",
      "    copying MySQLdb\\constants\\ER.py -> build\\lib.win-amd64-3.8\\MySQLdb\\constants\n",
      "    copying MySQLdb\\constants\\FLAG.py -> build\\lib.win-amd64-3.8\\MySQLdb\\constants\n",
      "    copying MySQLdb\\constants\\REFRESH.py -> build\\lib.win-amd64-3.8\\MySQLdb\\constants\n",
      "    copying MySQLdb\\constants\\CLIENT.py -> build\\lib.win-amd64-3.8\\MySQLdb\\constants\n",
      "    running build_ext\n",
      "    building '_mysql' extension\n",
      "    error: Microsoft Visual C++ 14.0 or greater is required. Get it with \"Microsoft C++ Build Tools\": https://visualstudio.microsoft.com/visual-cpp-build-tools/\n",
      "    ----------------------------------------\n",
      "ERROR: Command errored out with exit status 1: 'C:\\ProgramData\\Anaconda3\\python.exe' -u -c 'import sys, setuptools, tokenize; sys.argv[0] = '\"'\"'C:\\\\Users\\\\ÖKTEN\\\\AppData\\\\Local\\\\Temp\\\\pip-install-w60up9iy\\\\mysql-python\\\\setup.py'\"'\"'; __file__='\"'\"'C:\\\\Users\\\\ÖKTEN\\\\AppData\\\\Local\\\\Temp\\\\pip-install-w60up9iy\\\\mysql-python\\\\setup.py'\"'\"';f=getattr(tokenize, '\"'\"'open'\"'\"', open)(__file__);code=f.read().replace('\"'\"'\\r\\n'\"'\"', '\"'\"'\\n'\"'\"');f.close();exec(compile(code, __file__, '\"'\"'exec'\"'\"'))' install --record 'C:\\Users\\ÖKTEN\\AppData\\Local\\Temp\\pip-record-_ojzb0s9\\install-record.txt' --single-version-externally-managed --compile --install-headers 'C:\\ProgramData\\Anaconda3\\Include\\MySQL-python' Check the logs for full command output.\n"
     ]
    }
   ],
   "source": [
    "pip install MySQL-python==1.2.5"
   ]
  },
  {
   "cell_type": "code",
   "execution_count": 7,
   "metadata": {},
   "outputs": [],
   "source": [
    "import mysql.connector"
   ]
  },
  {
   "cell_type": "code",
   "execution_count": 11,
   "metadata": {},
   "outputs": [
    {
     "name": "stdout",
     "output_type": "stream",
     "text": [
      "Collecting pypyodbc\n",
      "  Downloading pypyodbc-1.3.5.2.zip (25 kB)\n",
      "Requirement already satisfied: setuptools in c:\\programdata\\anaconda3\\lib\\site-packages (from pypyodbc) (50.3.1.post20201107)\n",
      "Building wheels for collected packages: pypyodbc\n",
      "  Building wheel for pypyodbc (setup.py): started\n",
      "  Building wheel for pypyodbc (setup.py): finished with status 'done'\n",
      "  Created wheel for pypyodbc: filename=pypyodbc-1.3.4-py3-none-any.whl size=22846 sha256=1cf3e9010121c0cd93e90fb596332906465f30ac6cabc4d4cce50be03b6244e3\n",
      "  Stored in directory: c:\\users\\ökten\\appdata\\local\\pip\\cache\\wheels\\b8\\ad\\9a\\2069ebd40510b369d7af0309252feae974652186f1d0973e09\n",
      "Successfully built pypyodbc\n",
      "Installing collected packages: pypyodbc\n",
      "Successfully installed pypyodbc-1.3.4\n"
     ]
    }
   ],
   "source": [
    "!pip install pypyodbc"
   ]
  },
  {
   "cell_type": "code",
   "execution_count": 8,
   "metadata": {},
   "outputs": [
    {
     "ename": "SyntaxError",
     "evalue": "invalid syntax (<ipython-input-8-da85a8e56f60>, line 1)",
     "output_type": "error",
     "traceback": [
      "\u001b[1;36m  File \u001b[1;32m\"<ipython-input-8-da85a8e56f60>\"\u001b[1;36m, line \u001b[1;32m1\u001b[0m\n\u001b[1;33m    * Headers we may want to use. */\u001b[0m\n\u001b[1;37m              ^\u001b[0m\n\u001b[1;31mSyntaxError\u001b[0m\u001b[1;31m:\u001b[0m invalid syntax\n"
     ]
    }
   ],
   "source": [
    "* Headers we may want to use. */\n",
    "#define HAVE_ALLOCA_H 1\n",
    "#define HAVE_ARPA_INET_H 1\n",
    "#define HAVE_CRYPT_H 1\n",
    "#define HAVE_DIRENT_H 1\n",
    "/* #undef HAVE_EXECINFO_H */\n",
    "#define HAVE_FCNTL_H 1\n",
    "#define HAVE_FENV_H 1\n",
    "#define HAVE_FLOAT_H 1\n",
    "/* #undef HAVE_FPU_CONTROL_H */\n",
    "#define HAVE_GRP_H 1\n",
    "#define HAVE_IEEEFP_H 1\n",
    "#define HAVE_LIMITS_H 1\n",
    "#define HAVE_MALLOC_H 1\n",
    "#define HAVE_MEMORY_H 1\n",
    "#define HAVE_NETINET_IN_H 1\n",
    "/* #undef HAVE_PATHS_H */\n",
    "#define HAVE_PWD_H 1\n",
    "#define HAVE_SCHED_H 1\n",
    "/* #undef HAVE_SELECT_H */\n",
    "#define HAVE_STDDEF_H 1\n",
    "#define HAVE_STDLIB_H 1\n",
    "#define HAVE_STRINGS_H 1\n",
    "#define HAVE_STRING_H 1\n",
    "#define HAVE_SYNCH_H 1\n",
    "/* #undef HAVE_SYSENT_H */\n",
    "/* #undef HAVE_SYS_FPU_H */\n",
    "#define HAVE_SYS_IOCTL_H 1\n",
    "#define HAVE_SYS_IPC_H 1\n",
    "#define HAVE_SYS_MMAN_H 1\n",
    "/* #undef HAVE_SYS_PRCTL_H */\n",
    "#define HAVE_SYS_SELECT_H 1\n",
    "#define HAVE_SYS_SHM_H 1\n",
    "#define HAVE_SYS_SOCKET_H 1\n",
    "#define HAVE_SYS_STAT_H 1\n",
    "#define HAVE_SYS_STREAM_H 1\n",
    "#define HAVE_SYS_TIMEB_H 1\n",
    "#define HAVE_SYS_TYPES_H 1\n",
    "#define HAVE_SYS_UN_H 1\n",
    "#define HAVE_TERMIOS_H 1\n",
    "#define HAVE_TERMIO_H 1\n",
    "#define HAVE_UNISTD_H 1\n",
    "#define HAVE_UTIME_H 1\n",
    "\n",
    "/* Functions we may want to use. */\n",
    "#define HAVE_ACCESS 1\n",
    "/* #undef HAVE_AIOWAIT */\n",
    "#define HAVE_ALARM 1\n",
    "/* #undef HAVE_ALLOCA */\n",
    "#define HAVE_BCMP 1\n",
    "/* #undef HAVE_BFILL */\n",
    "/* #undef HAVE_BMOVE */\n",
    "#define HAVE_BZERO 1\n",
    "/* #undef HAVE_CLOCK_GETTIME */\n",
    "/* #undef HAVE_COMPRESS */\n",
    "#define HAVE_CRYPT 1\n",
    "#define HAVE_DLERROR 1\n",
    "#define HAVE_DLOPEN 1\n",
    "#define HAVE_FCHMOD 1\n",
    "#define HAVE_FCNTL 1\n",
    "#define HAVE_FCONVERT 1\n",
    "/* #undef HAVE_FDATASYNC */\n",
    "/* #undef HAVE_FESETROUND */\n",
    "#define HAVE_FINITE 1\n",
    "/* #undef HAVE_FP_EXCEPT */\n",
    "#define HAVE_FSEEKO 1\n",
    "#define HAVE_FSYNC 1\n",
    "/* #undef HAVE_GETADDRINFO */\n",
    "#define HAVE_GETCWD 1\n",
    "/* #undef HAVE_GETHOSTBYADDR_R */\n",
    "/* #undef HAVE_GETHOSTBYNAME_R */\n",
    "#define HAVE_GETHRTIME 1\n",
    "/* #undef HAVE_GETNAMEINFO */\n",
    "#define HAVE_GETPAGESIZE 1\n",
    "#define HAVE_GETPASS 1\n",
    "#define HAVE_GETPASSPHRASE 1\n",
    "#define HAVE_GETPWNAM 1\n",
    "#define HAVE_GETPWUID 1\n",
    "#define HAVE_GETRLIMIT 1\n",
    "#define HAVE_GETRUSAGE 1\n",
    "#define HAVE_GETWD 1\n",
    "#define HAVE_GMTIME_R 1\n",
    "#define HAVE_INITGROUPS 1\n",
    "#define HAVE_ISNAN 1\n",
    "#define HAVE_LDIV 1\n",
    "#define HAVE_LOCALTIME_R 1\n",
    "/* #undef HAVE_LOG2 */\n",
    "#define HAVE_LONGJMP 1\n",
    "#define HAVE_LSTAT 1\n",
    "#define HAVE_MADVISE 1\n",
    "#define HAVE_DECL_MADVISE 1\n",
    "/* #undef HAVE_MALLINFO */\n",
    "#define HAVE_MEMCPY 1\n",
    "#define HAVE_MEMCPY 1\n",
    "#define HAVE_MEMMOVE 1\n",
    "#define HAVE_MEMMOVE 1\n",
    "#define HAVE_MKSTEMP 1\n",
    "#define HAVE_MLOCK 1\n",
    "#define HAVE_MLOCKALL 1\n",
    "#define HAVE_MMAP 1\n",
    "#define HAVE_MMAP64 1\n",
    "#define HAVE_PERROR 1\n",
    "#define HAVE_POLL 1\n",
    "#define HAVE_PREAD 1\n",
    "/* #undef HAVE_PTHREAD_ATTR_CREATE */\n",
    "#define HAVE_PTHREAD_ATTR_GETSTACKSIZE 1\n",
    "/* #undef HAVE_PTHREAD_ATTR_SETPRIO */\n",
    "#define HAVE_PTHREAD_ATTR_SETSCHEDPARAM 1\n",
    "#define HAVE_PTHREAD_ATTR_SETSCOPE 1\n",
    "#define HAVE_PTHREAD_ATTR_SETSTACKSIZE 1\n",
    "/* #undef HAVE_PTHREAD_CONDATTR_CREATE */\n",
    "/* #undef HAVE_PTHREAD_INIT */\n",
    "#define HAVE_PTHREAD_KEY_DELETE 1\n",
    "#define HAVE_PTHREAD_KEY_DELETE 1\n",
    "#define HAVE_PTHREAD_KILL 1\n",
    "#define HAVE_PTHREAD_RWLOCK_RDLOCK 1\n",
    "/* #undef HAVE_PTHREAD_SETPRIO_NP */\n",
    "#define HAVE_PTHREAD_SETSCHEDPARAM 1\n",
    "#define HAVE_PTHREAD_SIGMASK 1\n",
    "/* #undef HAVE_PTHREAD_THREADMASK */\n",
    "/* #undef HAVE_PTHREAD_YIELD_NP */\n",
    "#define HAVE_READDIR_R 1\n",
    "#define HAVE_READLINK 1\n",
    "#define HAVE_REALPATH 1\n",
    "#define HAVE_RENAME 1\n",
    "#define HAVE_RINT 1\n",
    "/* #undef HAVE_SCHED_YIELD */\n",
    "#define HAVE_SELECT 1\n",
    "/* #undef HAVE_SETFD */\n",
    "/* #undef HAVE_SETFILEPOINTER */\n",
    "#define HAVE_SIGACTION 1\n",
    "/* #undef HAVE_SIGTHREADMASK */\n",
    "#define HAVE_SIGWAIT 1\n",
    "#define HAVE_SLEEP 1\n",
    "#define HAVE_SNPRINTF 1\n",
    "/* #undef HAVE_STPCPY */\n",
    "#define HAVE_STRERROR 1\n",
    "#define HAVE_STRLCPY 1\n",
    "/* #undef HAVE_STRNLEN */\n",
    "#define HAVE_STRPBRK 1\n",
    "/* #undef HAVE_STRSEP */\n",
    "#define HAVE_STRSTR 1\n",
    "#define HAVE_STRTOK_R 1\n",
    "#define HAVE_STRTOK_R 1\n",
    "#define HAVE_STRTOL 1\n",
    "#define HAVE_STRTOLL 1\n",
    "#define HAVE_STRTOUL 1\n",
    "#define HAVE_STRTOULL 1\n",
    "#define HAVE_TELL 1\n",
    "#define HAVE_THR_SETCONCURRENCY 1\n",
    "#define HAVE_THR_YIELD 1\n",
    "/* #undef HAVE_VASPRINTF */\n",
    "#define HAVE_VSNPRINTF 1\n",
    "\n",
    "/* Symbols we may use */\n",
    "/* #undef HAVE_SYS_ERRLIST */\n",
    "/* used by stacktrace functions */\n",
    "/* #undef HAVE_BSS_START */\n",
    "\n",
    "/* Does \"struct timespec\" have a \"sec\" and \"nsec\" field? */\n",
    "/* #undef HAVE_TIMESPEC_TS_SEC */\n",
    "\n",
    "/* Types we may use */\n",
    "#define SIZEOF_CHAR 1\n",
    "#if SIZEOF_CHAR\n",
    "# define HAVE_CHAR 1\n",
    "#endif\n",
    "\n",
    "#define SIZEOF_CHARP 4\n",
    "#if SIZEOF_CHARP\n",
    "# define HAVE_CHARP 1\n",
    "#endif\n",
    "\n",
    "#define SIZEOF_SHORT 2\n",
    "#if SIZEOF_SHORT\n",
    "# define HAVE_SHORT 1\n",
    "#endif\n",
    "\n",
    "#define SIZEOF_INT 4\n",
    "#if SIZEOF_INT\n",
    "# define HAVE_INT 1\n",
    "#endif\n",
    "\n",
    "#define SIZEOF_LONG 4\n",
    "#if SIZEOF_LONG\n",
    "# define HAVE_LONG 1\n",
    "#endif\n",
    "\n",
    "#define SIZEOF_LONG_LONG 8\n",
    "#if SIZEOF_LONG_LONG\n",
    "# define HAVE_LONG_LONG 1\n",
    "#endif\n",
    "\n",
    "#define SIZEOF_OFF_T 4\n",
    "#if SIZEOF_OFF_T\n",
    "# define HAVE_OFF_T 1\n",
    "#endif\n",
    "\n",
    "#define SIZEOF_SIGSET_T 16\n",
    "#if SIZEOF_SIGSET_T\n",
    "# define HAVE_SIGSET_T 1\n",
    "#endif\n",
    "\n",
    "#define SIZEOF_SIZE_T 4\n",
    "#if SIZEOF_SIZE_T\n",
    "# define HAVE_SIZE_T 1\n",
    "#endif\n",
    "\n",
    "/* #undef SIZEOF_UCHAR */\n",
    "#if SIZEOF_UCHAR\n",
    "# define HAVE_UCHAR 1\n",
    "#endif\n",
    "\n",
    "#define SIZEOF_UINT 4\n",
    "#if SIZEOF_UINT\n",
    "# define HAVE_UINT 1\n",
    "#endif\n",
    "\n",
    "#define SIZEOF_ULONG 4\n",
    "#if SIZEOF_ULONG\n",
    "# define HAVE_ULONG 1\n",
    "#endif\n",
    "\n",
    "/* #undef SIZEOF_INT8 */\n",
    "#if SIZEOF_INT8\n",
    "# define HAVE_INT8 1\n",
    "#endif\n",
    "/* #undef SIZEOF_UINT8 */\n",
    "#if SIZEOF_UINT8\n",
    "# define HAVE_UINT8 1\n",
    "#endif\n",
    "\n",
    "/* #undef SIZEOF_INT16 */\n",
    "#if SIZEOF_INT16\n",
    "# define HAVE_INT16 1\n",
    "#endif\n",
    "/* #undef SIZEOF_UINT16 */\n",
    "#if SIZEOF_UINT16\n",
    "# define HAVE_UINT16 1\n",
    "#endif\n",
    "\n",
    "/* #undef SIZEOF_INT32 */\n",
    "#if SIZEOF_INT32\n",
    "# define HAVE_INT32 1\n",
    "#endif\n",
    "/* #undef SIZEOF_UINT32 */\n",
    "#if SIZEOF_UINT32\n",
    "# define HAVE_UINT32 1\n",
    "#endif\n",
    "/* #undef SIZEOF_U_INT32_T */\n",
    "#if SIZEOF_U_INT32_T\n",
    "# define HAVE_U_INT32_T 1\n",
    "#endif\n",
    "\n",
    "/* #undef SIZEOF_INT64 */\n",
    "#if SIZEOF_INT64\n",
    "# define HAVE_INT64 1\n",
    "#endif\n",
    "/* #undef SIZEOF_UINT64 */\n",
    "#if SIZEOF_UINT64\n",
    "# define HAVE_UINT64 1\n",
    "#endif\n",
    "\n",
    "#define SIZEOF_SOCKLEN_T 4\n",
    "#if SIZEOF_SOCKLEN_T\n",
    "# define HAVE_SOCKLEN_T 1\n",
    "#endif\n",
    "\n",
    "/* XXX mysql_client_test uses this -- rip it out, please! */\n",
    "#define MAX_INDEXES 64\n",
    "\n",
    "#define QSORT_TYPE_IS_VOID 1\n",
    "#define RETQSORTTYPE void\n",
    "\n",
    "#define SIGNAL_RETURN_TYPE_IS_VOID 1\n",
    "#define RETSIGTYPE void\n",
    "\n",
    "#define WORDS_BIGENDIAN 1\n",
    "\n",
    "/* Define to `__inline__' or `__inline' if that's what the C compiler calls\n",
    "   it, or to nothing if 'inline' is not supported under any name.  */\n",
    "#ifndef __cplusplus\n",
    "# define inline inline\n",
    "#endif\n",
    "\n",
    "#define TIME_WITH_SYS_TIME 1\n",
    "\n",
    "#define STACK_DIRECTION -1\n",
    "\n",
    "#define SHAREDIR \"/usr/local/share/mysql\"\n",
    "#define THREAD 1\n",
    "#define THREAD_SAFE_CLIENT 1\n",
    "\n",
    "#define DEFAULT_CHARSET_HOME \"/usr/loca"
   ]
  },
  {
   "cell_type": "code",
   "execution_count": 12,
   "metadata": {},
   "outputs": [
    {
     "name": "stdout",
     "output_type": "stream",
     "text": [
      "Collecting package metadata (current_repodata.json): ...working... done\n",
      "Solving environment: ...working... done\n",
      "\n",
      "## Package Plan ##\n",
      "\n",
      "Note: you may need to restart the kernel to use updated packages.\n"
     ]
    },
    {
     "name": "stderr",
     "output_type": "stream",
     "text": [
      "\n",
      "InvalidArchiveError(\"Error with archive C:\\\\Users\\\\ÖKTEN\\\\.conda\\\\pkgs\\\\pyodbc-4.0.30-py38ha925a31_0.tar.bz2.  You probably need to delete and re-download or re-create this file.  Message from libarchive was:\\n\\nFailed to open 'C:\\\\Users\\\\ÖKTEN\\\\.conda\\\\pkgs\\\\pyodbc-4.0.30-py38ha925a31_0.tar.bz2'\")\n",
      "InvalidArchiveError(\"Error with archive C:\\\\Users\\\\ÖKTEN\\\\.conda\\\\pkgs\\\\ca-certificates-2020.10.14-0.tar.bz2.  You probably need to delete and re-download or re-create this file.  Message from libarchive was:\\n\\nFailed to open 'C:\\\\Users\\\\ÖKTEN\\\\.conda\\\\pkgs\\\\ca-certificates-2020.10.14-0.tar.bz2'\")\n",
      "InvalidArchiveError(\"Error with archive C:\\\\Users\\\\ÖKTEN\\\\.conda\\\\pkgs\\\\openssl-1.1.1h-he774522_0.tar.bz2.  You probably need to delete and re-download or re-create this file.  Message from libarchive was:\\n\\nFailed to open 'C:\\\\Users\\\\ÖKTEN\\\\.conda\\\\pkgs\\\\openssl-1.1.1h-he774522_0.tar.bz2'\")\n",
      "InvalidArchiveError(\"Error with archive C:\\\\Users\\\\ÖKTEN\\\\.conda\\\\pkgs\\\\conda-4.10.3-py38haa95532_0sxgui858\\\\info-conda-4.10.3-py38haa95532_0.tar.zst.  You probably need to delete and re-download or re-create this file.  Message from libarchive was:\\n\\nFailed to open 'C:\\\\Users\\\\ÖKTEN\\\\.conda\\\\pkgs\\\\conda-4.10.3-py38haa95532_0sxgui858\\\\info-conda-4.10.3-py38haa95532_0.tar.zst'\")\n",
      "\n"
     ]
    },
    {
     "name": "stdout",
     "output_type": "stream",
     "text": [
      "\n",
      "  environment location: C:\\ProgramData\\Anaconda3\n",
      "\n",
      "  added / updated specs:\n",
      "    - pyodbc\n",
      "\n",
      "\n",
      "The following packages will be downloaded:\n",
      "\n",
      "    package                    |            build\n",
      "    ---------------------------|-----------------\n",
      "    ca-certificates-2020.10.14 |                0         159 KB  anaconda\n",
      "    conda-4.10.3               |   py38haa95532_0         2.9 MB\n",
      "    openssl-1.1.1h             |       he774522_0         5.8 MB  anaconda\n",
      "    pyodbc-4.0.30              |   py38ha925a31_0          73 KB  anaconda\n",
      "    ------------------------------------------------------------\n",
      "                                           Total:         8.8 MB\n",
      "\n",
      "The following packages will be UPDATED:\n",
      "\n",
      "  conda                                4.9.2-py38haa95532_0 --> 4.10.3-py38haa95532_0\n",
      "\n",
      "The following packages will be SUPERSEDED by a higher-priority channel:\n",
      "\n",
      "  ca-certificates                                 pkgs/main --> anaconda\n",
      "  openssl                                         pkgs/main --> anaconda\n",
      "  pyodbc                                          pkgs/main --> anaconda\n",
      "\n",
      "\n",
      "\n",
      "Downloading and Extracting Packages\n",
      "\n",
      "pyodbc-4.0.30        | 73 KB     |            |   0% \n",
      "pyodbc-4.0.30        | 73 KB     | ##2        |  22% \n",
      "pyodbc-4.0.30        | 73 KB     | ########## | 100% \n",
      "\n",
      "ca-certificates-2020 | 159 KB    |            |   0% \n",
      "ca-certificates-2020 | 159 KB    | #########  |  90% \n",
      "ca-certificates-2020 | 159 KB    | ########## | 100% \n",
      "\n",
      "openssl-1.1.1h       | 5.8 MB    |            |   0% \n",
      "openssl-1.1.1h       | 5.8 MB    | 2          |   3% \n",
      "openssl-1.1.1h       | 5.8 MB    | 8          |   9% \n",
      "openssl-1.1.1h       | 5.8 MB    | #4         |  15% \n",
      "openssl-1.1.1h       | 5.8 MB    | ##         |  20% \n",
      "openssl-1.1.1h       | 5.8 MB    | ##6        |  26% \n",
      "openssl-1.1.1h       | 5.8 MB    | ###1       |  32% \n",
      "openssl-1.1.1h       | 5.8 MB    | ###7       |  37% \n",
      "openssl-1.1.1h       | 5.8 MB    | ####3      |  43% \n",
      "openssl-1.1.1h       | 5.8 MB    | ####9      |  49% \n",
      "openssl-1.1.1h       | 5.8 MB    | #####4     |  55% \n",
      "openssl-1.1.1h       | 5.8 MB    | ######     |  61% \n",
      "openssl-1.1.1h       | 5.8 MB    | ######6    |  67% \n",
      "openssl-1.1.1h       | 5.8 MB    | #######2   |  72% \n",
      "openssl-1.1.1h       | 5.8 MB    | #######7   |  78% \n",
      "openssl-1.1.1h       | 5.8 MB    | ########3  |  84% \n",
      "openssl-1.1.1h       | 5.8 MB    | ########9  |  89% \n",
      "openssl-1.1.1h       | 5.8 MB    | #########5 |  95% \n",
      "openssl-1.1.1h       | 5.8 MB    | ########## | 100% \n",
      "\n",
      "conda-4.10.3         | 2.9 MB    |            |   0% \n",
      "conda-4.10.3         | 2.9 MB    |            |   1% \n",
      "conda-4.10.3         | 2.9 MB    | #          |  10% \n",
      "conda-4.10.3         | 2.9 MB    | ##1        |  22% \n",
      "conda-4.10.3         | 2.9 MB    | ###3       |  33% \n",
      "conda-4.10.3         | 2.9 MB    | ####4      |  45% \n",
      "conda-4.10.3         | 2.9 MB    | #####3     |  53% \n",
      "conda-4.10.3         | 2.9 MB    | ######1    |  62% \n",
      "conda-4.10.3         | 2.9 MB    | #######    |  71% \n",
      "conda-4.10.3         | 2.9 MB    | #######8   |  79% \n",
      "conda-4.10.3         | 2.9 MB    | ########6  |  87% \n",
      "conda-4.10.3         | 2.9 MB    | #########4 |  94% \n",
      "conda-4.10.3         | 2.9 MB    | ########## | 100% \n"
     ]
    }
   ],
   "source": [
    "conda install -c anaconda pyodbc"
   ]
  },
  {
   "cell_type": "code",
   "execution_count": 13,
   "metadata": {},
   "outputs": [
    {
     "ename": "SyntaxError",
     "evalue": "invalid syntax (<ipython-input-13-a344fd3b7710>, line 1)",
     "output_type": "error",
     "traceback": [
      "\u001b[1;36m  File \u001b[1;32m\"<ipython-input-13-a344fd3b7710>\"\u001b[1;36m, line \u001b[1;32m1\u001b[0m\n\u001b[1;33m    sudo pip install MySQL-python\u001b[0m\n\u001b[1;37m         ^\u001b[0m\n\u001b[1;31mSyntaxError\u001b[0m\u001b[1;31m:\u001b[0m invalid syntax\n"
     ]
    }
   ],
   "source": [
    "sudo pip install MySQL-python"
   ]
  },
  {
   "cell_type": "code",
   "execution_count": null,
   "metadata": {},
   "outputs": [],
   "source": [
    "pip install MySQL-python==1.2.5"
   ]
  },
  {
   "cell_type": "code",
   "execution_count": null,
   "metadata": {},
   "outputs": [],
   "source": [
    "sudo apt-get install libmysqlclient-dev"
   ]
  },
  {
   "cell_type": "code",
   "execution_count": null,
   "metadata": {},
   "outputs": [],
   "source": [
    "pip install mysql-python"
   ]
  },
  {
   "cell_type": "code",
   "execution_count": 14,
   "metadata": {},
   "outputs": [
    {
     "name": "stdout",
     "output_type": "stream",
     "text": [
      "Requirement already satisfied: pyodbc in c:\\programdata\\anaconda3\\lib\\site-packages (4.0.0-unsupported)\n",
      "Note: you may need to restart the kernel to use updated packages.\n"
     ]
    }
   ],
   "source": [
    "pip install pyodbc"
   ]
  },
  {
   "cell_type": "code",
   "execution_count": 15,
   "metadata": {},
   "outputs": [
    {
     "data": {
      "text/plain": [
       "<function __main__.create_server_connection(driver, server, database, user, password)>"
      ]
     },
     "execution_count": 15,
     "metadata": {},
     "output_type": "execute_result"
    }
   ],
   "source": [
    "create_server_connection"
   ]
  },
  {
   "cell_type": "code",
   "execution_count": 17,
   "metadata": {},
   "outputs": [
    {
     "ename": "NameError",
     "evalue": "name 'Error' is not defined",
     "output_type": "error",
     "traceback": [
      "\u001b[1;31m---------------------------------------------------------------------------\u001b[0m",
      "\u001b[1;31mInterfaceError\u001b[0m                            Traceback (most recent call last)",
      "\u001b[1;32m<ipython-input-17-74fd7b36de66>\u001b[0m in \u001b[0;36mcreate_server_connection\u001b[1;34m(driver, server, database, user, password)\u001b[0m\n\u001b[0;32m      5\u001b[0m     \u001b[1;32mtry\u001b[0m\u001b[1;33m:\u001b[0m\u001b[1;33m\u001b[0m\u001b[1;33m\u001b[0m\u001b[0m\n\u001b[1;32m----> 6\u001b[1;33m         \u001b[0mconn\u001b[0m \u001b[1;33m=\u001b[0m \u001b[0mpyodbc\u001b[0m\u001b[1;33m.\u001b[0m\u001b[0mconnect\u001b[0m\u001b[1;33m(\u001b[0m\u001b[0mDRIVER\u001b[0m \u001b[1;33m=\u001b[0m \u001b[0mdriver\u001b[0m\u001b[1;33m,\u001b[0m \u001b[0mSERVER\u001b[0m \u001b[1;33m=\u001b[0m \u001b[0mserver\u001b[0m\u001b[1;33m,\u001b[0m \u001b[0mDATABASE\u001b[0m \u001b[1;33m=\u001b[0m \u001b[0mdatabase\u001b[0m\u001b[1;33m,\u001b[0m \u001b[0mUID\u001b[0m \u001b[1;33m=\u001b[0m \u001b[0muser\u001b[0m\u001b[1;33m,\u001b[0m \u001b[0mPWD\u001b[0m \u001b[1;33m=\u001b[0m \u001b[0mpassword\u001b[0m\u001b[1;33m)\u001b[0m\u001b[1;33m\u001b[0m\u001b[1;33m\u001b[0m\u001b[0m\n\u001b[0m\u001b[0;32m      7\u001b[0m         \u001b[0mprint\u001b[0m\u001b[1;33m(\u001b[0m\u001b[1;34m\"MS SQL Server Database connection successful\"\u001b[0m\u001b[1;33m)\u001b[0m\u001b[1;33m\u001b[0m\u001b[1;33m\u001b[0m\u001b[0m\n",
      "\u001b[1;31mInterfaceError\u001b[0m: ('28000', \"[28000] [Microsoft][ODBC Driver 17 for SQL Server][SQL Server]Login failed for user 'sa'. (18456) (SQLDriverConnect); [28000] [Microsoft][ODBC Driver 17 for SQL Server][SQL Server]Login failed for user 'sa'. (18456)\")",
      "\nDuring handling of the above exception, another exception occurred:\n",
      "\u001b[1;31mNameError\u001b[0m                                 Traceback (most recent call last)",
      "\u001b[1;32m<ipython-input-17-74fd7b36de66>\u001b[0m in \u001b[0;36m<module>\u001b[1;34m\u001b[0m\n\u001b[0;32m     16\u001b[0m \u001b[0muser\u001b[0m \u001b[1;33m=\u001b[0m \u001b[1;34m'sa'\u001b[0m\u001b[1;33m\u001b[0m\u001b[1;33m\u001b[0m\u001b[0m\n\u001b[0;32m     17\u001b[0m \u001b[0mpassword\u001b[0m \u001b[1;33m=\u001b[0m \u001b[1;34m'xxx'\u001b[0m\u001b[1;33m\u001b[0m\u001b[1;33m\u001b[0m\u001b[0m\n\u001b[1;32m---> 18\u001b[1;33m \u001b[0mconn\u001b[0m \u001b[1;33m=\u001b[0m \u001b[0mcreate_server_connection\u001b[0m\u001b[1;33m(\u001b[0m\u001b[0mdriver\u001b[0m\u001b[1;33m,\u001b[0m \u001b[0mserver\u001b[0m\u001b[1;33m,\u001b[0m \u001b[0mdatabase\u001b[0m\u001b[1;33m,\u001b[0m \u001b[0muser\u001b[0m\u001b[1;33m,\u001b[0m \u001b[0mpassword\u001b[0m\u001b[1;33m)\u001b[0m\u001b[1;33m\u001b[0m\u001b[1;33m\u001b[0m\u001b[0m\n\u001b[0m\u001b[0;32m     19\u001b[0m \u001b[1;33m\u001b[0m\u001b[0m\n\u001b[0;32m     20\u001b[0m \u001b[1;31m# MS SQL Server Database connection successful\u001b[0m\u001b[1;33m\u001b[0m\u001b[1;33m\u001b[0m\u001b[1;33m\u001b[0m\u001b[0m\n",
      "\u001b[1;32m<ipython-input-17-74fd7b36de66>\u001b[0m in \u001b[0;36mcreate_server_connection\u001b[1;34m(driver, server, database, user, password)\u001b[0m\n\u001b[0;32m      6\u001b[0m         \u001b[0mconn\u001b[0m \u001b[1;33m=\u001b[0m \u001b[0mpyodbc\u001b[0m\u001b[1;33m.\u001b[0m\u001b[0mconnect\u001b[0m\u001b[1;33m(\u001b[0m\u001b[0mDRIVER\u001b[0m \u001b[1;33m=\u001b[0m \u001b[0mdriver\u001b[0m\u001b[1;33m,\u001b[0m \u001b[0mSERVER\u001b[0m \u001b[1;33m=\u001b[0m \u001b[0mserver\u001b[0m\u001b[1;33m,\u001b[0m \u001b[0mDATABASE\u001b[0m \u001b[1;33m=\u001b[0m \u001b[0mdatabase\u001b[0m\u001b[1;33m,\u001b[0m \u001b[0mUID\u001b[0m \u001b[1;33m=\u001b[0m \u001b[0muser\u001b[0m\u001b[1;33m,\u001b[0m \u001b[0mPWD\u001b[0m \u001b[1;33m=\u001b[0m \u001b[0mpassword\u001b[0m\u001b[1;33m)\u001b[0m\u001b[1;33m\u001b[0m\u001b[1;33m\u001b[0m\u001b[0m\n\u001b[0;32m      7\u001b[0m         \u001b[0mprint\u001b[0m\u001b[1;33m(\u001b[0m\u001b[1;34m\"MS SQL Server Database connection successful\"\u001b[0m\u001b[1;33m)\u001b[0m\u001b[1;33m\u001b[0m\u001b[1;33m\u001b[0m\u001b[0m\n\u001b[1;32m----> 8\u001b[1;33m     \u001b[1;32mexcept\u001b[0m \u001b[0mError\u001b[0m \u001b[1;32mas\u001b[0m \u001b[0merr\u001b[0m\u001b[1;33m:\u001b[0m\u001b[1;33m\u001b[0m\u001b[1;33m\u001b[0m\u001b[0m\n\u001b[0m\u001b[0;32m      9\u001b[0m         \u001b[0mprint\u001b[0m\u001b[1;33m(\u001b[0m\u001b[1;34mf\"Error: '{err}'\"\u001b[0m\u001b[1;33m)\u001b[0m\u001b[1;33m\u001b[0m\u001b[1;33m\u001b[0m\u001b[0m\n\u001b[0;32m     10\u001b[0m     \u001b[1;32mreturn\u001b[0m \u001b[0mconn\u001b[0m\u001b[1;33m\u001b[0m\u001b[1;33m\u001b[0m\u001b[0m\n",
      "\u001b[1;31mNameError\u001b[0m: name 'Error' is not defined"
     ]
    }
   ],
   "source": [
    "import pyodbc\n",
    "\n",
    "def create_server_connection(driver, server, database, user, password):\n",
    "    conn = None\n",
    "    try:\n",
    "        conn = pyodbc.connect(DRIVER = driver, SERVER = server, DATABASE = database, UID = user, PWD = password)\n",
    "        print(\"MS SQL Server Database connection successful\")\n",
    "    except Error as err:\n",
    "        print(f\"Error: '{err}'\")\n",
    "    return conn\n",
    "\n",
    "\n",
    "driver = '{ODBC Driver 17 for SQL Server}'\n",
    "server = 'localhost' \n",
    "database = 'master' \n",
    "user = 'sa' \n",
    "password = 'xxx'\n",
    "conn = create_server_connection(driver, server, database, user, password)\n",
    "\n",
    "# MS SQL Server Database connection successful"
   ]
  },
  {
   "cell_type": "code",
   "execution_count": 5,
   "metadata": {},
   "outputs": [
    {
     "ename": "NameError",
     "evalue": "name 'conn' is not defined",
     "output_type": "error",
     "traceback": [
      "\u001b[1;31m---------------------------------------------------------------------------\u001b[0m",
      "\u001b[1;31mNameError\u001b[0m                                 Traceback (most recent call last)",
      "\u001b[1;32m<ipython-input-5-66f1151a237c>\u001b[0m in \u001b[0;36m<module>\u001b[1;34m\u001b[0m\n\u001b[0;32m      8\u001b[0m \u001b[1;33m\u001b[0m\u001b[0m\n\u001b[0;32m      9\u001b[0m \u001b[1;33m\u001b[0m\u001b[0m\n\u001b[1;32m---> 10\u001b[1;33m \u001b[0mconn\u001b[0m\u001b[1;33m.\u001b[0m\u001b[0mautocommit\u001b[0m \u001b[1;33m=\u001b[0m \u001b[1;32mTrue\u001b[0m\u001b[1;33m\u001b[0m\u001b[1;33m\u001b[0m\u001b[0m\n\u001b[0m\u001b[0;32m     11\u001b[0m \u001b[0mcreate_database_query\u001b[0m \u001b[1;33m=\u001b[0m \u001b[1;34m'CREATE DATABASE TestDB'\u001b[0m\u001b[1;33m\u001b[0m\u001b[1;33m\u001b[0m\u001b[0m\n\u001b[0;32m     12\u001b[0m \u001b[0mcreate_database\u001b[0m\u001b[1;33m(\u001b[0m\u001b[0mconn\u001b[0m\u001b[1;33m,\u001b[0m \u001b[0mcreate_database_query\u001b[0m\u001b[1;33m)\u001b[0m\u001b[1;33m\u001b[0m\u001b[1;33m\u001b[0m\u001b[0m\n",
      "\u001b[1;31mNameError\u001b[0m: name 'conn' is not defined"
     ]
    }
   ],
   "source": [
    "def create_database(conn, create_database_query):\n",
    "    csr = conn.cursor()\n",
    "    try:\n",
    "        csr.execute(create_database_query)\n",
    "        print(\"Database created successfully\")\n",
    "    except Error as err:\n",
    "        print(f\"Error: '{err}'\")\n",
    "    \n",
    "\n",
    "conn.autocommit = True\n",
    "create_database_query = 'CREATE DATABASE TestDB'\n",
    "create_database(conn, create_database_query)\n",
    "\n",
    "# Database created successfully"
   ]
  },
  {
   "cell_type": "code",
   "execution_count": 6,
   "metadata": {},
   "outputs": [
    {
     "ename": "NameError",
     "evalue": "name 'conn' is not defined",
     "output_type": "error",
     "traceback": [
      "\u001b[1;31m---------------------------------------------------------------------------\u001b[0m",
      "\u001b[1;31mNameError\u001b[0m                                 Traceback (most recent call last)",
      "\u001b[1;32m<ipython-input-6-2d557b87b607>\u001b[0m in \u001b[0;36m<module>\u001b[1;34m\u001b[0m\n\u001b[0;32m     11\u001b[0m \u001b[1;33m\u001b[0m\u001b[0m\n\u001b[0;32m     12\u001b[0m \u001b[0mquery\u001b[0m \u001b[1;33m=\u001b[0m\u001b[1;34m'USE TestDB'\u001b[0m\u001b[1;33m\u001b[0m\u001b[1;33m\u001b[0m\u001b[0m\n\u001b[1;32m---> 13\u001b[1;33m \u001b[0mexecute_query\u001b[0m\u001b[1;33m(\u001b[0m\u001b[0mconn\u001b[0m\u001b[1;33m,\u001b[0m \u001b[0mquery\u001b[0m\u001b[1;33m)\u001b[0m\u001b[1;33m\u001b[0m\u001b[1;33m\u001b[0m\u001b[0m\n\u001b[0m\u001b[0;32m     14\u001b[0m \u001b[1;33m\u001b[0m\u001b[0m\n\u001b[0;32m     15\u001b[0m \u001b[1;31m# Query successful\u001b[0m\u001b[1;33m\u001b[0m\u001b[1;33m\u001b[0m\u001b[1;33m\u001b[0m\u001b[0m\n",
      "\u001b[1;31mNameError\u001b[0m: name 'conn' is not defined"
     ]
    }
   ],
   "source": [
    "def execute_query(conn, query):\n",
    "    csr = conn.cursor()\n",
    "    try:\n",
    "        csr.execute(query)\n",
    "        conn.commit()\n",
    "        print(\"Query successful\")\n",
    "    \n",
    "    except Error as err:\n",
    "        print(f\"Error: '{err}'\")\n",
    "\n",
    "\n",
    "query ='USE TestDB'\n",
    "execute_query(conn, query)\n",
    "\n",
    "# Query successful\n",
    "\n",
    "query = 'CREATE TABLE TestA ( \\\n",
    "             ID int IDENTITY(1,1) NOT NULL, \\\n",
    "             FirstName varchar(255) NOT NULL, \\\n",
    "             LastName varchar(255) NOT NULL, \\\n",
    "             PRIMARY KEY(ID))'\n",
    "execute_query(conn, query)\n",
    "\n",
    "# Query successful"
   ]
  },
  {
   "cell_type": "code",
   "execution_count": null,
   "metadata": {},
   "outputs": [],
   "source": []
  },
  {
   "cell_type": "code",
   "execution_count": null,
   "metadata": {},
   "outputs": [],
   "source": []
  },
  {
   "cell_type": "code",
   "execution_count": null,
   "metadata": {},
   "outputs": [],
   "source": []
  },
  {
   "cell_type": "code",
   "execution_count": null,
   "metadata": {},
   "outputs": [],
   "source": [
    "csr = conn.cursor()\n",
    "\n",
    "\n",
    "\n",
    "csr.execute(\"INSERT TestA (FirstName, LastName) VALUES ('Aaaa', 'Bbbb')\")\n",
    "\n",
    "\n",
    "\n",
    "conn.commit()\n",
    "\n"
   ]
  },
  {
   "cell_type": "code",
   "execution_count": null,
   "metadata": {},
   "outputs": [],
   "source": [
    "csr.execute(\"INSERT TestA (FirstName, LastName) VALUES (?, ?)\", 'Cccc', 'Dddd')\n",
    "\n",
    "\n",
    "\n",
    "conn.commit()"
   ]
  },
  {
   "cell_type": "markdown",
   "metadata": {},
   "source": [
    "Since execute() always returns the cursor, you will sometimes see code like this (notice .rowcount on the end)."
   ]
  },
  {
   "cell_type": "code",
   "execution_count": null,
   "metadata": {},
   "outputs": [],
   "source": [
    "deleted = csr.execute(\"delete from TestA where FirstName = 'Cccc'\").rowcount\n",
    "\n",
    "\n",
    "\n",
    "conn.commit()\n",
    "\n",
    "\n",
    "\n",
    "print(deleted, 'row(s) deleted')"
   ]
  },
  {
   "cell_type": "markdown",
   "metadata": {},
   "source": [
    "Note the calls to conn.commit(). You must call commit (or set autocommit to True on the connection) otherwise your changes will be lost!"
   ]
  },
  {
   "cell_type": "markdown",
   "metadata": {},
   "source": [
    "Reading Data\n",
    "All SQL statements are executed using the Cursor execute() function. If the statement returns rows, such as a select statement, you can retrieve them using the Cursor fetch functions - fetchone(), fetchall(), fetchmany(). If there are no rows, fetchone() will return None, whereas fetchall() and fetchmany() will both return empty lists."
   ]
  },
  {
   "cell_type": "code",
   "execution_count": null,
   "metadata": {},
   "outputs": [],
   "source": [
    "csr = conn.cursor()\n",
    "csr.execute('select FirstName, LastName from TestA')\n",
    "row = csr.fetchone()\n",
    "if row:\n",
    "    print(row)"
   ]
  },
  {
   "cell_type": "markdown",
   "metadata": {},
   "source": [
    "Row objects are similar to tuples, but they also allow access to columns by name:"
   ]
  },
  {
   "cell_type": "code",
   "execution_count": null,
   "metadata": {},
   "outputs": [],
   "source": [
    "csr.execute('select FirstName, LastName from TestA')\n",
    "row = csr.fetchone()\n",
    "print('LastName:', row[1]) # access by column index (zero-based)\n",
    "print('LastName:', row.LastName) # access by name"
   ]
  },
  {
   "cell_type": "markdown",
   "metadata": {},
   "source": [
    "The fetchone() function returns None when all rows have been retrieved."
   ]
  },
  {
   "cell_type": "code",
   "execution_count": null,
   "metadata": {},
   "outputs": [],
   "source": [
    "csr.execute('select FirstName, LastName from TestA')\n",
    "while True:\n",
    "    row = csr.fetchone()\n",
    "    if not row:\n",
    "        break\n",
    "    print('FirstName:', row.FirstName)"
   ]
  },
  {
   "cell_type": "markdown",
   "metadata": {},
   "source": [
    "The fetchone() function returns all remaining rows in a list. Bear in mind those rows will all be stored in memory so if there a lot of rows, you may run out of memory.\n",
    "\n",
    "If there are no rows, an empty list is returned."
   ]
  },
  {
   "cell_type": "code",
   "execution_count": null,
   "metadata": {},
   "outputs": [],
   "source": [
    "csr.execute('select FirstName, LastName from TestA')\n",
    "rows = csr.fetchall()\n",
    "\n"
   ]
  },
  {
   "cell_type": "code",
   "execution_count": null,
   "metadata": {},
   "outputs": [],
   "source": [
    "\n",
    "for row in rows:\n",
    "    print(row.FirstName, row.LastName)"
   ]
  },
  {
   "cell_type": "markdown",
   "metadata": {},
   "source": [
    "If you are going to process the rows one at a time, you can use the cursor itself as an iterator:"
   ]
  },
  {
   "cell_type": "code",
   "execution_count": null,
   "metadata": {},
   "outputs": [],
   "source": [
    "csr.execute('select FirstName, LastName from TestA')\n",
    "for row in csr:\n",
    "    print(row.FirstName, row.LastName)\n",
    "\n",
    "#or just:\n",
    "\n",
    "for row in csr.execute('select FirstName, LastName from TestA'):\n",
    "    print(row.FirstName, row.LastName)"
   ]
  },
  {
   "cell_type": "code",
   "execution_count": null,
   "metadata": {},
   "outputs": [],
   "source": [
    "Parameters\n",
    "\n",
    "ODBC supports parameters using a question mark as a place holder in the SQL.\n",
    "\n",
    "You provide the values for the question marks by passing them after the SQL:"
   ]
  },
  {
   "cell_type": "code",
   "execution_count": null,
   "metadata": {},
   "outputs": [],
   "source": [
    "csr.execute(\"\"\"select FirstName, LastName from TestA\n",
    "               where FirstName = ?\"\"\", 'Aaaa')\n",
    "row = csr.fetchone()\n",
    "if row:\n",
    "    print(row)"
   ]
  },
  {
   "cell_type": "markdown",
   "metadata": {},
   "source": [
    "This is safer than putting the values into the string because the parameters are passed to the database separately, protecting against SQL injection attacks.\n",
    "\n",
    "It is also be more efficient if you execute the same SQL repeatedly with different parameters. The SQL will be \"prepared\" only once.\n",
    "\n",
    "(pyodbc keeps only the last prepared statement, so if you switch between statements, each will be prepared multiple times.)\n",
    "\n",
    " \n",
    "\n",
    "The Python DB API specifies that parameters should be passed as a sequence, so this is also supported by pyodbc:"
   ]
  },
  {
   "cell_type": "code",
   "execution_count": null,
   "metadata": {},
   "outputs": [],
   "source": [
    "csr.execute(\"\"\" select FirstName, LastName from TestA\n",
    "\t\twhere FirstName = ? and LastName = ? \"\"\", ['Aaaa', 'Bbbb'])\n",
    "row = csr.fetchone()\n",
    "if row:\n",
    "    print(row)"
   ]
  },
  {
   "cell_type": "code",
   "execution_count": null,
   "metadata": {},
   "outputs": [],
   "source": [
    "#To simplify the process, a function def read_query function can be created.\n",
    "\n",
    "def read_query(conn, query):\n",
    "    csr = conn.cursor()\n",
    "    results = None\n",
    "    try:\n",
    "        csr.execute(query)\n",
    "        results = csr.fetchall()\n",
    "        # Close and delete cursor\n",
    "        csr.close()\n",
    "        del csr\n",
    "        return results    \n",
    "    except Error as err:\n",
    "        print(f\"Error: '{err}'\")\n",
    "\n",
    "query = 'select FirstName, LastName from TestA'\n",
    "execute_query(conn, query)\n",
    "results = read_query(conn, query)\n",
    "print(results)\n",
    "conn.close()\n",
    "\n",
    "import pandas as pd\n",
    "from_db = []\n",
    "\n",
    "for result in results:\n",
    "    result = list(result)\n",
    "    from_db.append(result)\n",
    "\n",
    "columns = ['FirstName', 'LastName']\n",
    "df = pd.DataFrame(from_db, columns=columns)\n",
    "display(df)"
   ]
  },
  {
   "cell_type": "markdown",
   "metadata": {},
   "source": [
    "Tips and Tricks\n",
    "Quotes\n",
    "\n",
    "Since single quotes are valid in SQL, use double quotes to surround your SQL:\n",
    "\n"
   ]
  },
  {
   "cell_type": "code",
   "execution_count": null,
   "metadata": {},
   "outputs": [],
   "source": [
    "deleted = csr.execute(\"delete from TestA where FirstName = 'Aaaa'\").rowcount"
   ]
  },
  {
   "cell_type": "markdown",
   "metadata": {},
   "source": [
    "It's also worthwhile considering using 'raw' strings for your SQL to avoid any inadvertent escaping (unless you really do want to specify control characters):"
   ]
  },
  {
   "cell_type": "code",
   "execution_count": null,
   "metadata": {},
   "outputs": [],
   "source": [
    "csr.execute(\"delete from TestA where FirstName like '%bad\\name%'\") # Python will convert \\n to 'new line'!\n",
    "\n",
    "csr.execute(r\"delete from TestA where name like '%bad\\name%'\") # no escaping"
   ]
  },
  {
   "cell_type": "markdown",
   "metadata": {},
   "source": [
    "Formatting Long SQL Statements \n"
   ]
  },
  {
   "cell_type": "code",
   "execution_count": null,
   "metadata": {},
   "outputs": [],
   "source": [
    "import textwrap\n",
    "\n",
    "sql = textwrap.dedent(\"\"\"select FirstName, LastName from TestA\n",
    "                         where FirstName = 'Aaaa' and LastName = ?\n",
    "                      \"\"\")\n",
    "rows = csr.execute(sql, 'Bbbb').fetchall()"
   ]
  },
  {
   "cell_type": "markdown",
   "metadata": {},
   "source": [
    "fetchval\n",
    "\n",
    "If you are selecting a single value you can use the fetchval convenience method.\n",
    "\n",
    "If the statement generates a row, it returns the value of the first column of the first row. If there are no rows, None is returned:"
   ]
  },
  {
   "cell_type": "code",
   "execution_count": null,
   "metadata": {},
   "outputs": [],
   "source": [
    "maxid = csr.execute(\"select max(ID) from TestA\").fetchval()"
   ]
  },
  {
   "cell_type": "markdown",
   "metadata": {},
   "source": [
    "However, fetchval is a better choice if the statement can return an empty set:\n",
    "\n",
    "# Careful!"
   ]
  },
  {
   "cell_type": "code",
   "execution_count": null,
   "metadata": {},
   "outputs": [],
   "source": [
    "csr.execute(\"\"\"select FirstName from TestA where FirstName = 'Eeee'\n",
    "            \"\"\").fetchone()[0]\n",
    "\n",
    "# Preferred\n",
    "csr.execute(\"\"\"select FirstName from TestA where FirstName = 'Eeee'\n",
    "            \"\"\").fetchval()"
   ]
  },
  {
   "cell_type": "markdown",
   "metadata": {},
   "source": [
    "\n",
    "The first example will raise an exception if there are no rows.\n",
    "\n",
    "The fetchone() call returns None. Python then attempts to apply [0] to the result (None[0]) which is not valid.\n",
    "\n",
    "The fetchval method was created just for this situation - it will detect the fact that there are no rows and will return None."
   ]
  }
 ],
 "metadata": {
  "kernelspec": {
   "display_name": "Python 3",
   "language": "python",
   "name": "python3"
  },
  "language_info": {
   "codemirror_mode": {
    "name": "ipython",
    "version": 3
   },
   "file_extension": ".py",
   "mimetype": "text/x-python",
   "name": "python",
   "nbconvert_exporter": "python",
   "pygments_lexer": "ipython3",
   "version": "3.8.5"
  }
 },
 "nbformat": 4,
 "nbformat_minor": 4
}
