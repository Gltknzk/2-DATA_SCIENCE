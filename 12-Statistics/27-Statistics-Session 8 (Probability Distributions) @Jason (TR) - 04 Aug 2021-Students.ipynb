{
 "cells": [
  {
   "cell_type": "code",
   "execution_count": 1,
   "metadata": {},
   "outputs": [],
   "source": [
    "import numpy as np\n",
    "from scipy import stats\n",
    "import matplotlib.pyplot as plt"
   ]
  },
  {
   "cell_type": "markdown",
   "metadata": {},
   "source": [
    "# Discrete Distributions"
   ]
  },
  {
   "cell_type": "markdown",
   "metadata": {},
   "source": [
    "## Binomial Distribution"
   ]
  },
  {
   "cell_type": "markdown",
   "metadata": {},
   "source": [
    "The probability that you will win a certain game is 0.4. You're playing this game 4 times. \n",
    "- Construct probability table\n",
    "- Draw probability histogram"
   ]
  },
  {
   "cell_type": "markdown",
   "metadata": {},
   "source": [
    "1. Assign n and p"
   ]
  },
  {
   "cell_type": "code",
   "execution_count": null,
   "metadata": {},
   "outputs": [],
   "source": [
    "#birbirinden bağımsız oluduğu için binom dağılıdır dedik.\n",
    "trail=deneme=n=4\n",
    "olasılık=p=0.4\n",
    "https://en.wikipedia.org/wiki/Binomial_distribution\n",
    "    pmf =probability masss function"
   ]
  },
  {
   "cell_type": "code",
   "execution_count": null,
   "metadata": {},
   "outputs": [],
   "source": [
    "# ikideğer girer binoma n ve p yerlerine yazdık"
   ]
  },
  {
   "cell_type": "code",
   "execution_count": 6,
   "metadata": {},
   "outputs": [],
   "source": [
    "n=4\n",
    "p=0.4"
   ]
  },
  {
   "cell_type": "markdown",
   "metadata": {},
   "source": [
    "2. Use stats.binom()"
   ]
  },
  {
   "cell_type": "code",
   "execution_count": 9,
   "metadata": {},
   "outputs": [
    {
     "data": {
      "text/plain": [
       "<scipy.stats._distn_infrastructure.rv_frozen at 0x2390fb4ddc0>"
      ]
     },
     "execution_count": 9,
     "metadata": {},
     "output_type": "execute_result"
    }
   ],
   "source": [
    "stats.binom(n,p)"
   ]
  },
  {
   "cell_type": "code",
   "execution_count": 10,
   "metadata": {},
   "outputs": [],
   "source": [
    "binomDist=stats.binom(n,p)"
   ]
  },
  {
   "cell_type": "code",
   "execution_count": 11,
   "metadata": {},
   "outputs": [
    {
     "data": {
      "text/plain": [
       "(4, 0.4)"
      ]
     },
     "execution_count": 11,
     "metadata": {},
     "output_type": "execute_result"
    }
   ],
   "source": [
    "binomDist.args   # binom dağılımdakileri gördük"
   ]
  },
  {
   "cell_type": "markdown",
   "metadata": {},
   "source": [
    "3. Use pmf method"
   ]
  },
  {
   "cell_type": "code",
   "execution_count": 12,
   "metadata": {},
   "outputs": [
    {
     "data": {
      "text/plain": [
       "0.3456000000000001"
      ]
     },
     "execution_count": 12,
     "metadata": {},
     "output_type": "execute_result"
    }
   ],
   "source": [
    "binomDist.pmf(2)  # 4 oyundann x= 2 sini kazanma olasılığı p(X=2) pmf bulacaz\n",
    "                  # kazanma olasılığı .40 olan yarıştan 4 denemeden 2 kazanma olasılığı"
   ]
  },
  {
   "cell_type": "code",
   "execution_count": 13,
   "metadata": {},
   "outputs": [
    {
     "data": {
      "text/plain": [
       "0.025600000000000008"
      ]
     },
     "execution_count": 13,
     "metadata": {},
     "output_type": "execute_result"
    }
   ],
   "source": [
    "binomDist.pmf(4)   # bu oyunların 4'ünü kazanm oalsılığı % 2.5 gibi"
   ]
  },
  {
   "cell_type": "code",
   "execution_count": 14,
   "metadata": {},
   "outputs": [
    {
     "data": {
      "text/plain": [
       "0.3456000000000001"
      ]
     },
     "execution_count": 14,
     "metadata": {},
     "output_type": "execute_result"
    }
   ],
   "source": [
    "binomDist.pmf(1)   # bu oyunların 4'ünü kazanm oalsılığı % 2.5 gibi"
   ]
  },
  {
   "cell_type": "code",
   "execution_count": 15,
   "metadata": {},
   "outputs": [
    {
     "data": {
      "text/plain": [
       "0.1296"
      ]
     },
     "execution_count": 15,
     "metadata": {},
     "output_type": "execute_result"
    }
   ],
   "source": [
    "binomDist.pmf(0)   # bu oyunların 4'ünü kazanm oalsılığı % 2.5 gibi"
   ]
  },
  {
   "cell_type": "markdown",
   "metadata": {},
   "source": [
    "4. Construct discrete probability distribution table"
   ]
  },
  {
   "cell_type": "code",
   "execution_count": 18,
   "metadata": {},
   "outputs": [
    {
     "name": "stdout",
     "output_type": "stream",
     "text": [
      "0\t0.1296\n",
      "1\t0.3456000000000001\n",
      "2\t0.3456000000000001\n",
      "3\t0.15360000000000007\n",
      "4\t0.025600000000000008\n"
     ]
    }
   ],
   "source": [
    "dist=[]\n",
    "for i in range(n+1):\n",
    "    dist.append(binomDist.pmf(i))\n",
    "    print(str(i)+\"\\t\"+str(binomDist.pmf(i)))"
   ]
  },
  {
   "cell_type": "code",
   "execution_count": 19,
   "metadata": {},
   "outputs": [
    {
     "data": {
      "text/plain": [
       "0.0"
      ]
     },
     "execution_count": 19,
     "metadata": {},
     "output_type": "execute_result"
    }
   ],
   "source": [
    "binomDist.pmf(10)  # discrete olanlarda ötede kalan alanlar 0 dır. 0-1-2-3-4 var ama 10 yok gibi"
   ]
  },
  {
   "cell_type": "code",
   "execution_count": 21,
   "metadata": {},
   "outputs": [
    {
     "data": {
      "text/plain": [
       "<BarContainer object of 5 artists>"
      ]
     },
     "execution_count": 21,
     "metadata": {},
     "output_type": "execute_result"
    },
    {
     "data": {
      "image/png": "[encoded data removed]",
      "text/plain": [
       "<Figure size 432x288 with 1 Axes>"
      ]
     },
     "metadata": {
      "needs_background": "light"
     },
     "output_type": "display_data"
    }
   ],
   "source": [
    "plt.bar(list(range(n+1)),dist)"
   ]
  },
  {
   "cell_type": "markdown",
   "metadata": {},
   "source": [
    "5. Draw histogram"
   ]
  },
  {
   "cell_type": "code",
   "execution_count": 22,
   "metadata": {},
   "outputs": [
    {
     "data": {
      "text/plain": [
       "(array(1.6), array(0.96))"
      ]
     },
     "execution_count": 22,
     "metadata": {},
     "output_type": "execute_result"
    }
   ],
   "source": [
    "binomDist.stats()   #(array(1.6), array(0.96))  burda default mean mü= n.p=1.6   ve variance geldi."
   ]
  },
  {
   "cell_type": "code",
   "execution_count": 23,
   "metadata": {},
   "outputs": [],
   "source": [
    "mean,var=binomDist.stats()   #(array(1.6), array(0.96))"
   ]
  },
  {
   "cell_type": "code",
   "execution_count": 24,
   "metadata": {},
   "outputs": [
    {
     "data": {
      "text/plain": [
       "array(1.6)"
      ]
     },
     "execution_count": 24,
     "metadata": {},
     "output_type": "execute_result"
    }
   ],
   "source": [
    "mean  # expected value ort. verdi 0*.12+1.034+1*034+3*...."
   ]
  },
  {
   "cell_type": "markdown",
   "metadata": {},
   "source": [
    "6. Calculate the first four moments"
   ]
  },
  {
   "cell_type": "code",
   "execution_count": 25,
   "metadata": {},
   "outputs": [],
   "source": [
    "mean, var, skew, kurt = binomDist.stats(moments =\"mvsk\")  # mean var skew kurt verir moments"
   ]
  },
  {
   "cell_type": "code",
   "execution_count": 26,
   "metadata": {},
   "outputs": [
    {
     "data": {
      "text/plain": [
       "array(0.20412415)"
      ]
     },
     "execution_count": 26,
     "metadata": {},
     "output_type": "execute_result"
    }
   ],
   "source": [
    "skew   # sağa çarpık olduğunu anladık stats modülünde hemen gördük"
   ]
  },
  {
   "cell_type": "code",
   "execution_count": 27,
   "metadata": {},
   "outputs": [
    {
     "data": {
      "text/plain": [
       "0.9797958971132712"
      ]
     },
     "execution_count": 27,
     "metadata": {},
     "output_type": "execute_result"
    }
   ],
   "source": [
    "binomDist.std()  # bunun karesi variance olur"
   ]
  },
  {
   "cell_type": "code",
   "execution_count": 28,
   "metadata": {},
   "outputs": [
    {
     "data": {
      "text/plain": [
       "0.96"
      ]
     },
     "execution_count": 28,
     "metadata": {},
     "output_type": "execute_result"
    }
   ],
   "source": [
    "binomDist.std()**2  #  variance oldu"
   ]
  },
  {
   "cell_type": "markdown",
   "metadata": {},
   "source": [
    "7. Use cdf method  cumulative disburition function"
   ]
  },
  {
   "cell_type": "code",
   "execution_count": null,
   "metadata": {},
   "outputs": [],
   "source": [
    "# en fazla 1 oyun kazanma olasılığı kumyulati ya toplayarak gel."
   ]
  },
  {
   "cell_type": "code",
   "execution_count": 30,
   "metadata": {},
   "outputs": [
    {
     "data": {
      "text/plain": [
       "[0.1296,\n",
       " 0.3456000000000001,\n",
       " 0.3456000000000001,\n",
       " 0.15360000000000007,\n",
       " 0.025600000000000008]"
      ]
     },
     "execution_count": 30,
     "metadata": {},
     "output_type": "execute_result"
    }
   ],
   "source": [
    "dist"
   ]
  },
  {
   "cell_type": "code",
   "execution_count": 32,
   "metadata": {},
   "outputs": [
    {
     "data": {
      "text/plain": [
       "0.47520000000000007"
      ]
     },
     "execution_count": 32,
     "metadata": {},
     "output_type": "execute_result"
    }
   ],
   "source": [
    "dist[0]+dist[1]  # biz topladık"
   ]
  },
  {
   "cell_type": "code",
   "execution_count": 33,
   "metadata": {},
   "outputs": [
    {
     "data": {
      "text/plain": [
       "0.47519999999999996"
      ]
     },
     "execution_count": 33,
     "metadata": {},
     "output_type": "execute_result"
    }
   ],
   "source": [
    "binomDist.cdf(1)  # heassplamayı cdf ile yaptık"
   ]
  },
  {
   "cell_type": "code",
   "execution_count": null,
   "metadata": {},
   "outputs": [],
   "source": [
    "binomDist.cdf(2)  # en fazla 2 oyunu kazanma durumu"
   ]
  },
  {
   "cell_type": "markdown",
   "metadata": {},
   "source": [
    "8. Use rvs method  random variable exprement  yani 100 tane rakam ürettik olasılıklardan"
   ]
  },
  {
   "cell_type": "code",
   "execution_count": 49,
   "metadata": {},
   "outputs": [
    {
     "data": {
      "text/plain": [
       "array([1, 3, 4, 3, 1, 1, 1, 3, 3, 3, 1, 2, 2, 1, 2, 1, 1, 2, 1, 2, 2, 2,\n",
       "       2, 1, 2, 2, 2, 1, 1, 2, 1, 1, 1, 3, 3, 2, 1, 2, 1, 1, 1, 1, 0, 2,\n",
       "       2, 4, 0, 1, 2, 0, 3, 2, 2, 3, 0, 1, 2, 0, 2, 1, 2, 1, 2, 1, 2, 0,\n",
       "       3, 1, 2, 1, 4, 1, 1, 4, 0, 1, 3, 1, 1, 2, 1, 3, 1, 2, 2, 3, 1, 2,\n",
       "       1, 3, 2, 1, 1, 1, 2, 2, 0, 3, 0, 3])"
      ]
     },
     "execution_count": 49,
     "metadata": {},
     "output_type": "execute_result"
    }
   ],
   "source": [
    "list1=binomDist.rvs(100) # en= 4 p=0.4 olan exprement ten rakam üretme\n",
    "list1"
   ]
  },
  {
   "cell_type": "code",
   "execution_count": 50,
   "metadata": {},
   "outputs": [
    {
     "data": {
      "text/plain": [
       "1.67"
      ]
     },
     "execution_count": 50,
     "metadata": {},
     "output_type": "execute_result"
    }
   ],
   "source": [
    "sum(list1)/len(list1)# ortalama kazanılan oyun sayısı"
   ]
  },
  {
   "cell_type": "code",
   "execution_count": null,
   "metadata": {},
   "outputs": [],
   "source": []
  },
  {
   "cell_type": "code",
   "execution_count": null,
   "metadata": {},
   "outputs": [],
   "source": []
  },
  {
   "cell_type": "markdown",
   "metadata": {},
   "source": [
    "EXERCISE"
   ]
  },
  {
   "cell_type": "markdown",
   "metadata": {},
   "source": [
    "In the old days, there was a probability of 0.8 of success in any attempt to make a telephone call. (This often depended on the importance of the person making the call, or the operator's curiosity!)\n",
    "\n",
    "Calculate the probability of having 7 successes in 10 attempts."
   ]
  },
  {
   "cell_type": "code",
   "execution_count": null,
   "metadata": {},
   "outputs": [],
   "source": [
    "Probability of success \\displaystyle{p}={0.8}p=0.8, so \\displaystyle{q}={0.2}q=0.2.\n",
    "\n",
    "\\displaystyle{X}=X= success in getting through.\n",
    "\n",
    "Probability of \\displaystyle{7}7 successes in \\displaystyle{10}10 attempts:\n",
    "\n",
    "\\displaystyle\\text{Probability}={P}{\\left({X}={7}\\right)}Probability=P(X=7)\n",
    "\\displaystyle={{C}_{{7}}^{{10}}}{\\left({0.8}\\right)}^{7}{\\left({0.2}\\right)}^{{{10}-{7}}}=C \n",
    "7\n",
    "10\n",
    "​\n",
    " (0.8) \n",
    "7\n",
    " (0.2) \n",
    "10−7\n",
    " \n",
    "\\displaystyle={0.20133}=0.20133\n",
    "Histogram\n",
    "We use the following function\n",
    "\n",
    "\\displaystyle{C}{\\left({10},{x}\\right)}{\\left({0.8}\\right)}^{x}{\\left({0.2}\\right)}^{{{10}-{x}}}C(10,x)(0.8) \n",
    "x\n",
    " (0.2) \n",
    "10−x\n",
    " \n",
    "to obtain the probability histogram:"
   ]
  },
  {
   "cell_type": "code",
   "execution_count": null,
   "metadata": {},
   "outputs": [],
   "source": []
  },
  {
   "cell_type": "code",
   "execution_count": null,
   "metadata": {},
   "outputs": [],
   "source": []
  },
  {
   "cell_type": "markdown",
   "metadata": {},
   "source": [
    "P(X <= 7) = ?"
   ]
  },
  {
   "cell_type": "code",
   "execution_count": null,
   "metadata": {},
   "outputs": [],
   "source": []
  },
  {
   "cell_type": "markdown",
   "metadata": {},
   "source": [
    "P(X < 7) = ?"
   ]
  },
  {
   "cell_type": "code",
   "execution_count": null,
   "metadata": {},
   "outputs": [],
   "source": []
  },
  {
   "cell_type": "code",
   "execution_count": null,
   "metadata": {},
   "outputs": [],
   "source": []
  },
  {
   "cell_type": "markdown",
   "metadata": {},
   "source": [
    "# Continuous Distributions"
   ]
  },
  {
   "cell_type": "markdown",
   "metadata": {},
   "source": [
    "## Normal Distribution"
   ]
  },
  {
   "cell_type": "markdown",
   "metadata": {},
   "source": [
    "1. Define a standard normal distribution using stats.norm"
   ]
  },
  {
   "cell_type": "code",
   "execution_count": 52,
   "metadata": {},
   "outputs": [
    {
     "ename": "SyntaxError",
     "evalue": "invalid syntax (<ipython-input-52-9f71fa40ca8e>, line 1)",
     "output_type": "error",
     "traceback": [
      "\u001b[1;36m  File \u001b[1;32m\"<ipython-input-52-9f71fa40ca8e>\"\u001b[1;36m, line \u001b[1;32m1\u001b[0m\n\u001b[1;33m    (mu,sigma)  mu=m ortalma sigma = standart sapma  (0,1) ort= 0 std=1 olan normal dağılımdır.\u001b[0m\n\u001b[1;37m                ^\u001b[0m\n\u001b[1;31mSyntaxError\u001b[0m\u001b[1;31m:\u001b[0m invalid syntax\n"
     ]
    }
   ],
   "source": [
    "(mu,sigma)  mu=m ortalma sigma = standart sapma  (0,1) ort= 0 std=1 olan normal dağılımdır."
   ]
  },
  {
   "cell_type": "code",
   "execution_count": 54,
   "metadata": {},
   "outputs": [],
   "source": [
    "(mu,sigma)=(0,1)"
   ]
  },
  {
   "cell_type": "code",
   "execution_count": 55,
   "metadata": {},
   "outputs": [],
   "source": [
    "normDist=stats.norm(mu,sigma)"
   ]
  },
  {
   "cell_type": "code",
   "execution_count": 56,
   "metadata": {},
   "outputs": [
    {
     "data": {
      "text/plain": [
       "(0, 1)"
      ]
     },
     "execution_count": 56,
     "metadata": {},
     "output_type": "execute_result"
    }
   ],
   "source": [
    "normDist.args"
   ]
  },
  {
   "cell_type": "markdown",
   "metadata": {},
   "source": [
    "2. Use pdf method"
   ]
  },
  {
   "cell_type": "code",
   "execution_count": 57,
   "metadata": {},
   "outputs": [
    {
     "data": {
      "text/plain": [
       "0.3989422804014327"
      ]
     },
     "execution_count": 57,
     "metadata": {},
     "output_type": "execute_result"
    }
   ],
   "source": [
    "normDist.pdf(0) # 0 a karşılık gelen dağılım sonucu"
   ]
  },
  {
   "cell_type": "code",
   "execution_count": 58,
   "metadata": {},
   "outputs": [
    {
     "data": {
      "text/plain": [
       "0.24197072451914337"
      ]
     },
     "execution_count": 58,
     "metadata": {},
     "output_type": "execute_result"
    }
   ],
   "source": [
    "normDist.pdf(1) # 0 a karşılık gelen dağılım sonucu -----continuous-------- "
   ]
  },
  {
   "cell_type": "markdown",
   "metadata": {},
   "source": [
    "3. Use cdf method"
   ]
  },
  {
   "cell_type": "markdown",
   "metadata": {},
   "source": [
    "- P(−2 < Z < 2) = ?"
   ]
  },
  {
   "cell_type": "code",
   "execution_count": 61,
   "metadata": {},
   "outputs": [
    {
     "data": {
      "text/plain": [
       "0.9544997361036416"
      ]
     },
     "execution_count": 61,
     "metadata": {},
     "output_type": "execute_result"
    }
   ],
   "source": [
    "normDist.cdf(2)-normDist.cdf(-2) # -2 ile 2 arasında kalan dağılım bu da 95 aralığı demek"
   ]
  },
  {
   "cell_type": "code",
   "execution_count": null,
   "metadata": {},
   "outputs": [],
   "source": [
    "https://onlinestatbook.com/2/calculators/normal_dist.html"
   ]
  },
  {
   "cell_type": "markdown",
   "metadata": {},
   "source": [
    "- P(−3 ≤ Z ≤ 3) = ? "
   ]
  },
  {
   "cell_type": "code",
   "execution_count": 62,
   "metadata": {},
   "outputs": [
    {
     "data": {
      "text/plain": [
       "0.9973002039367398"
      ]
     },
     "execution_count": 62,
     "metadata": {},
     "output_type": "execute_result"
    }
   ],
   "source": [
    "normDist.cdf(3)-normDist.cdf(-3) # -3 ile 3 arasında kalan dağılım du da verinin 99.7 demek"
   ]
  },
  {
   "cell_type": "markdown",
   "metadata": {},
   "source": [
    "- P(−1 ≤ Z ≤ 2) = ?"
   ]
  },
  {
   "cell_type": "code",
   "execution_count": 65,
   "metadata": {},
   "outputs": [
    {
     "data": {
      "text/plain": [
       "0.8185946141203637"
      ]
     },
     "execution_count": 65,
     "metadata": {},
     "output_type": "execute_result"
    }
   ],
   "source": [
    "normDist.cdf(2)-normDist.cdf(-1) # -3 ile 3 arasında kalan dağılım du da verinin 99.7 demek"
   ]
  },
  {
   "cell_type": "markdown",
   "metadata": {},
   "source": [
    "- μ = 100\n",
    "- σ = 10\n",
    "- P(110 ≤ X) = ?"
   ]
  },
  {
   "cell_type": "code",
   "execution_count": null,
   "metadata": {},
   "outputs": [],
   "source": [
    "# 70 - 80 - 90- 100 yani mu() -  110 - 120 - 130  = burda 1-cdf110 olacak"
   ]
  },
  {
   "cell_type": "code",
   "execution_count": 66,
   "metadata": {},
   "outputs": [
    {
     "data": {
      "text/plain": [
       "(0, 1)"
      ]
     },
     "execution_count": 66,
     "metadata": {},
     "output_type": "execute_result"
    }
   ],
   "source": [
    "normDist.args"
   ]
  },
  {
   "cell_type": "code",
   "execution_count": 68,
   "metadata": {},
   "outputs": [
    {
     "data": {
      "text/plain": [
       "0.8413447460685429"
      ]
     },
     "execution_count": 68,
     "metadata": {},
     "output_type": "execute_result"
    }
   ],
   "source": [
    "stats.norm.cdf(110,loc= 100,scale=10)  #yani 110 dan geriye cdf değeridir. toplayarak gelir."
   ]
  },
  {
   "cell_type": "code",
   "execution_count": 69,
   "metadata": {},
   "outputs": [
    {
     "data": {
      "text/plain": [
       "0.15865525393145707"
      ]
     },
     "execution_count": 69,
     "metadata": {},
     "output_type": "execute_result"
    }
   ],
   "source": [
    "1-stats.norm.cdf(110,loc= 100,scale=10)  # sonuç ğırlığı 110 dan fazla olan popülasyon denebilir.\n",
    "                                        # bu populasyonun kaçta kaçı 110 ve daha yuakrıdadır."
   ]
  },
  {
   "cell_type": "markdown",
   "metadata": {},
   "source": [
    "### EXERCISE"
   ]
  },
  {
   "cell_type": "markdown",
   "metadata": {},
   "source": [
    "Suppose scores on an IQ test are normally distributed. If the test has a mean of 100 and a standard deviation of 10, what is the probability that a person who takes the test will score between 90 and 110?"
   ]
  },
  {
   "cell_type": "code",
   "execution_count": 63,
   "metadata": {},
   "outputs": [
    {
     "ename": "SyntaxError",
     "evalue": "invalid syntax (<ipython-input-63-637c0dfacad2>, line 1)",
     "output_type": "error",
     "traceback": [
      "\u001b[1;36m  File \u001b[1;32m\"<ipython-input-63-637c0dfacad2>\"\u001b[1;36m, line \u001b[1;32m1\u001b[0m\n\u001b[1;33m    Solution: Here, we want to know the probability that the test score falls between 90 and 110. The \"trick\" to solving this problem is to realize the following:\u001b[0m\n\u001b[1;37m                  ^\u001b[0m\n\u001b[1;31mSyntaxError\u001b[0m\u001b[1;31m:\u001b[0m invalid syntax\n"
     ]
    }
   ],
   "source": [
    "Solution: Here, we want to know the probability that the test score falls between 90 and 110. The \"trick\" to solving this problem is to realize the following:\n",
    "\n",
    "P( 90 < X < 110 ) = P( X < 110 ) - P( X < 90 )\n",
    "\n",
    "We use the Normal Distribution Calculator to compute both probabilities on the right side of the above equation.\n",
    "\n",
    "To compute P( X < 110 ), we enter the following inputs into the calculator: The value of the normal random variable is 110, the mean is 100, and the standard deviation is 10. We find that P( X < 110 ) is 0.84.\n",
    "To compute P( X < 90 ), we enter the following inputs into the calculator: The value of the normal random variable is 90, the mean is 100, and the standard deviation is 10. We find that P( X < 90 ) is 0.16.\n",
    "We use these findings to compute our final answer as follows:\n",
    "\n",
    "P( 90 < X < 110 ) = P( X < 110 ) - P( X < 90 )\n",
    "P( 90 < X < 110 ) = 0.84 - 0.16\n",
    "P( 90 < X < 110 ) = 0.68\n",
    "\n",
    "Thus, about 68% of the test scores will fall between 90 and 110."
   ]
  },
  {
   "cell_type": "code",
   "execution_count": null,
   "metadata": {},
   "outputs": [],
   "source": []
  },
  {
   "cell_type": "markdown",
   "metadata": {},
   "source": [
    "## t Distribution"
   ]
  },
  {
   "cell_type": "markdown",
   "metadata": {},
   "source": [
    "- Acme Corporation manufactures light bulbs. The CEO claims that an average Acme light bulb lasts 300 days. \n",
    "- A researcher randomly selects 15 bulbs for testing. \n",
    "- The sampled bulbs last an average of 290 days, with a standard deviation of 50 days. \n",
    "- If the CEO's claim were true, what is the probability that 15 randomly selected bulbs would have an average life of no more than 290 days?"
   ]
  },
  {
   "cell_type": "code",
   "execution_count": null,
   "metadata": {},
   "outputs": [],
   "source": [
    "n = 15"
   ]
  },
  {
   "cell_type": "code",
   "execution_count": null,
   "metadata": {},
   "outputs": [],
   "source": [
    "#  bu link     https://docs.scipy.org/doc/scipy/reference/generated/scipy.stats.t.html"
   ]
  },
  {
   "cell_type": "code",
   "execution_count": null,
   "metadata": {},
   "outputs": [],
   "source": []
  },
  {
   "cell_type": "code",
   "execution_count": null,
   "metadata": {},
   "outputs": [],
   "source": []
  }
 ],
 "metadata": {
  "kernelspec": {
   "display_name": "Python 3",
   "language": "python",
   "name": "python3"
  },
  "language_info": {
   "codemirror_mode": {
    "name": "ipython",
    "version": 3
   },
   "file_extension": ".py",
   "mimetype": "text/x-python",
   "name": "python",
   "nbconvert_exporter": "python",
   "pygments_lexer": "ipython3",
   "version": "3.8.5"
  }
 },
 "nbformat": 4,
 "nbformat_minor": 2
}
