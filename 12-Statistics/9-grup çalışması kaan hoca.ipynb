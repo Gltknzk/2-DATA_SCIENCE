{
 "cells": [
  {
   "cell_type": "code",
   "execution_count": 73,
   "metadata": {},
   "outputs": [],
   "source": [
    "import numpy as np\n",
    "import pandas as pd\n",
    "import matplotlib.pyplot as plt\n",
    "import seaborn as sns\n",
    "from scipy import stats # we will use this library for --> (mode, skew, kurtosis, iqr) "
   ]
  },
  {
   "cell_type": "code",
   "execution_count": 75,
   "metadata": {},
   "outputs": [],
   "source": [
    "df_2021 = pd.read_csv('world-happiness-report-2021.csv')"
   ]
  },
  {
   "cell_type": "code",
   "execution_count": 76,
   "metadata": {},
   "outputs": [
    {
     "data": {
      "text/plain": [
       "Index(['Country name', 'Regional indicator', 'Ladder score',\n",
       "       'Standard error of ladder score', 'upperwhisker', 'lowerwhisker',\n",
       "       'Logged GDP per capita', 'Social support', 'Healthy life expectancy',\n",
       "       'Freedom to make life choices', 'Generosity',\n",
       "       'Perceptions of corruption', 'Ladder score in Dystopia',\n",
       "       'Explained by: Log GDP per capita', 'Explained by: Social support',\n",
       "       'Explained by: Healthy life expectancy',\n",
       "       'Explained by: Freedom to make life choices',\n",
       "       'Explained by: Generosity', 'Explained by: Perceptions of corruption',\n",
       "       'Dystopia + residual'],\n",
       "      dtype='object')"
      ]
     },
     "execution_count": 76,
     "metadata": {},
     "output_type": "execute_result"
    }
   ],
   "source": [
    "df_2021.columns"
   ]
  },
  {
   "cell_type": "code",
   "execution_count": 80,
   "metadata": {},
   "outputs": [
    {
     "data": {
      "text/html": [
       "<div>\n",
       "<style scoped>\n",
       "    .dataframe tbody tr th:only-of-type {\n",
       "        vertical-align: middle;\n",
       "    }\n",
       "\n",
       "    .dataframe tbody tr th {\n",
       "        vertical-align: top;\n",
       "    }\n",
       "\n",
       "    .dataframe thead th {\n",
       "        text-align: right;\n",
       "    }\n",
       "</style>\n",
       "<table border=\"1\" class=\"dataframe\">\n",
       "  <thead>\n",
       "    <tr style=\"text-align: right;\">\n",
       "      <th></th>\n",
       "      <th>Country name</th>\n",
       "      <th>Regional indicator</th>\n",
       "      <th>Ladder score</th>\n",
       "      <th>Logged GDP per capita</th>\n",
       "      <th>Social support</th>\n",
       "      <th>Healthy life expectancy</th>\n",
       "      <th>Freedom to make life choices</th>\n",
       "      <th>Generosity</th>\n",
       "      <th>Perceptions of corruption</th>\n",
       "    </tr>\n",
       "  </thead>\n",
       "  <tbody>\n",
       "    <tr>\n",
       "      <th>17</th>\n",
       "      <td>Czech Republic</td>\n",
       "      <td>Central and Eastern Europe</td>\n",
       "      <td>6.965</td>\n",
       "      <td>10.556</td>\n",
       "      <td>0.947</td>\n",
       "      <td>70.807</td>\n",
       "      <td>0.858</td>\n",
       "      <td>-0.208</td>\n",
       "      <td>0.868</td>\n",
       "    </tr>\n",
       "    <tr>\n",
       "      <th>28</th>\n",
       "      <td>Slovenia</td>\n",
       "      <td>Central and Eastern Europe</td>\n",
       "      <td>6.461</td>\n",
       "      <td>10.529</td>\n",
       "      <td>0.948</td>\n",
       "      <td>71.400</td>\n",
       "      <td>0.949</td>\n",
       "      <td>-0.101</td>\n",
       "      <td>0.806</td>\n",
       "    </tr>\n",
       "    <tr>\n",
       "      <th>32</th>\n",
       "      <td>Kosovo</td>\n",
       "      <td>Central and Eastern Europe</td>\n",
       "      <td>6.372</td>\n",
       "      <td>9.318</td>\n",
       "      <td>0.821</td>\n",
       "      <td>63.813</td>\n",
       "      <td>0.869</td>\n",
       "      <td>0.257</td>\n",
       "      <td>0.917</td>\n",
       "    </tr>\n",
       "    <tr>\n",
       "      <th>33</th>\n",
       "      <td>Slovakia</td>\n",
       "      <td>Central and Eastern Europe</td>\n",
       "      <td>6.331</td>\n",
       "      <td>10.369</td>\n",
       "      <td>0.936</td>\n",
       "      <td>69.201</td>\n",
       "      <td>0.766</td>\n",
       "      <td>-0.124</td>\n",
       "      <td>0.911</td>\n",
       "    </tr>\n",
       "    <tr>\n",
       "      <th>37</th>\n",
       "      <td>Lithuania</td>\n",
       "      <td>Central and Eastern Europe</td>\n",
       "      <td>6.255</td>\n",
       "      <td>10.499</td>\n",
       "      <td>0.935</td>\n",
       "      <td>67.906</td>\n",
       "      <td>0.773</td>\n",
       "      <td>-0.203</td>\n",
       "      <td>0.826</td>\n",
       "    </tr>\n",
       "    <tr>\n",
       "      <th>39</th>\n",
       "      <td>Estonia</td>\n",
       "      <td>Central and Eastern Europe</td>\n",
       "      <td>6.189</td>\n",
       "      <td>10.481</td>\n",
       "      <td>0.941</td>\n",
       "      <td>68.800</td>\n",
       "      <td>0.909</td>\n",
       "      <td>-0.106</td>\n",
       "      <td>0.527</td>\n",
       "    </tr>\n",
       "    <tr>\n",
       "      <th>43</th>\n",
       "      <td>Poland</td>\n",
       "      <td>Central and Eastern Europe</td>\n",
       "      <td>6.166</td>\n",
       "      <td>10.382</td>\n",
       "      <td>0.898</td>\n",
       "      <td>69.702</td>\n",
       "      <td>0.841</td>\n",
       "      <td>-0.165</td>\n",
       "      <td>0.735</td>\n",
       "    </tr>\n",
       "    <tr>\n",
       "      <th>45</th>\n",
       "      <td>Romania</td>\n",
       "      <td>Central and Eastern Europe</td>\n",
       "      <td>6.140</td>\n",
       "      <td>10.284</td>\n",
       "      <td>0.832</td>\n",
       "      <td>67.355</td>\n",
       "      <td>0.845</td>\n",
       "      <td>-0.219</td>\n",
       "      <td>0.938</td>\n",
       "    </tr>\n",
       "    <tr>\n",
       "      <th>47</th>\n",
       "      <td>Serbia</td>\n",
       "      <td>Central and Eastern Europe</td>\n",
       "      <td>6.078</td>\n",
       "      <td>9.787</td>\n",
       "      <td>0.873</td>\n",
       "      <td>68.600</td>\n",
       "      <td>0.778</td>\n",
       "      <td>0.002</td>\n",
       "      <td>0.835</td>\n",
       "    </tr>\n",
       "    <tr>\n",
       "      <th>50</th>\n",
       "      <td>Latvia</td>\n",
       "      <td>Central and Eastern Europe</td>\n",
       "      <td>6.032</td>\n",
       "      <td>10.315</td>\n",
       "      <td>0.927</td>\n",
       "      <td>67.100</td>\n",
       "      <td>0.715</td>\n",
       "      <td>-0.162</td>\n",
       "      <td>0.800</td>\n",
       "    </tr>\n",
       "    <tr>\n",
       "      <th>52</th>\n",
       "      <td>Hungary</td>\n",
       "      <td>Central and Eastern Europe</td>\n",
       "      <td>5.992</td>\n",
       "      <td>10.358</td>\n",
       "      <td>0.943</td>\n",
       "      <td>68.000</td>\n",
       "      <td>0.755</td>\n",
       "      <td>-0.186</td>\n",
       "      <td>0.876</td>\n",
       "    </tr>\n",
       "    <tr>\n",
       "      <th>59</th>\n",
       "      <td>Croatia</td>\n",
       "      <td>Central and Eastern Europe</td>\n",
       "      <td>5.882</td>\n",
       "      <td>10.217</td>\n",
       "      <td>0.924</td>\n",
       "      <td>70.799</td>\n",
       "      <td>0.754</td>\n",
       "      <td>-0.118</td>\n",
       "      <td>0.939</td>\n",
       "    </tr>\n",
       "    <tr>\n",
       "      <th>63</th>\n",
       "      <td>Bosnia and Herzegovina</td>\n",
       "      <td>Central and Eastern Europe</td>\n",
       "      <td>5.813</td>\n",
       "      <td>9.590</td>\n",
       "      <td>0.870</td>\n",
       "      <td>68.098</td>\n",
       "      <td>0.706</td>\n",
       "      <td>0.113</td>\n",
       "      <td>0.931</td>\n",
       "    </tr>\n",
       "    <tr>\n",
       "      <th>71</th>\n",
       "      <td>Montenegro</td>\n",
       "      <td>Central and Eastern Europe</td>\n",
       "      <td>5.581</td>\n",
       "      <td>9.940</td>\n",
       "      <td>0.858</td>\n",
       "      <td>68.699</td>\n",
       "      <td>0.708</td>\n",
       "      <td>-0.034</td>\n",
       "      <td>0.812</td>\n",
       "    </tr>\n",
       "    <tr>\n",
       "      <th>87</th>\n",
       "      <td>Bulgaria</td>\n",
       "      <td>Central and Eastern Europe</td>\n",
       "      <td>5.266</td>\n",
       "      <td>10.016</td>\n",
       "      <td>0.931</td>\n",
       "      <td>67.000</td>\n",
       "      <td>0.788</td>\n",
       "      <td>-0.096</td>\n",
       "      <td>0.932</td>\n",
       "    </tr>\n",
       "    <tr>\n",
       "      <th>92</th>\n",
       "      <td>Albania</td>\n",
       "      <td>Central and Eastern Europe</td>\n",
       "      <td>5.117</td>\n",
       "      <td>9.520</td>\n",
       "      <td>0.697</td>\n",
       "      <td>68.999</td>\n",
       "      <td>0.785</td>\n",
       "      <td>-0.030</td>\n",
       "      <td>0.901</td>\n",
       "    </tr>\n",
       "    <tr>\n",
       "      <th>93</th>\n",
       "      <td>North Macedonia</td>\n",
       "      <td>Central and Eastern Europe</td>\n",
       "      <td>5.101</td>\n",
       "      <td>9.693</td>\n",
       "      <td>0.805</td>\n",
       "      <td>65.474</td>\n",
       "      <td>0.751</td>\n",
       "      <td>0.038</td>\n",
       "      <td>0.905</td>\n",
       "    </tr>\n",
       "  </tbody>\n",
       "</table>\n",
       "</div>"
      ],
      "text/plain": [
       "              Country name          Regional indicator  Ladder score  \\\n",
       "17          Czech Republic  Central and Eastern Europe         6.965   \n",
       "28                Slovenia  Central and Eastern Europe         6.461   \n",
       "32                  Kosovo  Central and Eastern Europe         6.372   \n",
       "33                Slovakia  Central and Eastern Europe         6.331   \n",
       "37               Lithuania  Central and Eastern Europe         6.255   \n",
       "39                 Estonia  Central and Eastern Europe         6.189   \n",
       "43                  Poland  Central and Eastern Europe         6.166   \n",
       "45                 Romania  Central and Eastern Europe         6.140   \n",
       "47                  Serbia  Central and Eastern Europe         6.078   \n",
       "50                  Latvia  Central and Eastern Europe         6.032   \n",
       "52                 Hungary  Central and Eastern Europe         5.992   \n",
       "59                 Croatia  Central and Eastern Europe         5.882   \n",
       "63  Bosnia and Herzegovina  Central and Eastern Europe         5.813   \n",
       "71              Montenegro  Central and Eastern Europe         5.581   \n",
       "87                Bulgaria  Central and Eastern Europe         5.266   \n",
       "92                 Albania  Central and Eastern Europe         5.117   \n",
       "93         North Macedonia  Central and Eastern Europe         5.101   \n",
       "\n",
       "    Logged GDP per capita  Social support  Healthy life expectancy  \\\n",
       "17                 10.556           0.947                   70.807   \n",
       "28                 10.529           0.948                   71.400   \n",
       "32                  9.318           0.821                   63.813   \n",
       "33                 10.369           0.936                   69.201   \n",
       "37                 10.499           0.935                   67.906   \n",
       "39                 10.481           0.941                   68.800   \n",
       "43                 10.382           0.898                   69.702   \n",
       "45                 10.284           0.832                   67.355   \n",
       "47                  9.787           0.873                   68.600   \n",
       "50                 10.315           0.927                   67.100   \n",
       "52                 10.358           0.943                   68.000   \n",
       "59                 10.217           0.924                   70.799   \n",
       "63                  9.590           0.870                   68.098   \n",
       "71                  9.940           0.858                   68.699   \n",
       "87                 10.016           0.931                   67.000   \n",
       "92                  9.520           0.697                   68.999   \n",
       "93                  9.693           0.805                   65.474   \n",
       "\n",
       "    Freedom to make life choices  Generosity  Perceptions of corruption  \n",
       "17                         0.858      -0.208                      0.868  \n",
       "28                         0.949      -0.101                      0.806  \n",
       "32                         0.869       0.257                      0.917  \n",
       "33                         0.766      -0.124                      0.911  \n",
       "37                         0.773      -0.203                      0.826  \n",
       "39                         0.909      -0.106                      0.527  \n",
       "43                         0.841      -0.165                      0.735  \n",
       "45                         0.845      -0.219                      0.938  \n",
       "47                         0.778       0.002                      0.835  \n",
       "50                         0.715      -0.162                      0.800  \n",
       "52                         0.755      -0.186                      0.876  \n",
       "59                         0.754      -0.118                      0.939  \n",
       "63                         0.706       0.113                      0.931  \n",
       "71                         0.708      -0.034                      0.812  \n",
       "87                         0.788      -0.096                      0.932  \n",
       "92                         0.785      -0.030                      0.901  \n",
       "93                         0.751       0.038                      0.905  "
      ]
     },
     "execution_count": 80,
     "metadata": {},
     "output_type": "execute_result"
    }
   ],
   "source": [
    "df_CE_Europe = df1_2021[df1_2021[\"Regional indicator\"] == \"Central and Eastern Europe\"]\n",
    "df_CE_Europe"
   ]
  },
  {
   "cell_type": "code",
   "execution_count": 83,
   "metadata": {},
   "outputs": [
    {
     "data": {
      "text/html": [
       "<div>\n",
       "<style scoped>\n",
       "    .dataframe tbody tr th:only-of-type {\n",
       "        vertical-align: middle;\n",
       "    }\n",
       "\n",
       "    .dataframe tbody tr th {\n",
       "        vertical-align: top;\n",
       "    }\n",
       "\n",
       "    .dataframe thead th {\n",
       "        text-align: right;\n",
       "    }\n",
       "</style>\n",
       "<table border=\"1\" class=\"dataframe\">\n",
       "  <thead>\n",
       "    <tr style=\"text-align: right;\">\n",
       "      <th></th>\n",
       "      <th>Country name</th>\n",
       "      <th>Regional indicator</th>\n",
       "      <th>Ladder score</th>\n",
       "      <th>Logged GDP per capita</th>\n",
       "      <th>Social support</th>\n",
       "      <th>Healthy life expectancy</th>\n",
       "      <th>Freedom to make life choices</th>\n",
       "      <th>Generosity</th>\n",
       "      <th>Perceptions of corruption</th>\n",
       "    </tr>\n",
       "  </thead>\n",
       "  <tbody>\n",
       "    <tr>\n",
       "      <th>17</th>\n",
       "      <td>Czech Republic</td>\n",
       "      <td>Central and Eastern Europe</td>\n",
       "      <td>6.965</td>\n",
       "      <td>10.556</td>\n",
       "      <td>0.947</td>\n",
       "      <td>70.807</td>\n",
       "      <td>0.858</td>\n",
       "      <td>-0.208</td>\n",
       "      <td>0.868</td>\n",
       "    </tr>\n",
       "  </tbody>\n",
       "</table>\n",
       "</div>"
      ],
      "text/plain": [
       "      Country name          Regional indicator  Ladder score  \\\n",
       "17  Czech Republic  Central and Eastern Europe         6.965   \n",
       "\n",
       "    Logged GDP per capita  Social support  Healthy life expectancy  \\\n",
       "17                 10.556           0.947                   70.807   \n",
       "\n",
       "    Freedom to make life choices  Generosity  Perceptions of corruption  \n",
       "17                         0.858      -0.208                      0.868  "
      ]
     },
     "execution_count": 83,
     "metadata": {},
     "output_type": "execute_result"
    }
   ],
   "source": [
    "df_CE_Europe.head(1)"
   ]
  },
  {
   "cell_type": "code",
   "execution_count": 85,
   "metadata": {
    "scrolled": true
   },
   "outputs": [
    {
     "name": "stdout",
     "output_type": "stream",
     "text": [
      "<class 'pandas.core.frame.DataFrame'>\n",
      "Int64Index: 17 entries, 17 to 93\n",
      "Data columns (total 9 columns):\n",
      " #   Column                        Non-Null Count  Dtype  \n",
      "---  ------                        --------------  -----  \n",
      " 0   Country name                  17 non-null     object \n",
      " 1   Regional indicator            17 non-null     object \n",
      " 2   Ladder score                  17 non-null     float64\n",
      " 3   Logged GDP per capita         17 non-null     float64\n",
      " 4   Social support                17 non-null     float64\n",
      " 5   Healthy life expectancy       17 non-null     float64\n",
      " 6   Freedom to make life choices  17 non-null     float64\n",
      " 7   Generosity                    17 non-null     float64\n",
      " 8   Perceptions of corruption     17 non-null     float64\n",
      "dtypes: float64(7), object(2)\n",
      "memory usage: 1.3+ KB\n"
     ]
    }
   ],
   "source": [
    "df_CE_Europe.info()"
   ]
  },
  {
   "cell_type": "code",
   "execution_count": 86,
   "metadata": {},
   "outputs": [
    {
     "data": {
      "text/html": [
       "<div>\n",
       "<style scoped>\n",
       "    .dataframe tbody tr th:only-of-type {\n",
       "        vertical-align: middle;\n",
       "    }\n",
       "\n",
       "    .dataframe tbody tr th {\n",
       "        vertical-align: top;\n",
       "    }\n",
       "\n",
       "    .dataframe thead th {\n",
       "        text-align: right;\n",
       "    }\n",
       "</style>\n",
       "<table border=\"1\" class=\"dataframe\">\n",
       "  <thead>\n",
       "    <tr style=\"text-align: right;\">\n",
       "      <th></th>\n",
       "      <th>Ladder score</th>\n",
       "      <th>Logged GDP per capita</th>\n",
       "      <th>Social support</th>\n",
       "      <th>Healthy life expectancy</th>\n",
       "      <th>Freedom to make life choices</th>\n",
       "      <th>Generosity</th>\n",
       "      <th>Perceptions of corruption</th>\n",
       "    </tr>\n",
       "  </thead>\n",
       "  <tbody>\n",
       "    <tr>\n",
       "      <th>count</th>\n",
       "      <td>17.000000</td>\n",
       "      <td>17.000000</td>\n",
       "      <td>17.000000</td>\n",
       "      <td>17.000000</td>\n",
       "      <td>17.000000</td>\n",
       "      <td>17.000000</td>\n",
       "      <td>17.000000</td>\n",
       "    </tr>\n",
       "    <tr>\n",
       "      <th>mean</th>\n",
       "      <td>5.984765</td>\n",
       "      <td>10.109059</td>\n",
       "      <td>0.887412</td>\n",
       "      <td>68.338412</td>\n",
       "      <td>0.797059</td>\n",
       "      <td>-0.078941</td>\n",
       "      <td>0.850529</td>\n",
       "    </tr>\n",
       "    <tr>\n",
       "      <th>std</th>\n",
       "      <td>0.493325</td>\n",
       "      <td>0.396190</td>\n",
       "      <td>0.068297</td>\n",
       "      <td>1.909003</td>\n",
       "      <td>0.070521</td>\n",
       "      <td>0.126697</td>\n",
       "      <td>0.102474</td>\n",
       "    </tr>\n",
       "    <tr>\n",
       "      <th>min</th>\n",
       "      <td>5.101000</td>\n",
       "      <td>9.318000</td>\n",
       "      <td>0.697000</td>\n",
       "      <td>63.813000</td>\n",
       "      <td>0.706000</td>\n",
       "      <td>-0.219000</td>\n",
       "      <td>0.527000</td>\n",
       "    </tr>\n",
       "    <tr>\n",
       "      <th>25%</th>\n",
       "      <td>5.813000</td>\n",
       "      <td>9.787000</td>\n",
       "      <td>0.858000</td>\n",
       "      <td>67.355000</td>\n",
       "      <td>0.754000</td>\n",
       "      <td>-0.165000</td>\n",
       "      <td>0.812000</td>\n",
       "    </tr>\n",
       "    <tr>\n",
       "      <th>50%</th>\n",
       "      <td>6.078000</td>\n",
       "      <td>10.284000</td>\n",
       "      <td>0.924000</td>\n",
       "      <td>68.600000</td>\n",
       "      <td>0.778000</td>\n",
       "      <td>-0.106000</td>\n",
       "      <td>0.876000</td>\n",
       "    </tr>\n",
       "    <tr>\n",
       "      <th>75%</th>\n",
       "      <td>6.255000</td>\n",
       "      <td>10.382000</td>\n",
       "      <td>0.936000</td>\n",
       "      <td>69.201000</td>\n",
       "      <td>0.845000</td>\n",
       "      <td>-0.030000</td>\n",
       "      <td>0.917000</td>\n",
       "    </tr>\n",
       "    <tr>\n",
       "      <th>max</th>\n",
       "      <td>6.965000</td>\n",
       "      <td>10.556000</td>\n",
       "      <td>0.948000</td>\n",
       "      <td>71.400000</td>\n",
       "      <td>0.949000</td>\n",
       "      <td>0.257000</td>\n",
       "      <td>0.939000</td>\n",
       "    </tr>\n",
       "  </tbody>\n",
       "</table>\n",
       "</div>"
      ],
      "text/plain": [
       "       Ladder score  Logged GDP per capita  Social support  \\\n",
       "count     17.000000              17.000000       17.000000   \n",
       "mean       5.984765              10.109059        0.887412   \n",
       "std        0.493325               0.396190        0.068297   \n",
       "min        5.101000               9.318000        0.697000   \n",
       "25%        5.813000               9.787000        0.858000   \n",
       "50%        6.078000              10.284000        0.924000   \n",
       "75%        6.255000              10.382000        0.936000   \n",
       "max        6.965000              10.556000        0.948000   \n",
       "\n",
       "       Healthy life expectancy  Freedom to make life choices  Generosity  \\\n",
       "count                17.000000                     17.000000   17.000000   \n",
       "mean                 68.338412                      0.797059   -0.078941   \n",
       "std                   1.909003                      0.070521    0.126697   \n",
       "min                  63.813000                      0.706000   -0.219000   \n",
       "25%                  67.355000                      0.754000   -0.165000   \n",
       "50%                  68.600000                      0.778000   -0.106000   \n",
       "75%                  69.201000                      0.845000   -0.030000   \n",
       "max                  71.400000                      0.949000    0.257000   \n",
       "\n",
       "       Perceptions of corruption  \n",
       "count                  17.000000  \n",
       "mean                    0.850529  \n",
       "std                     0.102474  \n",
       "min                     0.527000  \n",
       "25%                     0.812000  \n",
       "50%                     0.876000  \n",
       "75%                     0.917000  \n",
       "max                     0.939000  "
      ]
     },
     "execution_count": 86,
     "metadata": {},
     "output_type": "execute_result"
    }
   ],
   "source": [
    "df_CE_Europe.describe()"
   ]
  },
  {
   "cell_type": "markdown",
   "metadata": {},
   "source": [
    "### Basic Score Explanations of the Variables:\n",
    "- **Ladder score**: Happiness score. 0 lowest, 10 maximum\n",
    "\n",
    "- **Social Support**: Perceived social support score 0 lowest, 10 maximum\n",
    "\n",
    "- **Freedom to make life choices**: Perceived freedom of expression 0 lowest, 10 maximum\n",
    "- **Perceptions of corruption**: Perceived corruption and kind of distrust in institutions  0 lowest, 10 maximum distrust"
   ]
  },
  {
   "cell_type": "code",
   "execution_count": 102,
   "metadata": {},
   "outputs": [
    {
     "data": {
      "text/plain": [
       "count    17.000000\n",
       "mean      0.850529\n",
       "std       0.102474\n",
       "min       0.527000\n",
       "25%       0.812000\n",
       "50%       0.876000\n",
       "75%       0.917000\n",
       "max       0.939000\n",
       "Name: Perceptions of corruption, dtype: float64"
      ]
     },
     "execution_count": 102,
     "metadata": {},
     "output_type": "execute_result"
    }
   ],
   "source": [
    "df_CE_Europe[\"Perceptions of corruption\"].describe()"
   ]
  },
  {
   "cell_type": "code",
   "execution_count": 103,
   "metadata": {},
   "outputs": [
    {
     "data": {
      "text/plain": [
       "(0.812, 0.917)"
      ]
     },
     "execution_count": 103,
     "metadata": {},
     "output_type": "execute_result"
    }
   ],
   "source": [
    "Q1,Q3= np.percentile(df_CE_Europe[\"Perceptions of corruption\"],[25,75])\n",
    "Q1, Q3"
   ]
  },
  {
   "cell_type": "code",
   "execution_count": 104,
   "metadata": {},
   "outputs": [
    {
     "data": {
      "text/plain": [
       "0.10499999999999998"
      ]
     },
     "execution_count": 104,
     "metadata": {},
     "output_type": "execute_result"
    }
   ],
   "source": [
    "IQR = Q3-Q1\n",
    "IQR"
   ]
  },
  {
   "cell_type": "code",
   "execution_count": 105,
   "metadata": {},
   "outputs": [
    {
     "data": {
      "text/plain": [
       "0.10499999999999998"
      ]
     },
     "execution_count": 105,
     "metadata": {},
     "output_type": "execute_result"
    }
   ],
   "source": [
    "stats.iqr(df_CE_Europe[\"Perceptions of corruption\"])"
   ]
  },
  {
   "cell_type": "code",
   "execution_count": 106,
   "metadata": {},
   "outputs": [
    {
     "data": {
      "text/plain": [
       "0.6545000000000001"
      ]
     },
     "execution_count": 106,
     "metadata": {},
     "output_type": "execute_result"
    }
   ],
   "source": [
    "minimum = Q1-1.5*IQR\n",
    "minimum"
   ]
  },
  {
   "cell_type": "code",
   "execution_count": 107,
   "metadata": {},
   "outputs": [
    {
     "data": {
      "text/plain": [
       "1.0745"
      ]
     },
     "execution_count": 107,
     "metadata": {},
     "output_type": "execute_result"
    }
   ],
   "source": [
    "maximum = Q3+1.5*IQR\n",
    "maximum"
   ]
  },
  {
   "cell_type": "code",
   "execution_count": 108,
   "metadata": {},
   "outputs": [
    {
     "data": {
      "text/html": [
       "<div>\n",
       "<style scoped>\n",
       "    .dataframe tbody tr th:only-of-type {\n",
       "        vertical-align: middle;\n",
       "    }\n",
       "\n",
       "    .dataframe tbody tr th {\n",
       "        vertical-align: top;\n",
       "    }\n",
       "\n",
       "    .dataframe thead th {\n",
       "        text-align: right;\n",
       "    }\n",
       "</style>\n",
       "<table border=\"1\" class=\"dataframe\">\n",
       "  <thead>\n",
       "    <tr style=\"text-align: right;\">\n",
       "      <th></th>\n",
       "      <th>Country name</th>\n",
       "      <th>Regional indicator</th>\n",
       "      <th>Ladder score</th>\n",
       "      <th>Logged GDP per capita</th>\n",
       "      <th>Social support</th>\n",
       "      <th>Healthy life expectancy</th>\n",
       "      <th>Freedom to make life choices</th>\n",
       "      <th>Generosity</th>\n",
       "      <th>Perceptions of corruption</th>\n",
       "    </tr>\n",
       "  </thead>\n",
       "  <tbody>\n",
       "    <tr>\n",
       "      <th>39</th>\n",
       "      <td>Estonia</td>\n",
       "      <td>Central and Eastern Europe</td>\n",
       "      <td>6.189</td>\n",
       "      <td>10.481</td>\n",
       "      <td>0.941</td>\n",
       "      <td>68.8</td>\n",
       "      <td>0.909</td>\n",
       "      <td>-0.106</td>\n",
       "      <td>0.527</td>\n",
       "    </tr>\n",
       "  </tbody>\n",
       "</table>\n",
       "</div>"
      ],
      "text/plain": [
       "   Country name          Regional indicator  Ladder score  \\\n",
       "39      Estonia  Central and Eastern Europe         6.189   \n",
       "\n",
       "    Logged GDP per capita  Social support  Healthy life expectancy  \\\n",
       "39                 10.481           0.941                     68.8   \n",
       "\n",
       "    Freedom to make life choices  Generosity  Perceptions of corruption  \n",
       "39                         0.909      -0.106                      0.527  "
      ]
     },
     "execution_count": 108,
     "metadata": {},
     "output_type": "execute_result"
    }
   ],
   "source": [
    "potential_outliers = df_CE_Europe[(df_CE_Europe[\"Perceptions of corruption\"] < minimum) | (df_CE_Europe[\"Perceptions of corruption\"] > maximum)]\n",
    "potential_outliers"
   ]
  },
  {
   "cell_type": "code",
   "execution_count": 113,
   "metadata": {},
   "outputs": [
    {
     "data": {
      "text/html": [
       "<div>\n",
       "<style scoped>\n",
       "    .dataframe tbody tr th:only-of-type {\n",
       "        vertical-align: middle;\n",
       "    }\n",
       "\n",
       "    .dataframe tbody tr th {\n",
       "        vertical-align: top;\n",
       "    }\n",
       "\n",
       "    .dataframe thead th {\n",
       "        text-align: right;\n",
       "    }\n",
       "</style>\n",
       "<table border=\"1\" class=\"dataframe\">\n",
       "  <thead>\n",
       "    <tr style=\"text-align: right;\">\n",
       "      <th></th>\n",
       "      <th>Country name</th>\n",
       "      <th>Regional indicator</th>\n",
       "      <th>Ladder score</th>\n",
       "      <th>Logged GDP per capita</th>\n",
       "      <th>Social support</th>\n",
       "      <th>Healthy life expectancy</th>\n",
       "      <th>Freedom to make life choices</th>\n",
       "      <th>Generosity</th>\n",
       "      <th>Perceptions of corruption</th>\n",
       "    </tr>\n",
       "  </thead>\n",
       "  <tbody>\n",
       "    <tr>\n",
       "      <th>17</th>\n",
       "      <td>Czech Republic</td>\n",
       "      <td>Central and Eastern Europe</td>\n",
       "      <td>6.965</td>\n",
       "      <td>10.556</td>\n",
       "      <td>0.947</td>\n",
       "      <td>70.807</td>\n",
       "      <td>0.858</td>\n",
       "      <td>-0.208</td>\n",
       "      <td>0.868</td>\n",
       "    </tr>\n",
       "  </tbody>\n",
       "</table>\n",
       "</div>"
      ],
      "text/plain": [
       "      Country name          Regional indicator  Ladder score  \\\n",
       "17  Czech Republic  Central and Eastern Europe         6.965   \n",
       "\n",
       "    Logged GDP per capita  Social support  Healthy life expectancy  \\\n",
       "17                 10.556           0.947                   70.807   \n",
       "\n",
       "    Freedom to make life choices  Generosity  Perceptions of corruption  \n",
       "17                         0.858      -0.208                      0.868  "
      ]
     },
     "execution_count": 113,
     "metadata": {},
     "output_type": "execute_result"
    }
   ],
   "source": [
    "df_CE_Europe_V=df_CE_Europe.drop([39])\n",
    "df_CE_Europe_V.head(1)"
   ]
  },
  {
   "cell_type": "code",
   "execution_count": 114,
   "metadata": {},
   "outputs": [
    {
     "data": {
      "text/html": [
       "<div>\n",
       "<style scoped>\n",
       "    .dataframe tbody tr th:only-of-type {\n",
       "        vertical-align: middle;\n",
       "    }\n",
       "\n",
       "    .dataframe tbody tr th {\n",
       "        vertical-align: top;\n",
       "    }\n",
       "\n",
       "    .dataframe thead th {\n",
       "        text-align: right;\n",
       "    }\n",
       "</style>\n",
       "<table border=\"1\" class=\"dataframe\">\n",
       "  <thead>\n",
       "    <tr style=\"text-align: right;\">\n",
       "      <th></th>\n",
       "      <th>Ladder score</th>\n",
       "      <th>Logged GDP per capita</th>\n",
       "      <th>Social support</th>\n",
       "      <th>Healthy life expectancy</th>\n",
       "      <th>Freedom to make life choices</th>\n",
       "      <th>Generosity</th>\n",
       "      <th>Perceptions of corruption</th>\n",
       "    </tr>\n",
       "  </thead>\n",
       "  <tbody>\n",
       "    <tr>\n",
       "      <th>count</th>\n",
       "      <td>16.000000</td>\n",
       "      <td>16.000000</td>\n",
       "      <td>16.000000</td>\n",
       "      <td>16.000000</td>\n",
       "      <td>16.000000</td>\n",
       "      <td>16.000000</td>\n",
       "      <td>16.000000</td>\n",
       "    </tr>\n",
       "    <tr>\n",
       "      <th>mean</th>\n",
       "      <td>5.972000</td>\n",
       "      <td>10.085813</td>\n",
       "      <td>0.884062</td>\n",
       "      <td>68.309562</td>\n",
       "      <td>0.790063</td>\n",
       "      <td>-0.077250</td>\n",
       "      <td>0.870750</td>\n",
       "    </tr>\n",
       "    <tr>\n",
       "      <th>std</th>\n",
       "      <td>0.506596</td>\n",
       "      <td>0.397028</td>\n",
       "      <td>0.069080</td>\n",
       "      <td>1.967779</td>\n",
       "      <td>0.066461</td>\n",
       "      <td>0.130654</td>\n",
       "      <td>0.061538</td>\n",
       "    </tr>\n",
       "    <tr>\n",
       "      <th>min</th>\n",
       "      <td>5.101000</td>\n",
       "      <td>9.318000</td>\n",
       "      <td>0.697000</td>\n",
       "      <td>63.813000</td>\n",
       "      <td>0.706000</td>\n",
       "      <td>-0.219000</td>\n",
       "      <td>0.735000</td>\n",
       "    </tr>\n",
       "    <tr>\n",
       "      <th>25%</th>\n",
       "      <td>5.755000</td>\n",
       "      <td>9.763500</td>\n",
       "      <td>0.851500</td>\n",
       "      <td>67.291250</td>\n",
       "      <td>0.753250</td>\n",
       "      <td>-0.170250</td>\n",
       "      <td>0.822500</td>\n",
       "    </tr>\n",
       "    <tr>\n",
       "      <th>50%</th>\n",
       "      <td>6.055000</td>\n",
       "      <td>10.250500</td>\n",
       "      <td>0.911000</td>\n",
       "      <td>68.349000</td>\n",
       "      <td>0.775500</td>\n",
       "      <td>-0.109500</td>\n",
       "      <td>0.888500</td>\n",
       "    </tr>\n",
       "    <tr>\n",
       "      <th>75%</th>\n",
       "      <td>6.274000</td>\n",
       "      <td>10.372250</td>\n",
       "      <td>0.935250</td>\n",
       "      <td>69.326250</td>\n",
       "      <td>0.842000</td>\n",
       "      <td>-0.022000</td>\n",
       "      <td>0.920500</td>\n",
       "    </tr>\n",
       "    <tr>\n",
       "      <th>max</th>\n",
       "      <td>6.965000</td>\n",
       "      <td>10.556000</td>\n",
       "      <td>0.948000</td>\n",
       "      <td>71.400000</td>\n",
       "      <td>0.949000</td>\n",
       "      <td>0.257000</td>\n",
       "      <td>0.939000</td>\n",
       "    </tr>\n",
       "  </tbody>\n",
       "</table>\n",
       "</div>"
      ],
      "text/plain": [
       "       Ladder score  Logged GDP per capita  Social support  \\\n",
       "count     16.000000              16.000000       16.000000   \n",
       "mean       5.972000              10.085813        0.884062   \n",
       "std        0.506596               0.397028        0.069080   \n",
       "min        5.101000               9.318000        0.697000   \n",
       "25%        5.755000               9.763500        0.851500   \n",
       "50%        6.055000              10.250500        0.911000   \n",
       "75%        6.274000              10.372250        0.935250   \n",
       "max        6.965000              10.556000        0.948000   \n",
       "\n",
       "       Healthy life expectancy  Freedom to make life choices  Generosity  \\\n",
       "count                16.000000                     16.000000   16.000000   \n",
       "mean                 68.309562                      0.790063   -0.077250   \n",
       "std                   1.967779                      0.066461    0.130654   \n",
       "min                  63.813000                      0.706000   -0.219000   \n",
       "25%                  67.291250                      0.753250   -0.170250   \n",
       "50%                  68.349000                      0.775500   -0.109500   \n",
       "75%                  69.326250                      0.842000   -0.022000   \n",
       "max                  71.400000                      0.949000    0.257000   \n",
       "\n",
       "       Perceptions of corruption  \n",
       "count                  16.000000  \n",
       "mean                    0.870750  \n",
       "std                     0.061538  \n",
       "min                     0.735000  \n",
       "25%                     0.822500  \n",
       "50%                     0.888500  \n",
       "75%                     0.920500  \n",
       "max                     0.939000  "
      ]
     },
     "execution_count": 114,
     "metadata": {},
     "output_type": "execute_result"
    }
   ],
   "source": [
    "df_CE_Europe_V.describe()"
   ]
  },
  {
   "cell_type": "code",
   "execution_count": 115,
   "metadata": {},
   "outputs": [
    {
     "data": {
      "text/plain": [
       "array([[ 0.24336994, -0.01243562],\n",
       "       [-0.01243562,  0.01050101]])"
      ]
     },
     "execution_count": 115,
     "metadata": {},
     "output_type": "execute_result"
    }
   ],
   "source": [
    "np.cov(df_CE_Europe[\"Ladder score\"],df_CE_Europe[\"Perceptions of corruption\"])"
   ]
  },
  {
   "cell_type": "code",
   "execution_count": 136,
   "metadata": {},
   "outputs": [
    {
     "data": {
      "text/plain": [
       "-0.24599045658333557"
      ]
     },
     "execution_count": 136,
     "metadata": {},
     "output_type": "execute_result"
    }
   ],
   "source": [
    "df_CE_Europe.corr()[\"Ladder score\"][\"Perceptions of corruption\"]\n",
    "# negatif yönde bir etkleşim var "
   ]
  },
  {
   "cell_type": "code",
   "execution_count": 137,
   "metadata": {},
   "outputs": [
    {
     "data": {
      "text/html": [
       "<div>\n",
       "<style scoped>\n",
       "    .dataframe tbody tr th:only-of-type {\n",
       "        vertical-align: middle;\n",
       "    }\n",
       "\n",
       "    .dataframe tbody tr th {\n",
       "        vertical-align: top;\n",
       "    }\n",
       "\n",
       "    .dataframe thead th {\n",
       "        text-align: right;\n",
       "    }\n",
       "</style>\n",
       "<table border=\"1\" class=\"dataframe\">\n",
       "  <thead>\n",
       "    <tr style=\"text-align: right;\">\n",
       "      <th></th>\n",
       "      <th>Ladder score</th>\n",
       "      <th>Logged GDP per capita</th>\n",
       "      <th>Social support</th>\n",
       "      <th>Healthy life expectancy</th>\n",
       "      <th>Freedom to make life choices</th>\n",
       "      <th>Generosity</th>\n",
       "      <th>Perceptions of corruption</th>\n",
       "    </tr>\n",
       "  </thead>\n",
       "  <tbody>\n",
       "    <tr>\n",
       "      <th>Ladder score</th>\n",
       "      <td>1.000000</td>\n",
       "      <td>0.560664</td>\n",
       "      <td>0.582957</td>\n",
       "      <td>0.333319</td>\n",
       "      <td>0.518679</td>\n",
       "      <td>-0.276712</td>\n",
       "      <td>-0.245990</td>\n",
       "    </tr>\n",
       "    <tr>\n",
       "      <th>Logged GDP per capita</th>\n",
       "      <td>0.560664</td>\n",
       "      <td>1.000000</td>\n",
       "      <td>0.775892</td>\n",
       "      <td>0.597408</td>\n",
       "      <td>0.318199</td>\n",
       "      <td>-0.881543</td>\n",
       "      <td>-0.428930</td>\n",
       "    </tr>\n",
       "    <tr>\n",
       "      <th>Social support</th>\n",
       "      <td>0.582957</td>\n",
       "      <td>0.775892</td>\n",
       "      <td>1.000000</td>\n",
       "      <td>0.389284</td>\n",
       "      <td>0.158672</td>\n",
       "      <td>-0.507258</td>\n",
       "      <td>-0.318341</td>\n",
       "    </tr>\n",
       "    <tr>\n",
       "      <th>Healthy life expectancy</th>\n",
       "      <td>0.333319</td>\n",
       "      <td>0.597408</td>\n",
       "      <td>0.389284</td>\n",
       "      <td>1.000000</td>\n",
       "      <td>0.217689</td>\n",
       "      <td>-0.550233</td>\n",
       "      <td>-0.230517</td>\n",
       "    </tr>\n",
       "    <tr>\n",
       "      <th>Freedom to make life choices</th>\n",
       "      <td>0.518679</td>\n",
       "      <td>0.318199</td>\n",
       "      <td>0.158672</td>\n",
       "      <td>0.217689</td>\n",
       "      <td>1.000000</td>\n",
       "      <td>-0.084180</td>\n",
       "      <td>-0.410780</td>\n",
       "    </tr>\n",
       "    <tr>\n",
       "      <th>Generosity</th>\n",
       "      <td>-0.276712</td>\n",
       "      <td>-0.881543</td>\n",
       "      <td>-0.507258</td>\n",
       "      <td>-0.550233</td>\n",
       "      <td>-0.084180</td>\n",
       "      <td>1.000000</td>\n",
       "      <td>0.220205</td>\n",
       "    </tr>\n",
       "    <tr>\n",
       "      <th>Perceptions of corruption</th>\n",
       "      <td>-0.245990</td>\n",
       "      <td>-0.428930</td>\n",
       "      <td>-0.318341</td>\n",
       "      <td>-0.230517</td>\n",
       "      <td>-0.410780</td>\n",
       "      <td>0.220205</td>\n",
       "      <td>1.000000</td>\n",
       "    </tr>\n",
       "  </tbody>\n",
       "</table>\n",
       "</div>"
      ],
      "text/plain": [
       "                              Ladder score  Logged GDP per capita  \\\n",
       "Ladder score                      1.000000               0.560664   \n",
       "Logged GDP per capita             0.560664               1.000000   \n",
       "Social support                    0.582957               0.775892   \n",
       "Healthy life expectancy           0.333319               0.597408   \n",
       "Freedom to make life choices      0.518679               0.318199   \n",
       "Generosity                       -0.276712              -0.881543   \n",
       "Perceptions of corruption        -0.245990              -0.428930   \n",
       "\n",
       "                              Social support  Healthy life expectancy  \\\n",
       "Ladder score                        0.582957                 0.333319   \n",
       "Logged GDP per capita               0.775892                 0.597408   \n",
       "Social support                      1.000000                 0.389284   \n",
       "Healthy life expectancy             0.389284                 1.000000   \n",
       "Freedom to make life choices        0.158672                 0.217689   \n",
       "Generosity                         -0.507258                -0.550233   \n",
       "Perceptions of corruption          -0.318341                -0.230517   \n",
       "\n",
       "                              Freedom to make life choices  Generosity  \\\n",
       "Ladder score                                      0.518679   -0.276712   \n",
       "Logged GDP per capita                             0.318199   -0.881543   \n",
       "Social support                                    0.158672   -0.507258   \n",
       "Healthy life expectancy                           0.217689   -0.550233   \n",
       "Freedom to make life choices                      1.000000   -0.084180   \n",
       "Generosity                                       -0.084180    1.000000   \n",
       "Perceptions of corruption                        -0.410780    0.220205   \n",
       "\n",
       "                              Perceptions of corruption  \n",
       "Ladder score                                  -0.245990  \n",
       "Logged GDP per capita                         -0.428930  \n",
       "Social support                                -0.318341  \n",
       "Healthy life expectancy                       -0.230517  \n",
       "Freedom to make life choices                  -0.410780  \n",
       "Generosity                                     0.220205  \n",
       "Perceptions of corruption                      1.000000  "
      ]
     },
     "execution_count": 137,
     "metadata": {},
     "output_type": "execute_result"
    }
   ],
   "source": [
    "df_CE_Europe.corr()"
   ]
  },
  {
   "cell_type": "code",
   "execution_count": 141,
   "metadata": {},
   "outputs": [
    {
     "data": {
      "text/plain": [
       "<AxesSubplot:xlabel='Perceptions of corruption', ylabel='Ladder score'>"
      ]
     },
     "execution_count": 141,
     "metadata": {},
     "output_type": "execute_result"
    },
    {
     "data": {
      "image/png": "[encoded data removed]",
      "text/plain": [
       "<Figure size 432x288 with 1 Axes>"
      ]
     },
     "metadata": {
      "needs_background": "light"
     },
     "output_type": "display_data"
    }
   ],
   "source": [
    "sns.scatterplot(data=df_CE_Europe,y=\"Ladder score\",x=\"Perceptions of corruption\")"
   ]
  },
  {
   "cell_type": "code",
   "execution_count": null,
   "metadata": {},
   "outputs": [],
   "source": [
    "#aykırı değerler olmadan 8-9-10. sorular"
   ]
  },
  {
   "cell_type": "code",
   "execution_count": 143,
   "metadata": {},
   "outputs": [
    {
     "data": {
      "text/plain": [
       "array([[ 0.25664   , -0.00858427],\n",
       "       [-0.00858427,  0.00378687]])"
      ]
     },
     "execution_count": 143,
     "metadata": {},
     "output_type": "execute_result"
    }
   ],
   "source": [
    "np.cov(df_CE_Europe_V[\"Ladder score\"],df_CE_Europe_V[\"Perceptions of corruption\"])"
   ]
  },
  {
   "cell_type": "code",
   "execution_count": 144,
   "metadata": {},
   "outputs": [
    {
     "data": {
      "text/plain": [
       "-0.27536010587821025"
      ]
     },
     "execution_count": 144,
     "metadata": {},
     "output_type": "execute_result"
    }
   ],
   "source": [
    "df_CE_Europe_V.corr()[\"Ladder score\"][\"Perceptions of corruption\"]\n",
    "# negatif yönde bir etkleşim var "
   ]
  },
  {
   "cell_type": "code",
   "execution_count": 145,
   "metadata": {},
   "outputs": [
    {
     "data": {
      "text/html": [
       "<div>\n",
       "<style scoped>\n",
       "    .dataframe tbody tr th:only-of-type {\n",
       "        vertical-align: middle;\n",
       "    }\n",
       "\n",
       "    .dataframe tbody tr th {\n",
       "        vertical-align: top;\n",
       "    }\n",
       "\n",
       "    .dataframe thead th {\n",
       "        text-align: right;\n",
       "    }\n",
       "</style>\n",
       "<table border=\"1\" class=\"dataframe\">\n",
       "  <thead>\n",
       "    <tr style=\"text-align: right;\">\n",
       "      <th></th>\n",
       "      <th>Ladder score</th>\n",
       "      <th>Logged GDP per capita</th>\n",
       "      <th>Social support</th>\n",
       "      <th>Healthy life expectancy</th>\n",
       "      <th>Freedom to make life choices</th>\n",
       "      <th>Generosity</th>\n",
       "      <th>Perceptions of corruption</th>\n",
       "    </tr>\n",
       "  </thead>\n",
       "  <tbody>\n",
       "    <tr>\n",
       "      <th>Ladder score</th>\n",
       "      <td>1.000000</td>\n",
       "      <td>0.554392</td>\n",
       "      <td>0.576516</td>\n",
       "      <td>0.329186</td>\n",
       "      <td>0.523573</td>\n",
       "      <td>-0.272808</td>\n",
       "      <td>-0.275360</td>\n",
       "    </tr>\n",
       "    <tr>\n",
       "      <th>Logged GDP per capita</th>\n",
       "      <td>0.554392</td>\n",
       "      <td>1.000000</td>\n",
       "      <td>0.765034</td>\n",
       "      <td>0.601330</td>\n",
       "      <td>0.247616</td>\n",
       "      <td>-0.896167</td>\n",
       "      <td>-0.411408</td>\n",
       "    </tr>\n",
       "    <tr>\n",
       "      <th>Social support</th>\n",
       "      <td>0.576516</td>\n",
       "      <td>0.765034</td>\n",
       "      <td>1.000000</td>\n",
       "      <td>0.385379</td>\n",
       "      <td>0.085003</td>\n",
       "      <td>-0.507363</td>\n",
       "      <td>-0.270159</td>\n",
       "    </tr>\n",
       "    <tr>\n",
       "      <th>Healthy life expectancy</th>\n",
       "      <td>0.329186</td>\n",
       "      <td>0.601330</td>\n",
       "      <td>0.385379</td>\n",
       "      <td>1.000000</td>\n",
       "      <td>0.211039</td>\n",
       "      <td>-0.548700</td>\n",
       "      <td>-0.309871</td>\n",
       "    </tr>\n",
       "    <tr>\n",
       "      <th>Freedom to make life choices</th>\n",
       "      <td>0.523573</td>\n",
       "      <td>0.247616</td>\n",
       "      <td>0.085003</td>\n",
       "      <td>0.211039</td>\n",
       "      <td>1.000000</td>\n",
       "      <td>-0.067682</td>\n",
       "      <td>-0.146977</td>\n",
       "    </tr>\n",
       "    <tr>\n",
       "      <th>Generosity</th>\n",
       "      <td>-0.272808</td>\n",
       "      <td>-0.896167</td>\n",
       "      <td>-0.507363</td>\n",
       "      <td>-0.548700</td>\n",
       "      <td>-0.067682</td>\n",
       "      <td>1.000000</td>\n",
       "      <td>0.302168</td>\n",
       "    </tr>\n",
       "    <tr>\n",
       "      <th>Perceptions of corruption</th>\n",
       "      <td>-0.275360</td>\n",
       "      <td>-0.411408</td>\n",
       "      <td>-0.270159</td>\n",
       "      <td>-0.309871</td>\n",
       "      <td>-0.146977</td>\n",
       "      <td>0.302168</td>\n",
       "      <td>1.000000</td>\n",
       "    </tr>\n",
       "  </tbody>\n",
       "</table>\n",
       "</div>"
      ],
      "text/plain": [
       "                              Ladder score  Logged GDP per capita  \\\n",
       "Ladder score                      1.000000               0.554392   \n",
       "Logged GDP per capita             0.554392               1.000000   \n",
       "Social support                    0.576516               0.765034   \n",
       "Healthy life expectancy           0.329186               0.601330   \n",
       "Freedom to make life choices      0.523573               0.247616   \n",
       "Generosity                       -0.272808              -0.896167   \n",
       "Perceptions of corruption        -0.275360              -0.411408   \n",
       "\n",
       "                              Social support  Healthy life expectancy  \\\n",
       "Ladder score                        0.576516                 0.329186   \n",
       "Logged GDP per capita               0.765034                 0.601330   \n",
       "Social support                      1.000000                 0.385379   \n",
       "Healthy life expectancy             0.385379                 1.000000   \n",
       "Freedom to make life choices        0.085003                 0.211039   \n",
       "Generosity                         -0.507363                -0.548700   \n",
       "Perceptions of corruption          -0.270159                -0.309871   \n",
       "\n",
       "                              Freedom to make life choices  Generosity  \\\n",
       "Ladder score                                      0.523573   -0.272808   \n",
       "Logged GDP per capita                             0.247616   -0.896167   \n",
       "Social support                                    0.085003   -0.507363   \n",
       "Healthy life expectancy                           0.211039   -0.548700   \n",
       "Freedom to make life choices                      1.000000   -0.067682   \n",
       "Generosity                                       -0.067682    1.000000   \n",
       "Perceptions of corruption                        -0.146977    0.302168   \n",
       "\n",
       "                              Perceptions of corruption  \n",
       "Ladder score                                  -0.275360  \n",
       "Logged GDP per capita                         -0.411408  \n",
       "Social support                                -0.270159  \n",
       "Healthy life expectancy                       -0.309871  \n",
       "Freedom to make life choices                  -0.146977  \n",
       "Generosity                                     0.302168  \n",
       "Perceptions of corruption                      1.000000  "
      ]
     },
     "execution_count": 145,
     "metadata": {},
     "output_type": "execute_result"
    }
   ],
   "source": [
    "df_CE_Europe_V.corr()"
   ]
  },
  {
   "cell_type": "code",
   "execution_count": 147,
   "metadata": {},
   "outputs": [
    {
     "data": {
      "text/plain": [
       "<AxesSubplot:xlabel='Perceptions of corruption', ylabel='Ladder score'>"
      ]
     },
     "execution_count": 147,
     "metadata": {},
     "output_type": "execute_result"
    },
    {
     "data": {
      "image/png": "[encoded data removed]",
      "text/plain": [
       "<Figure size 432x288 with 1 Axes>"
      ]
     },
     "metadata": {
      "needs_background": "light"
     },
     "output_type": "display_data"
    }
   ],
   "source": [
    "sns.scatterplot(data=df_CE_Europe_V,y=\"Ladder score\",x=\"Perceptions of corruption\")"
   ]
  },
  {
   "cell_type": "code",
   "execution_count": null,
   "metadata": {},
   "outputs": [],
   "source": []
  }
 ],
 "metadata": {
  "kernelspec": {
   "display_name": "Python 3",
   "language": "python",
   "name": "python3"
  },
  "language_info": {
   "codemirror_mode": {
    "name": "ipython",
    "version": 3
   },
   "file_extension": ".py",
   "mimetype": "text/x-python",
   "name": "python",
   "nbconvert_exporter": "python",
   "pygments_lexer": "ipython3",
   "version": "3.8.5"
  }
 },
 "nbformat": 4,
 "nbformat_minor": 5
}
